{
 "cells": [
  {
   "cell_type": "markdown",
   "metadata": {},
   "source": [
    "# Bucle While"
   ]
  },
  {
   "cell_type": "markdown",
   "metadata": {},
   "source": [
    "## Ejercicio 1"
   ]
  },
  {
   "cell_type": "markdown",
   "metadata": {},
   "source": [
    "Escribir un programa que lea del teclado carácter a carácter. La lectura de caracteres se termina con `.` . El programa debe mostrar el número de veces que se ha introducido el carácter `\"a\"`."
   ]
  },
  {
   "cell_type": "code",
   "execution_count": null,
   "metadata": {},
   "outputs": [],
   "source": [
    "# Inicializar la variable contador a 0.\n",
    "contador = 0\n",
    "\n",
    "# Pedir un caracter\n",
    "cadena = input(\"Introduce una cadena de caracteres terminada en `.`: \")\n",
    "\n",
    "# Mientras el caracter leído sea distinto de \".\", se analiza el caracter leído\n",
    "# de tal modo de que si es \"a\" se incrementa el contador. Seguidamente se pide el\n",
    "# siguiente caracter.\n",
    "while cadena != \".\":\n",
    "    if cadena == \"a\":\n",
    "        contador = contador + 1\n",
    "    cadena = input(\"INTRODUCE UN CARACTER (. PARA FINALIZAR): \")\n",
    "\n",
    "# Mostrar el valor de contador\n",
    "print (\"El caracter 'a' aparece\", contador, \"veces\")"
   ]
  },
  {
   "cell_type": "markdown",
   "metadata": {},
   "source": [
    "## Ejercicio 2"
   ]
  },
  {
   "cell_type": "markdown",
   "metadata": {},
   "source": [
    "Escribir un programa que solicite un número entero `n` mientras que éste no sea positivo y que muestre el dato proporcionado."
   ]
  },
  {
   "cell_type": "code",
   "execution_count": null,
   "metadata": {},
   "outputs": [],
   "source": []
  },
  {
   "cell_type": "markdown",
   "metadata": {},
   "source": [
    "## Ejercicio 3"
   ]
  },
  {
   "cell_type": "markdown",
   "metadata": {},
   "source": [
    "Escribir un programa que lea del teclado número a número. La lectura de números termina con un número negativo. El programa debe mostrar la media aritmética de los números introducidos."
   ]
  },
  {
   "cell_type": "code",
   "execution_count": null,
   "metadata": {},
   "outputs": [],
   "source": [
    "# leer un número positivo\n",
    "n = int(input(\"Introduce un número >= 0, un número negativo para finalizar: \"))\n",
    "\n",
    "\n",
    "# inicializar varibles suma y contador a 0\n",
    "suma = 0\n",
    "contador = 0\n",
    "\n",
    "# mientras el número leído no sea negativo\n",
    "while n >= 0:\n",
    "    suma = suma + n\n",
    "    contador = contador + 1\n",
    "    # se lee un nuevo número\n",
    "    n = int(input(\"Introduce un número >= 0, un número negativo para finalizar: \"))\n",
    "\n",
    "# una vez se acaba el proceso de lectura de números,\n",
    "# se imprime la media aritmética, si existe\n",
    "if contador != 0:\n",
    "    print (\"La media aritmética de los números leídos es:\", suma / contador)\n",
    "else:\n",
    "    print (\"No se ha introducido ningún número\")\n",
    "    "
   ]
  },
  {
   "cell_type": "markdown",
   "metadata": {},
   "source": [
    "## Ejercicio 4"
   ]
  },
  {
   "cell_type": "markdown",
   "metadata": {},
   "source": [
    "Escribir un programa que lea del teclado número a número. La lectura de números termina con un número negativo. El programa debe mostrar la media aritmética de los números pares leídos y la media aritmética de los números impares leídos."
   ]
  },
  {
   "cell_type": "code",
   "execution_count": null,
   "metadata": {},
   "outputs": [],
   "source": [
    "# leer un número positivo\n",
    "n = int(input(\"Introduce un número >= 0, un número negativo para finalizar: \"));\n",
    "\n",
    "\n",
    "# inicializar varibles suma y contador a 0\n",
    "suma_par = 0\n",
    "suma_impar = 0\n",
    "contador_par = 0\n",
    "contador_impar = 0\n",
    "\n",
    "# mientras el número leído no sea negativo\n",
    "while n >= 0:\n",
    "    if n % 2 == 0:\n",
    "        suma_par = suma_par + n\n",
    "        contador_par = contador_par + 1\n",
    "    else:\n",
    "        suma_impar = suma_impar + n\n",
    "        contador_impar = contador_impar + 1\n",
    "    # se lee un nuevo número\n",
    "    n = int(input(\"Introduce un número >= 0, un número negativo para finalizar: \"));\n",
    "\n",
    "# una vez se acaba el proceso de lectura de números,\n",
    "# se imprimen la medias aritméticas, si existen\n",
    "if contador_par != 0:\n",
    "    print (\"La media aritmética de los números pares leídos es:\", suma_par / contador_par)\n",
    "else:\n",
    "    print (\"No se ha introducido ningún número par\")\n",
    "if contador_impar != 0:\n",
    "    print (\"La media aritmética de los números impares leídos es:\", suma_impar / contador_impar)\n",
    "else:\n",
    "    print (\"No se ha introducido ningún número impar\")"
   ]
  },
  {
   "cell_type": "markdown",
   "metadata": {},
   "source": [
    "## Ejercicio 5 "
   ]
  },
  {
   "cell_type": "markdown",
   "metadata": {},
   "source": [
    "Dado un número natural n, escribe un programa para calcular la parte entera de la raíz cuadrada de n y muestre en resultado en la forma:\n",
    "\n",
    "`La parte entera de la raíz cuadrada de 38 es: 6`"
   ]
  },
  {
   "cell_type": "code",
   "execution_count": null,
   "metadata": {},
   "outputs": [],
   "source": [
    "# Pedir un número mayor que 0.\n",
    "n = int(input(\"Introduce un número (>0): \"))\n",
    "\n",
    "# Si raiz es la parte entera de la raíz cuadrada de n, entonces: raiz**2 <= n < (raiz+1)**2\n",
    "# por tanto, hay que buscar el primer entero no negativo para el que se cumpla que el cuadrado\n",
    "# del siguiente entero a él es mayor que n.\n",
    "\n",
    "# Inicializar la variable raiz\n",
    "raiz = 0\n",
    "\n",
    "# Condición de parada (raiz+1)**2>n\n",
    "while (raiz + 1)**2 <= n:\n",
    "    raiz = raiz + 1\n",
    "\n",
    "# Mostrar resultado\n",
    "print (\"La parte entera de la raíz cuadrada de\", n, \"es:\", raiz)"
   ]
  },
  {
   "cell_type": "markdown",
   "metadata": {},
   "source": [
    "## Ejercicio 6"
   ]
  },
  {
   "cell_type": "markdown",
   "metadata": {},
   "source": [
    "Dados dos enteros $a\\geq0$ y $b>0$, escribe un programa que calcule el cociente y el resto de su división entera utilizando para ello el método de restas sucesivas y mostrar el resultado en la forma:\n",
    "\n",
    "**Metodo de restas sucesivas**\n",
    "\n",
    "Mientras que el resto sea mayor o igual que el divisor b\n",
    "- se disminuye resto en b unidades\n",
    "- se incrementa en una unidad la variable cociente\n",
    "\n",
    "\n",
    "`Cociente: 17 // 3 = 5`\n",
    "\n",
    "`Resto: 17 % 3 = 2`"
   ]
  },
  {
   "cell_type": "code",
   "execution_count": null,
   "metadata": {},
   "outputs": [],
   "source": [
    "# Pedir un número mayor o igual que 0.\n",
    "a = int(input(\"INTRODUCE EL DIVIDENDO (>=0): \"))\n",
    "# Pedir un número mayor que 0.\n",
    "b = int(input(\"INTRODUCE EL DIVISOR (>0): \"))\n",
    "\n",
    "# Inicializar la variable cociente a 0 y resto a a\n",
    "cociente = 0\n",
    "resto = a\n",
    "\n",
    "# Bucle while realizar la división por restas sucesivas\n",
    "\n",
    "while resto >= b:\n",
    "    resto = resto - b\n",
    "    cociente = cociente + 1\n",
    "\n",
    "# Mostrar a, b, cociente y resto\n",
    "print (\"Cociente:\", a, \"/\", b, \"=\", cociente)\n",
    "print (\"Resto:\", a, \"%\", b, \"=\", resto)"
   ]
  },
  {
   "cell_type": "markdown",
   "metadata": {},
   "source": [
    "## Ejercicio 7"
   ]
  },
  {
   "cell_type": "markdown",
   "metadata": {},
   "source": [
    "Escribe un programa que lea por teclado enteros positivos número a número y proporcione el mayor de ellos y la posición en la que éste se introdujo. La lectura de números terminará si se introduceel valor `0`.\n",
    "\n",
    "Ejemplo de salida para la entrada: `100, 25, 36, 596, 3, 15, 0`\n",
    "\n",
    "`El mayor número es 596 y se proporcionó en la posición 4`"
   ]
  },
  {
   "cell_type": "code",
   "execution_count": null,
   "metadata": {},
   "outputs": [],
   "source": [
    "# Leer el primer número como cadena de caracteres\n",
    "numero = int(input(\"Número entero positivo (0 para terminar): \"))\n",
    "\n",
    "# Inicializar el maximo y el contador de datos de entrada\n",
    "maximo = 0\n",
    "contador = 0\n",
    "\n",
    "\n",
    "while numero != 0: # Condición de parada numero == 0\n",
    "    contador = contador + 1 # Aumento contador de posición\n",
    "    if numero > maximo: # Compruebo si el numero es mayor que el máximo almacenado\n",
    "        maximo = numero # Numero máximo\n",
    "        pos_maximo = contador #Posicion del maximo\n",
    "\n",
    "    numero = int(input(\"Número entero positivo (0 para terminar): \")) # Leer otro número como cadena de caracteres\n",
    "\n",
    "if contador == 0:\n",
    "    print (\"No se ha introducido ningún número\")\n",
    "else:\n",
    "    print (\"El mayor número es\", maximo, \"y se proporcionó en la posición\", pos_maximo)"
   ]
  },
  {
   "cell_type": "markdown",
   "metadata": {},
   "source": [
    "## Ejercicio 8"
   ]
  },
  {
   "cell_type": "markdown",
   "metadata": {},
   "source": [
    "Dado un número entero $n\\geq0$, escribe un programa que imprima sus cifras de la menos a la más significativa.\n",
    "\n",
    "Ejemplo de salida del programa para la entrada: `7249`:\n",
    "Las cifras del número 7249 de la menos a la más significativa son: `9 4 2 7`"
   ]
  },
  {
   "cell_type": "code",
   "execution_count": null,
   "metadata": {},
   "outputs": [],
   "source": [
    "# Pedir un número mayor o igual que 0.\n",
    "n = int(input(\"INTRODUCE UN NÚMERO (>=0): \"))\n",
    "\n",
    "print (\"Las cifras del número\", n, \", de la menos a la más significativa, son:\", end=\" \")\n",
    "\n",
    "# Bucle while para extraer las cifras del número n\n",
    "while n != 0:\n",
    "    print (n % 10, end=\" \")\n",
    "    n = n // 10"
   ]
  },
  {
   "cell_type": "markdown",
   "metadata": {},
   "source": [
    "## Ejercicio 9 "
   ]
  },
  {
   "cell_type": "markdown",
   "metadata": {},
   "source": [
    "Dado un número natural umbral, escribe un programa que muestre los términos de la sucesión de Fibonacci. El primer término de dicha sucesión es `0`, el segundo es `1`.\n",
    "\n",
    "Sucesión de Fibonacci: `0, 1, 1, 2, 3, 5, 8, 13, 21, 34, 55, …`"
   ]
  },
  {
   "cell_type": "code",
   "execution_count": null,
   "metadata": {},
   "outputs": [],
   "source": []
  },
  {
   "cell_type": "markdown",
   "metadata": {},
   "source": [
    "## Ejercicio 10"
   ]
  },
  {
   "cell_type": "markdown",
   "metadata": {},
   "source": [
    "Dados dos números enteros n $(n\\geq0)$ y a $(a>0)$ encontrar, si existe, el menor entero `x` del intervalo `[0, n]` para el que se cumpla lo siguiente: La diferencia entre las sumas de los valores enteros de los intervalos `[n-x, n]` y `[0, x]` coincide con `a`."
   ]
  },
  {
   "cell_type": "code",
   "execution_count": null,
   "metadata": {},
   "outputs": [],
   "source": [
    "# Pedir un número n mayor o igual que 0.\n",
    "n = int(input(\"Introduce el número n (>=0): \"))\n",
    "\n",
    "# Pedir un número a mayor o igual que 0.\n",
    "a = int(input(\"Introduce el número a (>0): \"))\n",
    "\n",
    "# La primera posible solución sería 0, por lo que hay que calcular la sumas de [0, 0] y [n, n]\n",
    "# enteros positivos\n",
    "\n",
    "# Búsqueda del valor x\n",
    "x = 0\n",
    "sumaIzq = 0\n",
    "sumaDer = n\n",
    "# Condición de parada : sumaDer - sumaIzq == a or x == n\n",
    "while sumaDer - sumaIzq != a and x != n:\n",
    "    x = x + 1\n",
    "    sumaIzq = sumaIzq + x\n",
    "    sumaDer = sumaDer + n - x\n",
    "    \n",
    "if sumaDer - sumaIzq == a:\n",
    "    print (\"El número buscado es:\", x)\n",
    "else:\n",
    "    print (\"El número buscado no existe\")"
   ]
  },
  {
   "cell_type": "markdown",
   "metadata": {},
   "source": [
    "## Ejercicio 11"
   ]
  },
  {
   "cell_type": "markdown",
   "metadata": {},
   "source": [
    "Dado un número entero $n (n\\geq0)$, escribir un programa para obtener la cadena de caracteres de unos y ceros correspondiente a su representación en binario sin utilizar la función predefinida bin."
   ]
  },
  {
   "cell_type": "code",
   "execution_count": null,
   "metadata": {},
   "outputs": [],
   "source": [
    "# Obtener el entero n\n",
    "n = int(input(\"Número (>=0): \"))\n",
    "x = n       # para no modificar la variable n que contiene la entrada al programa\n",
    "cad = \"\"    # cadena donde se obtendrá el resultado\n",
    "\n",
    "# Condición de parada x == 0\n",
    "while x != 0:\n",
    "    # añadir '0' o '1' según sea x divisible o no por 2, respectivamente\n",
    "    # el nuevo dígito ('0' o '1') tiene que añadirse por la izquierda\n",
    "    # (es un dígito más significativo que los previamente obtenidos)\n",
    "    if x % 2 == 0:\n",
    "        cad = \"0\" + cad\n",
    "    else:\n",
    "        cad = \"1\" + cad\n",
    "    x = x // 2 # Este operador es división de enteros.\n",
    "    \n",
    "print (\"El número\", n, \"en binario es:\", cad)"
   ]
  },
  {
   "cell_type": "markdown",
   "metadata": {},
   "source": [
    "## Ejercicio 12"
   ]
  },
  {
   "cell_type": "markdown",
   "metadata": {},
   "source": [
    "Dado un número natural n, escribe un algoritmo para determinar si éste es o no primo (el 1\n",
    "no es un número primo)."
   ]
  },
  {
   "cell_type": "code",
   "execution_count": null,
   "metadata": {},
   "outputs": [],
   "source": [
    "# Leer un número natural\n",
    "n = int(input(\"Número natural (n>=1): \"))\n",
    "\n",
    "if n==1:\n",
    "    print (n, \"no es primo\")\n",
    "\n",
    "else:\n",
    "    # Buscar un divisor distinto de 1 y de n\n",
    "\n",
    "    divisor = 2  # primer divisor posible\n",
    "    \n",
    "    resto = n % divisor\n",
    "    while resto != 0:  # Condición de parada: que divisor sea un divisor de n; es decir, n % divisor == 0\n",
    "        divisor = divisor + 1  # siguiente posible divisor\n",
    "        resto = n % divisor  # actualizo el resto\n",
    "    # Comprobar si el divisor encontrado es n,\n",
    "    if divisor == n:\n",
    "        print(n, \"es primo\")\n",
    "    else:\n",
    "        print(n, \"no es primo\")"
   ]
  }
 ],
 "metadata": {
  "kernelspec": {
   "display_name": "Python 3",
   "language": "python",
   "name": "python3"
  },
  "language_info": {
   "name": "python",
   "version": "3.9.0 (v3.9.0:9cf6752276, Oct  5 2020, 11:29:23) \n[Clang 6.0 (clang-600.0.57)]"
  },
  "orig_nbformat": 4,
  "vscode": {
   "interpreter": {
    "hash": "aee8b7b246df8f9039afb4144a1f6fd8d2ca17a180786b69acc140d282b71a49"
   }
  }
 },
 "nbformat": 4,
 "nbformat_minor": 2
}
