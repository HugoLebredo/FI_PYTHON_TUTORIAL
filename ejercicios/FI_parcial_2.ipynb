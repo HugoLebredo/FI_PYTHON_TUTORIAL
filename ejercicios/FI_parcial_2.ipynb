{
 "cells": [
  {
   "cell_type": "markdown",
   "metadata": {},
   "source": [
    "# Parcial 2"
   ]
  },
  {
   "attachments": {},
   "cell_type": "markdown",
   "metadata": {},
   "source": [
    "1. Una función denominada **a_milisegundos** que reciba tres valores numéricos como argumentos correspondientes al tiempo de una vuelta en *minutos*, *segundos* y *milisegundos*, y devuelva un valor **entero** correspondiente al tiempo de dicha vuelta expresada en *milisegundos*."
   ]
  },
  {
   "cell_type": "code",
   "execution_count": null,
   "metadata": {},
   "outputs": [],
   "source": [
    "def a_milisegundos(min, s, ml):\n",
    "\n",
    "    tiempo = min * 60000 + s * 1000 + ml\n",
    "\n",
    "    return tiempo"
   ]
  },
  {
   "attachments": {},
   "cell_type": "markdown",
   "metadata": {},
   "source": [
    "2. Una función denominada **introducir_vuelta** sin argumentos, que lea del teclado mediante tres demandas sucesivas los *minutos*, *segundos* y *milisegundos* de una vuelta. Se controlará que los *minutos*, *segundos* y *milisegundos* seab positivos, así como que los *minutos* y *segundos*  sean menores que sesenta y los *milisegundos* menores que mil. En caso de un error en esas restricciones en algún dato de entrada volverá a demandar ese mismo dato antes de proseguir. Finalmente, devolverá el valor de la vuelta leida expresada enn milisegundos, para cuya transformación hará uso de la función definida previamente."
   ]
  },
  {
   "cell_type": "code",
   "execution_count": null,
   "metadata": {},
   "outputs": [],
   "source": [
    "def introducir_vuelta():\n",
    "    mins = int(input(\"--> Introduce minutos :\"))\n",
    "    while(mins < 0 or mins > 59):\n",
    "        mins = int(input(\"--> Introduce minutos :\"))\n",
    "    \n",
    "    s = int(input(\"--> Introduce segundos :\"))\n",
    "    while(s < 0 or s > 59):\n",
    "        s = int(input(\"-->Introduce segundos :\"))\n",
    "    \n",
    "    ms = int(input(\"--> Introduce milisegundos :\"))\n",
    "    while(ms < 0 or ms > 999):\n",
    "        ms = int(input(\"Error --> Introduce milisegundos :\"))\n",
    "\n",
    "    tiempo_vuelta = a_milisegundos(mins, s, ms)\n",
    "\n",
    "    return tiempo_vuelta"
   ]
  },
  {
   "attachments": {},
   "cell_type": "markdown",
   "metadata": {},
   "source": [
    "3. Una función denominada **transformar** que reciba un valor entero correspondiente a la medida en milisegundos de una vuelta y devuelva una lista con tres elementos reales correspondientes a la medida de dicha vuelta en *minutos*, *segundos* y *milisegundos*."
   ]
  },
  {
   "cell_type": "code",
   "execution_count": 1,
   "metadata": {},
   "outputs": [],
   "source": [
    "def transformar(ms):\n",
    "    #Creo lista vacía\n",
    "    lista = []\n",
    "    \n",
    "    #Hago conversiones\n",
    "    mins_vuelta = ms//60000\n",
    "    s_vuelta = (ms - mins_vuelta * 60000)//1000\n",
    "    ms_vuelta = (ms - mins_vuelta * 60000 - s_vuelta *1000)\n",
    "\n",
    "    #Guardo datos en lista\n",
    "    lista.append(mins_vuelta)\n",
    "    lista.append(s_vuelta)\n",
    "    lista.append(ms_vuelta)\n",
    "\n",
    "    return lista"
   ]
  },
  {
   "attachments": {},
   "cell_type": "markdown",
   "metadata": {},
   "source": [
    "4. Un programa que inicializará una lista sin elementos todavía, denominada **lista_vueltas** y preguntará al usuario en una sola ocasión si desea introducir ángulos por teclado o desde fichero (pulsando cualquier otro número)\n",
    "\n",
    "5. Si se elige por teclado:\n",
    "\n",
    "    5.1. Utilizando obligatoriamebte las funciones anteriores, deberá demandar como mínimo al usuario dos vueltas y las tratará como se indica más abajo. El proceso será iterativo; es decir, repetirá la demanda de una vuelta hasta que el usuario introduzca un valor distinto de 'S' a la pregunta por parte del programa de si desea continuar introduciendo vueltas.\n",
    "\n",
    "    5.2. El tratamiento de las vueltas consistirá en incorporar en el orden de lectura las vueltas leidas a la lista de vueltas. La lista irá acumulando todas las vueltas leidas en el proceso iterativo.\n",
    "\n",
    "6. Si se optó por leer la vueltas del fichero, se leerán desde el denominado **mis_vueltas.txt**. En él las vueltas aparecen una por línea , ya en milisegundos. Se almacenarán de manera secuencial en formato *int* en **lista_vueltas**"
   ]
  },
  {
   "cell_type": "code",
   "execution_count": 5,
   "metadata": {},
   "outputs": [],
   "source": [
    "lista_vueltas = []\n",
    "ruta_archivo = \"../data/mis_vueltas.txt\"\n",
    "\n",
    "print(\"Si desea introducir vueltas por teclado pulse 1 \\n \",\n",
    "\"si desea introducir desde fichero pulse cualquier otro numero\")\n",
    "\n",
    "opc = int(input(\"introduzca opción: \"))\n",
    "\n",
    "if opc == 1:\n",
    "    lista_vueltas.append(introducir_vuelta())\n",
    "    lista_vueltas.append(introducir_vuelta())\n",
    "    resp = input(\"¿Desea introducir otra vuelta? \")\n",
    "    while (resp != \"S\"):\n",
    "       lista_vueltas.append(introducir_vuelta())\n",
    "       resp = input(\"¿Desea introducir otra vuelta? \")\n",
    "else:\n",
    "    \n",
    "    f = open(ruta_archivo, \"r\")\n",
    "    data = f.readlines()\n",
    "    f.close()\n",
    "    \n",
    "    for vuelta in data:\n",
    "        lista_vueltas.append(int(vuelta))"
   ]
  },
  {
   "attachments": {},
   "cell_type": "markdown",
   "metadata": {},
   "source": [
    "7. Bien finalizada por decisión del usuario la inroducción de las vueltas por teclado o bien finalizada la lectura del fichero, deberá sumar todas las vueltas de la **lista_vueltas** y transformar el valor resultante a *minutos*, *segundos* y *milisegundos* utilizando la función **transformar**. Se imprimirán en pantalla dichos valores con las leyendas correspondientes."
   ]
  },
  {
   "cell_type": "code",
   "execution_count": 4,
   "metadata": {},
   "outputs": [
    {
     "name": "stdout",
     "output_type": "stream",
     "text": [
      "tiempo total: 7 mins 29 s 357 mls\n"
     ]
    }
   ],
   "source": [
    "tiempo_total = 0\n",
    "for vuelta in lista_vueltas:\n",
    "    tiempo_total += vuelta\n",
    "\n",
    "mins_totales, segs_totales, mls_totales = transformar(tiempo_total)\n",
    "\n",
    "print(\"tiempo total:\", mins_totales, \"min\", segs_totales, \"s\", mls_totales,\"ms\")"
   ]
  }
 ],
 "metadata": {
  "kernelspec": {
   "display_name": "Python 3",
   "language": "python",
   "name": "python3"
  },
  "language_info": {
   "codemirror_mode": {
    "name": "ipython",
    "version": 3
   },
   "file_extension": ".py",
   "mimetype": "text/x-python",
   "name": "python",
   "nbconvert_exporter": "python",
   "pygments_lexer": "ipython3",
   "version": "3.9.0"
  },
  "orig_nbformat": 4,
  "vscode": {
   "interpreter": {
    "hash": "aee8b7b246df8f9039afb4144a1f6fd8d2ca17a180786b69acc140d282b71a49"
   }
  }
 },
 "nbformat": 4,
 "nbformat_minor": 2
}
