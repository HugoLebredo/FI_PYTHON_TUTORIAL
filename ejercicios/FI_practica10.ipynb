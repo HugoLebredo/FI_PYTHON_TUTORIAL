{
 "cells": [
  {
   "cell_type": "markdown",
   "metadata": {},
   "source": [
    "# Listas II"
   ]
  },
  {
   "cell_type": "markdown",
   "metadata": {},
   "source": [
    "## 1 Pruebas iniciales"
   ]
  },
  {
   "cell_type": "markdown",
   "metadata": {},
   "source": [
    "Usando el intérprete python, crea una variable llamada `texto` que contenga `\"Esto es una prueba”`, y otra llamada `fecha` que contenga la cadena `\"16/10/2000\"`."
   ]
  },
  {
   "cell_type": "code",
   "execution_count": 1,
   "metadata": {},
   "outputs": [],
   "source": [
    "texto = \"Esto es una prueba\"\n",
    "fecha = \"16/10/2000\""
   ]
  },
  {
   "cell_type": "markdown",
   "metadata": {},
   "source": [
    "### 1.1 Operaciones básicas sobre cadenas"
   ]
  },
  {
   "cell_type": "markdown",
   "metadata": {},
   "source": [
    "1. Usa `len()` para averiguar la longitud del texto"
   ]
  },
  {
   "cell_type": "code",
   "execution_count": null,
   "metadata": {},
   "outputs": [],
   "source": [
    "print(len(texto))\n",
    "print(len(fecha))"
   ]
  },
  {
   "cell_type": "markdown",
   "metadata": {},
   "source": [
    "2. Usa el operador `+` para concatenar las dos variables ( `fecha` y `texto` ), con un guión separándolas y guarda el resultado en la variable `resultado`. Al final, debe contener: `“16/10/2000 – Esto es una prueba”`"
   ]
  },
  {
   "cell_type": "code",
   "execution_count": null,
   "metadata": {},
   "outputs": [],
   "source": [
    "resultado = fecha + \" - \" + texto\n",
    "print(resultado)"
   ]
  },
  {
   "cell_type": "markdown",
   "metadata": {},
   "source": [
    "3. Usa el operador `in` para averiguar si el texto contiene la palabra `“prueba”` o la palabra `“esto”` (con la `“e”` minúscula)"
   ]
  },
  {
   "cell_type": "code",
   "execution_count": null,
   "metadata": {},
   "outputs": [],
   "source": [
    "res1 = \"prueba\" in texto\n",
    "print(res1)\n",
    "\n",
    "res2 = \"esto\" in texto\n",
    "print(res2)"
   ]
  },
  {
   "cell_type": "markdown",
   "metadata": {},
   "source": [
    "4. Ejecuta `texto.split()` y observa la lista que resulta. ¿Qué hace `split()`? Prueba `texto.split(“e”)` ¿qué significa el parámetro que pasas a `split()`?"
   ]
  },
  {
   "cell_type": "code",
   "execution_count": null,
   "metadata": {},
   "outputs": [],
   "source": [
    "print(texto.split())\n",
    "\n",
    "print(texto.split(\"e\"))"
   ]
  },
  {
   "cell_type": "markdown",
   "metadata": {},
   "source": [
    "5. Usa `split()` sobre fecha para separar su contenido en tres variables `dia`, `mes` y `anyo`."
   ]
  },
  {
   "cell_type": "code",
   "execution_count": null,
   "metadata": {},
   "outputs": [],
   "source": [
    "dia, mes, anyo = fecha.split(\"/\")"
   ]
  },
  {
   "cell_type": "markdown",
   "metadata": {},
   "source": [
    "6. Usa `help(str.replace)` para averiguar cosas sobre el método replace que puedes usar sobre una cadena. Úsalo sobre la variable texto para cambiar `“es”` por `“era”`."
   ]
  },
  {
   "cell_type": "code",
   "execution_count": null,
   "metadata": {},
   "outputs": [],
   "source": [
    "help(str.replace)"
   ]
  },
  {
   "cell_type": "code",
   "execution_count": null,
   "metadata": {},
   "outputs": [],
   "source": [
    "res = texto.replace(\"es\",\"era\")\n",
    "print(res)"
   ]
  },
  {
   "cell_type": "markdown",
   "metadata": {},
   "source": [
    "### 1.2 Listas y ficheros"
   ]
  },
  {
   "cell_type": "markdown",
   "metadata": {},
   "source": [
    "7. Prepara un fichero que contenga varias líneas de texto. Abre el fichero sobre una variable `f`, mediante `f=open(\"nombre-del-fichero.txt\")`."
   ]
  },
  {
   "cell_type": "code",
   "execution_count": 29,
   "metadata": {},
   "outputs": [],
   "source": [
    "ruta = \"../data/archivo1.txt\"\n",
    "f = open(ruta)"
   ]
  },
  {
   "cell_type": "markdown",
   "metadata": {},
   "source": [
    "8. Ejecuta `datos=f.readlines()` y observa la variable `datos`. Es una lista en la que cada elemento es un `string` que contiene una línea del fichero (no olvides `f.close()` después)."
   ]
  },
  {
   "cell_type": "code",
   "execution_count": null,
   "metadata": {},
   "outputs": [],
   "source": [
    "datos = f.readlines()\n",
    "\n",
    "print(datos)\n",
    "\n",
    "f.close()"
   ]
  },
  {
   "cell_type": "markdown",
   "metadata": {},
   "source": [
    "9. Usa `len(datos)`. El resultado es el número de líneas del fichero. ¿Qué resultado te da `len(datos[0])` y qué significa?"
   ]
  },
  {
   "cell_type": "code",
   "execution_count": null,
   "metadata": {},
   "outputs": [],
   "source": [
    "print(len(datos))\n",
    "\n",
    "print(len(datos[0]))"
   ]
  },
  {
   "cell_type": "markdown",
   "metadata": {},
   "source": [
    "10. Observa `datos[0]` y verás que tiene un `\\n` al final. Este carácter representa el “retorno de carro” que hay al final de cada línea del fichero. Normalmente no lo queremos. Las cadenas tienen el método `rstrip()` que elimina todos los caracteres invisibles (espacios, retornos de carro, etc) que pueda haber al final de una cadena. No modifican la propia cadena (no pueden), sino que retornan la versión sin esos caracteres finales. Así: `linea=datos[0].rstrip()`. Si miras la variable linea, verás que ya no tiene al final el `\\n` (aunque `datos[0]` sigue teniéndolo)."
   ]
  },
  {
   "cell_type": "code",
   "execution_count": null,
   "metadata": {},
   "outputs": [],
   "source": [
    "print(datos[0])\n",
    "\n",
    "linea = datos[0].rstrip()\n",
    "\n",
    "print(linea)"
   ]
  },
  {
   "cell_type": "markdown",
   "metadata": {},
   "source": [
    "## 2 Ejercicios (40 min)"
   ]
  },
  {
   "cell_type": "markdown",
   "metadata": {},
   "source": [
    "### EJERCICIO 1. LEER UNA LISTA DE NÚMEROS DE UN FICHERO"
   ]
  },
  {
   "cell_type": "markdown",
   "metadata": {},
   "source": [
    "Descarga el fichero llamado `datos.txt`. Observa que este fichero se compone de una serie de líneas, en cada una de las cuales hay un número entero.\n",
    "\n",
    "Escribe una función que reciba como parámetro el nombre del fichero y devuelva como resultado una lista con los números leídos del fichero. Aplica la función `sum()` de python sobre esta lista para averiguar la suma de todos los datos que has leído. Debe salirte `49195`."
   ]
  },
  {
   "cell_type": "code",
   "execution_count": null,
   "metadata": {},
   "outputs": [],
   "source": [
    "def lista_str_to_int(ruta):\n",
    "\n",
    "    lista_resultado  = []\n",
    "\n",
    "    f = open(ruta,\"r\")\n",
    "    data = f.readlines()\n",
    "    f.close()\n",
    "\n",
    "    for i in data:\n",
    "        lista_resultado.append(int(i))\n",
    "    return(lista_resultado)\n",
    "    \n",
    "lista = lista_str_to_int(\"../data/datos.txt\")\n",
    "print(sum(lista))"
   ]
  },
  {
   "cell_type": "markdown",
   "metadata": {},
   "source": [
    "### EJERCICIO 2. ANALIZAR DATOS EN UN FICHERO"
   ]
  },
  {
   "cell_type": "markdown",
   "metadata": {},
   "source": [
    "Descarga el fichero llamado alumnos.txt. Contiene un listado de todos los alumnos matriculados en la asignatura “Fundamentos de Informática” en la EPI-Gijón, en el curso 2011-2012, pero por motivos de privacidad de los datos se han intercambiado aleatoriamente los apellidos y los nombres entre los alumnos.\n",
    "\n",
    "Si das un vistazo al fichero, abriéndolo con el notepad++, verás que contiene un alumno por línea, figurando en primer lugar el apellido y después, separado por coma, el nombre.\n",
    "\n",
    "Realiza los ejercicios siguientes sobre los datos de este fichero."
   ]
  },
  {
   "cell_type": "code",
   "execution_count": 48,
   "metadata": {},
   "outputs": [
    {
     "name": "stdout",
     "output_type": "stream",
     "text": [
      "['Rodriguez Gonzalez, Marcos\\n', 'Duque Perez, Alejandro\\n', 'Mendez Fernandez, Marta\\n', 'Garcia Gutierrez, Javier\\n', 'Fernandez Fernandez-Nespral, Jose\\n']\n"
     ]
    }
   ],
   "source": [
    "f = open(\"../data/alumnos.txt\",\"r\")\n",
    "data = f.readlines()\n",
    "f = f.close()\n",
    "\n",
    "print(data[0:5])"
   ]
  },
  {
   "cell_type": "markdown",
   "metadata": {},
   "source": [
    "- Escribe código python para determinar el número total de alumnos"
   ]
  },
  {
   "cell_type": "code",
   "execution_count": 41,
   "metadata": {},
   "outputs": [
    {
     "data": {
      "text/plain": [
       "898"
      ]
     },
     "execution_count": 41,
     "metadata": {},
     "output_type": "execute_result"
    }
   ],
   "source": [
    "len(data)"
   ]
  },
  {
   "cell_type": "markdown",
   "metadata": {},
   "source": [
    "- Escribe una función que reciba dos parámetros: una línea leída del fichero y un apellido de persona, y la función debe retornar “True” si cualquiera de los dos apellidos de la persona coinciden con el apellido dado. Por ejemplo:\n",
    "\n",
    "```\n",
    ">>> coincide_apellido(\"Lopez Alvarez, Andres\", \"Lopez\")\n",
    "True\n",
    ">>> coincide_apellido(\"Lopez Alvarez, Andres\", \"Suarez\")\n",
    "False\n",
    ">>> coincide_apellido(\"Lopez Alvarez, Andres\", \"Andres\")\n",
    "False\n",
    "```"
   ]
  },
  {
   "cell_type": "code",
   "execution_count": null,
   "metadata": {},
   "outputs": [],
   "source": [
    "def coincide_apellido(linea, apellido):\n",
    "    apellidos_alumno, nombre_alumno = linea.split(\",\")\n",
    "    return apellido in apellidos_alumno\n",
    "\n",
    "print(coincide_apellido(data[0],\"Gonzalez\"))\n",
    "print(coincide_apellido(data[0],\"Duque\"))"
   ]
  },
  {
   "cell_type": "markdown",
   "metadata": {},
   "source": [
    "- Usando la función anterior, determina qué porcentaje de alumnos tiene “Fernandez” como alguno de sus dos apellidos (debe salirte el `15,256%` )."
   ]
  },
  {
   "cell_type": "code",
   "execution_count": null,
   "metadata": {},
   "outputs": [],
   "source": [
    "contador = 0\n",
    "total_alumnos = len(data)\n",
    "\n",
    "for i in data:\n",
    "    check = coincide_apellido(i,\"Fernandez\")\n",
    "    if check == True:\n",
    "        contador += 1\n",
    "\n",
    "porcentaje = round(contador/total_alumnos * 100,3)\n",
    "print(porcentaje,\"%\")"
   ]
  },
  {
   "cell_type": "markdown",
   "metadata": {},
   "source": [
    "- Escribe una función que reciba como parámetro una línea del fichero y retorne un entero que indique cuántas palabras tiene el nombre. Por ejemplo:\n",
    "```\n",
    ">>> palabras_en_nombre(\"Lopez Alvarez, Andres\")\n",
    "1\n",
    ">>> palabras_en_nombre(\"Suarez Fernandez, Jose Luis\")\n",
    "2\n",
    ">>> palabras_en_nombre(\"de Marichalar y Borbon, Felipe Juan Froilan de Todos los Santos\")\n",
    "7\n",
    "```"
   ]
  },
  {
   "cell_type": "code",
   "execution_count": null,
   "metadata": {},
   "outputs": [],
   "source": [
    "def palabras_en_nombre(linea):\n",
    "    apellidos, nombre = linea.split(\", \")\n",
    "    numero_palabras = nombre.count(\" \") + 1\n",
    "    return numero_palabras\n",
    "\n",
    "print(palabras_en_nombre(data[0]))"
   ]
  },
  {
   "cell_type": "markdown",
   "metadata": {},
   "source": [
    "- Usando la función anterior, escribe un programa que cuente cuántos alumnos tienen nombre simple (1 palabra), cuántos de 2 palabras, etc. Puedes usar una lista para cada posible número de palabras, de modo que `numero_palabras[1]` por ejemplo almacene cuántos tienen nombre simple, `numero_palabras[2]` cuántos tienen 2 palabras, etc.. Puedes asumir que no habrá nadie con más de 7 palabras y por tanto darle a la lista un tamaño prefijado de 8 elementos (ya que el elemento `[0]`, aunque no lo usaremos, está ahí).\n",
    "Tu programa comenzaría poniendo **8 ceros** en esa lista, para después ir leyendo líneas del fichero y para cada una de ellas llamar a `palabras_en_nombre()` que le dirá que ese alumno tiene X palabras en su nombre, y seguidamente incrementarás `numero_palabras[X]` para contar que hay un alumno más con X palabras en su nombre.\n",
    "Al final imprimes la lista `numero_palabras` (o si prefieres, solo los elementos con valor distinto de cero). Debe salirte que hay `767` nombres simples, `120` con dos palabras, `9` con tres palabras y `2` con cuatro palabras."
   ]
  },
  {
   "cell_type": "code",
   "execution_count": null,
   "metadata": {},
   "outputs": [],
   "source": [
    "numero_palabras = [0,0,0,0,0,0,0,0]\n",
    "\n",
    "for alumno in data:\n",
    "    num = palabras_en_nombre(alumno)\n",
    "    numero_palabras[num] = numero_palabras[num] + 1\n",
    "\n",
    "print(numero_palabras)"
   ]
  },
  {
   "cell_type": "markdown",
   "metadata": {},
   "source": [
    "## 3 Ejercicio extra, opcional"
   ]
  },
  {
   "cell_type": "markdown",
   "metadata": {},
   "source": [
    "### EJERCICIO 3.IMPORTAR Y PROCESAR DATOS DE EXCEL\n",
    "\n",
    "Descarga el fichero llamado `datos-paises.xls`. Ábrelo en Excel y verás que contiene una lista de nombres de país, de número de habitantes de cada uno de ellos, y de número de teléfonos móviles2. Desde Excel guárdalo con la opción *“Guardar como…”* y elige *“CSV separado por comas”*. Eso te creará el fichero `datos-paises.csv`.\n",
    "\n",
    "Si abres dicho fichero `datos-paises.csv` con cualquier editor de texto (por ejemplo con notepad++) podrás ver que simplemente consta de una línea por cada fila de la hoja Excel, y en cada línea se han volcado los contenidos de las celdas, separados por punto y coma.\n",
    "\n",
    "Desde el editor, borra la primera línea del fichero que has generado, pues no contiene datos de ningún país, sino la cabecera de la tabla.\n",
    "\n",
    "A la vista del formato csv, escribe programas en python que te permitan:"
   ]
  },
  {
   "cell_type": "markdown",
   "metadata": {},
   "source": [
    "1. Calcular el número total de habitantes (suma de todos los países)"
   ]
  },
  {
   "cell_type": "code",
   "execution_count": null,
   "metadata": {},
   "outputs": [],
   "source": []
  },
  {
   "cell_type": "markdown",
   "metadata": {},
   "source": [
    "2. Calcular el número promedio de habitantes por país (suma de habitantes entre número de países)"
   ]
  },
  {
   "cell_type": "code",
   "execution_count": null,
   "metadata": {},
   "outputs": [],
   "source": []
  },
  {
   "cell_type": "markdown",
   "metadata": {},
   "source": [
    "3. Generar otro archivo csv que contenga la lista de países y el número promedio de teléfonos móviles por habitante de cada uno."
   ]
  },
  {
   "cell_type": "code",
   "execution_count": null,
   "metadata": {},
   "outputs": [],
   "source": []
  },
  {
   "cell_type": "markdown",
   "metadata": {},
   "source": [
    "4. Encontrar los países cuyo número de habitantes sea cercano al número promedio calculado en el paso 2 (entenderemos que es cercano si la diferencia es menor de un millón)."
   ]
  },
  {
   "cell_type": "code",
   "execution_count": null,
   "metadata": {},
   "outputs": [],
   "source": []
  },
  {
   "cell_type": "markdown",
   "metadata": {},
   "source": [
    "5. ¡Otras cosas que se te ocurran! (por ejemplo ¿cuál es el país que tiene más teléfonos móviles por habitante?)"
   ]
  },
  {
   "cell_type": "code",
   "execution_count": null,
   "metadata": {},
   "outputs": [],
   "source": []
  }
 ],
 "metadata": {
  "kernelspec": {
   "display_name": "Python 3.9.0 64-bit",
   "language": "python",
   "name": "python3"
  },
  "language_info": {
   "codemirror_mode": {
    "name": "ipython",
    "version": 3
   },
   "file_extension": ".py",
   "mimetype": "text/x-python",
   "name": "python",
   "nbconvert_exporter": "python",
   "pygments_lexer": "ipython3",
   "version": "3.9.0"
  },
  "orig_nbformat": 4,
  "vscode": {
   "interpreter": {
    "hash": "aee8b7b246df8f9039afb4144a1f6fd8d2ca17a180786b69acc140d282b71a49"
   }
  }
 },
 "nbformat": 4,
 "nbformat_minor": 2
}
