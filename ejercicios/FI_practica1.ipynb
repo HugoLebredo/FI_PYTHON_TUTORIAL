{
 "cells": [
  {
   "cell_type": "markdown",
   "metadata": {},
   "source": [
    "# Variables y expresiones"
   ]
  },
  {
   "cell_type": "markdown",
   "metadata": {},
   "source": [
    "## Ejercicio 1.- Conceptos Básicos sobre Variables\n",
    "En el intérprete de Python crea una variable llamada `a` y guardar en ella el valor `3`.\n",
    "Ahora crea una segunda variable `b` y asígnale la expresión `a + 5`.\n",
    "1. Si se evalúa o se imprime `b`, ¿cuál será su valor?\n",
    "2. Modifica el contenido de `a` asignándole el valor `7`. Después de esa asignación, ¿cuánto vale `b`? ¿Por qué?\n",
    "3. Dados los valores asignados y las operaciones hechas, ¿de qué tipo son `a` y `b`?\n",
    "4. Asigna ahora a la variable `a` el valor `5.0` y actualiza el contenido de `b` realizando de nuevo la asignación `b = a + 5`. ¿Cuánto vale `b` ahora? ¿De qué tipo es?\n",
    "5. Si escribimos en el intérprete la expresión `b = b + 1`, ¿estamos comprobando si `b` es igual a `b + 1`? ¿Qué logramos al ejecutarla?\n",
    "6. Asigna a la variable a la cadena `“Hola ”` y la variable b la cadena `“Mundo”`. ¿De qué tipo son ahora las variables? ¿Con qué función puedes saber su tipo? ¿Qué resultado se produciría al ejecutar la expresión `a + b`?"
   ]
  },
  {
   "cell_type": "code",
   "execution_count": 17,
   "metadata": {},
   "outputs": [
    {
     "name": "stdout",
     "output_type": "stream",
     "text": [
      "8\n",
      "8\n",
      "<class 'int'> <class 'int'>\n"
     ]
    }
   ],
   "source": [
    "a = 3\n",
    "b = a + 5\n",
    "\n",
    "print(b)\n",
    "\n",
    "a = 7\n",
    "\n",
    "print(b)\n",
    "\n",
    "print(type(a),type(b))\n",
    "\n"
   ]
  },
  {
   "cell_type": "markdown",
   "metadata": {},
   "source": [
    "## Ejercicio 2.- Conversión de Temperaturas\n",
    "En el intérprete de *Python* o en un fichero en el editor escribe el siguiente código. Crea una variable, llamada `C`, para guardar un valor de una temperatura en grados *Celsius*. Inicialmente debe tomar el valor `30`. Ahora crea otra variable llamada `F` y asígnale el valor de convertir a grados *Fahrenheit* la temperatura en grados *Celsius*\n",
    "que contiene `C`. Para pasar de grados *Celsius* a *Fahrenheit* debes escribir la expresión siguiente:\n",
    "\n",
    "°C a °F: Multiplica por 9, divide entre 5, después suma 32\n",
    "\n",
    "Trata de escribirlo mediante una única expresión. El resultado debe ser `86`."
   ]
  },
  {
   "cell_type": "code",
   "execution_count": 4,
   "metadata": {},
   "outputs": [
    {
     "name": "stdout",
     "output_type": "stream",
     "text": [
      "86.0\n"
     ]
    }
   ],
   "source": [
    "C = 30\n",
    "F = C * 9 / 5 + 32\n",
    "print(F)"
   ]
  },
  {
   "cell_type": "markdown",
   "metadata": {},
   "source": [
    " Ahora, haz la conversión contraria. Asigna a la variable `F` el valor `77` y calcula en `C` la temperatura en grados *Celsius*: \n",
    " \n",
    " °F a °C: Resta `32`, después multiplica por `5`, después divide entre `9`.\n",
    "\n",
    "Debes tener en cuenta la precedencia de los operadores para poder obtener el resultado correcto, `25` grados centígrados"
   ]
  },
  {
   "cell_type": "code",
   "execution_count": 3,
   "metadata": {},
   "outputs": [
    {
     "name": "stdout",
     "output_type": "stream",
     "text": [
      "25.0\n"
     ]
    }
   ],
   "source": [
    "F = 77\n",
    "C = ( F - 32 ) * 5 / 9\n",
    "print(C)"
   ]
  },
  {
   "cell_type": "markdown",
   "metadata": {},
   "source": [
    "Por último, en lugar de usar valores enteros, asigna valores reales a las variables C y F y comprueba que las expresiones de conversión siguen funcionando."
   ]
  },
  {
   "cell_type": "code",
   "execution_count": 2,
   "metadata": {},
   "outputs": [
    {
     "name": "stdout",
     "output_type": "stream",
     "text": [
      "25.0\n"
     ]
    }
   ],
   "source": [
    "F = 77.0\n",
    "C = ( F - 32 ) * 5 / 9\n",
    "print(C)"
   ]
  },
  {
   "cell_type": "markdown",
   "metadata": {},
   "source": [
    "## Ejercicio 3.- Movimiento Uniformemente Acelerado\n",
    "La ecuación básica que rige un movimiento uniformemente acelerado viene dada por la expresión:\n",
    "\n",
    "$V_f = V_i + a \\cdot t$\n",
    "\n",
    "donde $V_f$ es la velocidad final, $V_i$ es la velocidad inicial, $a$ es la aceleración y $t$ indica el tiempo. Escribe las otras tres expresiones que permiten calcular $V_i$, $a$ y $t$ en función del resto de variables. Para comprobar que son correctas puedes usar el siguiente ejemplo:\n",
    "\n",
    "- $V_i = 20m/s$\n",
    "- $a = 9.8m/s$\n",
    "- $t = 30seg$\n",
    "- $V_f = 314m/s$\n",
    "\n",
    "La idea es que asignes el valor de las otras tres variables y calcules el valor de la cuarta variable mediante la expresión correspondiente."
   ]
  },
  {
   "cell_type": "code",
   "execution_count": 8,
   "metadata": {},
   "outputs": [
    {
     "name": "stdout",
     "output_type": "stream",
     "text": [
      "V_f: 314.0\n",
      "V_i: 20.0\n",
      "a: 9.8\n",
      "t: 29.999999999999996\n"
     ]
    }
   ],
   "source": [
    "#calcular la V_f \n",
    "V_i = 20\n",
    "a = 9.8\n",
    "t = 30\n",
    "V_f = V_i + a * t\n",
    "print(\"V_f:\",V_f)\n",
    "\n",
    "#calcular la V_i\n",
    "V_f = 314\n",
    "a = 9.8\n",
    "t = 30\n",
    "V_i = V_f - a * t\n",
    "print(\"V_i:\",V_i)\n",
    "\n",
    "#calcular la a\n",
    "V_i = 20\n",
    "t = 30\n",
    "V_f = 314\n",
    "a = float( V_f - V_i ) / t\n",
    "print(\"a:\",a)\n",
    "\n",
    "#calcular el t\n",
    "V_i = 20\n",
    "a = 9.8\n",
    "V_f = 314\n",
    "t = ( V_f - V_i ) / a\n",
    "print(\"t:\",t)"
   ]
  },
  {
   "cell_type": "markdown",
   "metadata": {},
   "source": [
    "## Ejercicio 4.- Operadores Relacionales y Lógicos\n",
    "1. Define dos variables enteras, `a` y `b`, y asígnales dos valores cualesquiera. Ahora asigna a una variable llamada `c` una **expresión lógica** que compruebe si *“`a` está comprendida entre `5` y `30` (ambos inclusive) y `b` es un número par”*.\n",
    "\n",
    "Para saber si un número es múltiplo de otro (en este caso múltiplo de dos, o lo que es lo mismo par) debes comprobar si el resto al dividir ambos números escero. Asigna diferentes pares de valores a las variables `a` y `b` y comprueba que laexpresión escrita es correcta. "
   ]
  },
  {
   "cell_type": "code",
   "execution_count": 2,
   "metadata": {},
   "outputs": [
    {
     "name": "stdout",
     "output_type": "stream",
     "text": [
      "True\n"
     ]
    }
   ],
   "source": [
    "a = 15\n",
    "b = 8\n",
    "\n",
    "c = ( 5 <= a <= 30 and b % 2 == 0 )\n",
    "\n",
    "print(c)"
   ]
  },
  {
   "cell_type": "markdown",
   "metadata": {},
   "source": [
    "2. Obtén el tipo de `c` usando `type`"
   ]
  },
  {
   "cell_type": "code",
   "execution_count": 4,
   "metadata": {},
   "outputs": [
    {
     "name": "stdout",
     "output_type": "stream",
     "text": [
      "<class 'bool'>\n"
     ]
    }
   ],
   "source": [
    "print(type(c))"
   ]
  },
  {
   "cell_type": "markdown",
   "metadata": {},
   "source": [
    "3. Asigna a otra variable d la expresión contraria, es decir, aplicando las leyes de De Morgan (Tema 1) que *“`a` no está en comprendida entre `5` y `30` o `b` no es par”*.\n",
    "Hazlo de dos formas:\n",
    "- Primero usando el operador de negación (`not`) con la expresión del apartado 1.\n",
    "- Escribiendo la expresión indicada en este apartado.\n",
    "\n",
    "Cambia los valores de `a` y `b` y comprueba en cada caso que las expresiones de asignación de `c` y `d` producen siempre valores opuestos."
   ]
  },
  {
   "cell_type": "code",
   "execution_count": 5,
   "metadata": {},
   "outputs": [
    {
     "name": "stdout",
     "output_type": "stream",
     "text": [
      "False\n",
      "False\n"
     ]
    }
   ],
   "source": [
    "#Forma 1\n",
    "d = not( 5 <= a <= 30 and b % 2 == 0 )\n",
    "print(d)\n",
    "\n",
    "#Forma 2\n",
    "d = ( a < 5 or a > 30 or b % 2 != 0 )\n",
    "print(d) "
   ]
  },
  {
   "cell_type": "markdown",
   "metadata": {},
   "source": [
    "## Ejercicio 5.- Datos Representados en Cadenas\n",
    "1. Crea dos variables: `base` que contenga el valor entero `9` y `altura` el valor `5`. Supuesto que ambas variables representan mediante **enteros** la base y la altura, respectivamente, de un triángulo, calcular en otra variable llamada `area`, que debe ser de tipo `str`, el texto que representa el área del triángulo. El resultado debería ser la **cadena** `22.5`. Debes usar una única expresión."
   ]
  },
  {
   "cell_type": "code",
   "execution_count": 6,
   "metadata": {},
   "outputs": [
    {
     "name": "stdout",
     "output_type": "stream",
     "text": [
      "22.5\n"
     ]
    }
   ],
   "source": [
    "base = 9\n",
    "altura = 5\n",
    "\n",
    "area = str((base * altura)/2)\n",
    "\n",
    "print(area)"
   ]
  },
  {
   "cell_type": "markdown",
   "metadata": {},
   "source": [
    "2. Crea una variable llamada `mensaje` que sea igual a la **concatenación** del texto *“El area del triangulo es igual a”* y el valor de la variable area."
   ]
  },
  {
   "cell_type": "code",
   "execution_count": 8,
   "metadata": {},
   "outputs": [],
   "source": [
    "mensaje = \"El area del triangulo es igual a \" + area"
   ]
  },
  {
   "cell_type": "markdown",
   "metadata": {},
   "source": [
    "3. Ahora al revés. Cambia el valor de las variables `base` y `altura` de forma que ahora guarden las cadenas `5` y `7` respectivamente. Después calcula en la variable area, que ahora debe ser de **tipo float**, el área de dicho triángulo. El resultado debe ser `17.5`. Actualiza el valor de la variable `mensaje`. ¿Debes cambiar algo en la expresión usada anteriormente?"
   ]
  },
  {
   "cell_type": "code",
   "execution_count": 12,
   "metadata": {},
   "outputs": [
    {
     "name": "stdout",
     "output_type": "stream",
     "text": [
      "17.5\n"
     ]
    }
   ],
   "source": [
    "base = '5'\n",
    "altura = '7'\n",
    "\n",
    "area = (float(base) * float(altura))/2\n",
    "\n",
    "print(area)"
   ]
  },
  {
   "cell_type": "markdown",
   "metadata": {},
   "source": [
    "## Ejercicio 6.- Año Bisiesto\n",
    "Crea una variable `anyo` entera y asígnale el valor `2011`. Crea otra variable llamada `bisiesto` y asígnale una expresión lógica que sirva para determinar si el año almacenado en la variable `anyo` corresponde a un año bisiesto o no.\n",
    "\n",
    "Un año es bisiesto de acuerdo con la siguiente definición:\n",
    "\n",
    "*“Un año es bisiesto si es divisible entre 4, excepto el último de cada siglo (aquel divisible por 100), salvo que sea divisible por 400.”*\n",
    "\n",
    "Ejemplos: \n",
    "- años bisiestos (2000, 2012, 2024)\n",
    "- no bisiestos (2011, 2013, 2100) "
   ]
  },
  {
   "cell_type": "code",
   "execution_count": 13,
   "metadata": {},
   "outputs": [
    {
     "name": "stdout",
     "output_type": "stream",
     "text": [
      "False\n"
     ]
    }
   ],
   "source": [
    "anyo = 2010\n",
    "\n",
    "bisiesto = (anyo % 4 == 0 and (anyo % 100 != 0 or anyo % 400 == 0))\n",
    "\n",
    "print(bisiesto)"
   ]
  },
  {
   "cell_type": "markdown",
   "metadata": {},
   "source": [
    "## Ejercicio adicional 1.\n",
    "\n",
    "Conversor de Unidades de Peso: Escribe las expresiones que permiten hacer las conversiones entre kilogramos y libras sabiendo que cada **libra** equivale a `0.45359237` kilogramos. Crea una variable para cada unidad y comprueba que las conversiones se realizan correctamente en ambos sentidos. "
   ]
  },
  {
   "cell_type": "code",
   "execution_count": 16,
   "metadata": {},
   "outputs": [
    {
     "name": "stdout",
     "output_type": "stream",
     "text": [
      "6.613867865546327\n",
      "9.071847400000001\n"
     ]
    }
   ],
   "source": [
    "# Kg => Libra\n",
    "kilogramos = 3\n",
    "libras = kilogramos / 0.45359237 \n",
    "print(libras)\n",
    "\n",
    "# Libra => Kg\n",
    "libras = 20\n",
    "kilogramos = libras * 0.45359237 \n",
    "print(kilogramos)"
   ]
  },
  {
   "cell_type": "markdown",
   "metadata": {},
   "source": [
    "## Ejercicio adicional 2.\n",
    "Movimiento Uniformemente Acelerado 2: Haz las mismas tareas que en el **Ejercicio 3**, pero con la expresión:\n",
    "\n",
    "$D = V_i \\cdot t + 1/2 \\cdot a \\cdot t^2$\n",
    "\n",
    "donde $D$ es la distancia recorrida. Escribe las otras tres expresiones que permiten calcular $V_i$, a y $t$ en función del resto de variables. Para comprobar que son correctas puedes usar el siguiente ejemplo:\n",
    "\n",
    "- $V_i = 20 m/s$\n",
    "- $a = 9.8 m/s$\n",
    "- $t = 30 seg.$\n",
    "- D = 5010 m$\n",
    "\n",
    "Nota: para el cálculo del tiempo debes tener en cuenta que la expresión esultante es una ecuación de segundo grado. Toma la raíz positiva. "
   ]
  },
  {
   "cell_type": "code",
   "execution_count": 15,
   "metadata": {},
   "outputs": [
    {
     "name": "stdout",
     "output_type": "stream",
     "text": [
      "D: 5010.0\n",
      "V_i: 20.0\n",
      "a: 9.8\n",
      "t: 29.999999999999996\n"
     ]
    }
   ],
   "source": [
    "#calcular la D \n",
    "V_i = 20\n",
    "a = 9.8\n",
    "t = 30\n",
    "D = V_i * t + 0.5 * a * t**2\n",
    "print(\"D:\",D)\n",
    "\n",
    "#Calcular la V_i\n",
    "D = 5010\n",
    "a = 9.8\n",
    "t = 30\n",
    "V_i = ( D - 0.5 * a * t**2 ) / t \n",
    "print(\"V_i:\",V_i)\n",
    "\n",
    "#Calcular la a\n",
    "V_i = 20\n",
    "t = 30\n",
    "D = 5010\n",
    "a = ( D - V_i * t ) / ( 0.5 * t**2 )  \n",
    "print(\"a:\",a)\n",
    "\n",
    "#Calcular el t\n",
    "V_i = 20\n",
    "a = 9.8\n",
    "D = 5010\n",
    "t = ( - V_i + ( V_i**2 - 4 * 0.5 * a * -D )**0.5 ) / a \n",
    "print(\"t:\",t)"
   ]
  }
 ],
 "metadata": {
  "kernelspec": {
   "display_name": "Python 3",
   "language": "python",
   "name": "python3"
  },
  "language_info": {
   "codemirror_mode": {
    "name": "ipython",
    "version": 3
   },
   "file_extension": ".py",
   "mimetype": "text/x-python",
   "name": "python",
   "nbconvert_exporter": "python",
   "pygments_lexer": "ipython3",
   "version": "3.9.0"
  },
  "orig_nbformat": 4,
  "vscode": {
   "interpreter": {
    "hash": "aee8b7b246df8f9039afb4144a1f6fd8d2ca17a180786b69acc140d282b71a49"
   }
  }
 },
 "nbformat": 4,
 "nbformat_minor": 2
}
