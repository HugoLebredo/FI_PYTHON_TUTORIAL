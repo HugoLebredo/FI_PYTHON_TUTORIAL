{
 "cells": [
  {
   "cell_type": "markdown",
   "metadata": {},
   "source": [
    "# Funciones II"
   ]
  },
  {
   "cell_type": "markdown",
   "metadata": {},
   "source": [
    "## Ejercicio 1"
   ]
  },
  {
   "cell_type": "markdown",
   "metadata": {},
   "source": [
    "Define una función que retorne el factorial de un **número entero no negativo** dado y escribe un programa que solicite un número entero no negativo y muestre en pantalla éste y su factorial."
   ]
  },
  {
   "cell_type": "code",
   "execution_count": null,
   "metadata": {},
   "outputs": [],
   "source": [
    "def factorial (n):\n",
    "    \"\"\"Retorna el factorial del número entero no negativo dado\"\"\"\n",
    "    resultado = 1\n",
    "    for i in range(1, n+1, 1):\n",
    "        resultado = resultado * i\n",
    "    return resultado\n",
    "\n",
    "# programa principal\n",
    "num = int(input(\"Número entero (>= 0): \"))\n",
    "print(\"El factorial de\", num, \"es\", factorial(num))"
   ]
  },
  {
   "cell_type": "markdown",
   "metadata": {},
   "source": [
    "## Ejercicio 2"
   ]
  },
  {
   "cell_type": "markdown",
   "metadata": {},
   "source": [
    "Define una función que retorne la suma de todos los divisores propios positivos de un número dado, sin incluirse él mismo. Utiliza ésta para escribir un programa que solicite por teclado un número entero positivo mayor que uno y muestre en la pantalla si éste es o no perfecto.\n",
    "\n",
    "**Nota**. Un número entero positivo es perfecto cuando es igual a la suma de todos sus divisores propios positivos."
   ]
  },
  {
   "cell_type": "code",
   "execution_count": null,
   "metadata": {},
   "outputs": [],
   "source": [
    "def suma_divisores_propios (n):\n",
    "    \"\"\"Retorna la suma de los divisores propios del número dado,\n",
    "    excluido el mismo\"\"\"\n",
    "    suma = 0\n",
    "    for k in range(1, n, 1):\n",
    "        if n % k == 0:      # k es divisor de n\n",
    "            suma = suma + k # acumular k\n",
    "    return suma\n",
    "\n",
    "# programa principal\n",
    "num = int(input(\"Número entero positivo (> 1): \"))\n",
    "if suma_divisores_propios(num) == num:\n",
    "    print(\"El número\", num, \"es un número perfecto.\")\n",
    "else:\n",
    "    print(\"El número\", num, \"no es un número perfecto.\")"
   ]
  },
  {
   "cell_type": "markdown",
   "metadata": {},
   "source": [
    "## Ejercicio 3"
   ]
  },
  {
   "cell_type": "markdown",
   "metadata": {},
   "source": [
    "Utilizando la función definida en el ejercicio anterior, escribe un programa que muestre en pantalla la secuencia de números perfectos comprendidos entre 2 y un número entero positivo `umbral` que se solicitará por teclado.\n",
    "\n",
    "Salida esperada para `umbral = 10000 -> 6 28 496 8128`"
   ]
  },
  {
   "cell_type": "code",
   "execution_count": null,
   "metadata": {},
   "outputs": [],
   "source": [
    "def suma_divisores_propios (n):\n",
    "    \"\"\"Retorna la suma de los divisores propios\n",
    "    del número dado, excluido el mismo\"\"\"\n",
    "    suma = 0\n",
    "    for k in range(1, n, 1):\n",
    "        if n % k == 0:      # k es divisor de n\n",
    "            suma = suma + k # acumular k\n",
    "    return suma\n",
    "\n",
    "# programa principal\n",
    "umbral = int(input(\"Valor del umbral (> 1): \"))\n",
    "i = 2\n",
    "while i <= umbral:\n",
    "    if suma_divisores_propios(i) == i:  # i coincide con la suma de sus\n",
    "        print(i)                        # divisores propios (es perfecto)\n",
    "    i = i + 1"
   ]
  },
  {
   "cell_type": "markdown",
   "metadata": {},
   "source": [
    "## Ejercicio 4"
   ]
  },
  {
   "cell_type": "markdown",
   "metadata": {},
   "source": [
    "Define una función, `es_primo`, que retorne cierto si un número entero dado es primo y falso en caso contrario. En la definición, se considerará que el número `1` no es primo.\n",
    "\n",
    "Escribe un programa que de forma repetitiva solicite por teclado un número entero mayor que cero y muestre en pantalla si es o no primo, en la forma: `El número 100 no es primo`.\n",
    "\n",
    "El programa deberá finalizar cuando el dato que se introduzca por teclado no cumpla el requisito de ser un entero mayor que cero."
   ]
  },
  {
   "cell_type": "code",
   "execution_count": null,
   "metadata": {},
   "outputs": [],
   "source": [
    "def es_primo (n):\n",
    "    \"\"\"Retorna True si el entero dado es primo y\n",
    "    False en caso contrario\"\"\"\n",
    "    if n == 1:\n",
    "        primo = False\n",
    "    else:\n",
    "        i = 2\n",
    "        while n % i != 0:  # mientras i no divida a n\n",
    "            i=i+1          # incrementar i\n",
    "        # se ha encontrado un divisor, el i\n",
    "        # si éste es el propio número n, entonces es primo\n",
    "        primo = i == n\n",
    "    return primo\n",
    "\n",
    "# programa principal\n",
    "num = int(input(\"Número entero (n > 0): \"))\n",
    "\n",
    "while num > 0:\n",
    "    if es_primo(num):\n",
    "        print(\"El número\", num, \"es primo.\")\n",
    "    else:\n",
    "        print(\"El número\", num, \"no es primo.\")\n",
    "    num = int(input(\"Número entero (<=0 para finalizar): \"))"
   ]
  }
 ],
 "metadata": {
  "kernelspec": {
   "display_name": "Python 3",
   "language": "python",
   "name": "python3"
  },
  "language_info": {
   "name": "python",
   "version": "3.9.0 (v3.9.0:9cf6752276, Oct  5 2020, 11:29:23) \n[Clang 6.0 (clang-600.0.57)]"
  },
  "orig_nbformat": 4,
  "vscode": {
   "interpreter": {
    "hash": "aee8b7b246df8f9039afb4144a1f6fd8d2ca17a180786b69acc140d282b71a49"
   }
  }
 },
 "nbformat": 4,
 "nbformat_minor": 2
}
