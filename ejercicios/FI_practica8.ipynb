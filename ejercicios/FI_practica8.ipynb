{
 "cells": [
  {
   "cell_type": "markdown",
   "metadata": {},
   "source": [
    "# Funciones II"
   ]
  },
  {
   "cell_type": "markdown",
   "metadata": {},
   "source": [
    "## Ejercicio 1"
   ]
  },
  {
   "cell_type": "markdown",
   "metadata": {},
   "source": [
    "Define una función que retorne el factorial de un **número entero no negativo** dado y escribe un programa que solicite un número entero no negativo y muestre en pantalla éste y su factorial."
   ]
  },
  {
   "cell_type": "code",
   "execution_count": null,
   "metadata": {},
   "outputs": [],
   "source": [
    "def factorial (n):\n",
    "    \"\"\"Retorna el factorial del número entero no negativo dado\"\"\"\n",
    "    resultado = 1\n",
    "    for i in range(1, n+1, 1):\n",
    "        resultado = resultado * i\n",
    "    return resultado\n",
    "\n",
    "# programa principal\n",
    "num = int(input(\"Número entero (>= 0): \"))\n",
    "print(\"El factorial de\", num, \"es\", factorial(num))"
   ]
  },
  {
   "cell_type": "markdown",
   "metadata": {},
   "source": [
    "## Ejercicio 2"
   ]
  },
  {
   "cell_type": "markdown",
   "metadata": {},
   "source": [
    "Define una función que retorne la suma de todos los divisores propios positivos de un número dado, sin incluirse él mismo. Utiliza ésta para escribir un programa que solicite por teclado un número entero positivo mayor que uno y muestre en la pantalla si éste es o no perfecto.\n",
    "\n",
    "**Nota**. Un número entero positivo es perfecto cuando es igual a la suma de todos sus divisores propios positivos."
   ]
  },
  {
   "cell_type": "code",
   "execution_count": null,
   "metadata": {},
   "outputs": [],
   "source": [
    "def suma_divisores_propios (n):\n",
    "    \"\"\"Retorna la suma de los divisores propios del número dado,\n",
    "    excluido el mismo\"\"\"\n",
    "    suma = 0\n",
    "    for k in range(1, n, 1):\n",
    "        if n % k == 0:      # k es divisor de n\n",
    "            suma = suma + k # acumular k\n",
    "    return suma\n",
    "\n",
    "# programa principal\n",
    "num = int(input(\"Número entero positivo (> 1): \"))\n",
    "if suma_divisores_propios(num) == num:\n",
    "    print(\"El número\", num, \"es un número perfecto.\")\n",
    "else:\n",
    "    print(\"El número\", num, \"no es un número perfecto.\")"
   ]
  },
  {
   "cell_type": "markdown",
   "metadata": {},
   "source": [
    "## Ejercicio 3"
   ]
  },
  {
   "cell_type": "markdown",
   "metadata": {},
   "source": [
    "Utilizando la función definida en el ejercicio anterior, escribe un programa que muestre en pantalla la secuencia de números perfectos comprendidos entre 2 y un número entero positivo `umbral` que se solicitará por teclado.\n",
    "\n",
    "Salida esperada para `umbral = 10000 -> 6 28 496 8128`"
   ]
  },
  {
   "cell_type": "code",
   "execution_count": null,
   "metadata": {},
   "outputs": [],
   "source": [
    "def suma_divisores_propios (n):\n",
    "    \"\"\"Retorna la suma de los divisores propios\n",
    "    del número dado, excluido el mismo\"\"\"\n",
    "    suma = 0\n",
    "    for k in range(1, n, 1):\n",
    "        if n % k == 0:      # k es divisor de n\n",
    "            suma = suma + k # acumular k\n",
    "    return suma\n",
    "\n",
    "# programa principal\n",
    "umbral = int(input(\"Valor del umbral (> 1): \"))\n",
    "i = 2\n",
    "while i <= umbral:\n",
    "    if suma_divisores_propios(i) == i:  # i coincide con la suma de sus\n",
    "        print(i)                        # divisores propios (es perfecto)\n",
    "    i = i + 1"
   ]
  },
  {
   "cell_type": "markdown",
   "metadata": {},
   "source": [
    "## Ejercicio 4"
   ]
  },
  {
   "cell_type": "markdown",
   "metadata": {},
   "source": [
    "Define una función, `es_primo`, que retorne cierto si un número entero dado es primo y falso en caso contrario. En la definición, se considerará que el número `1` no es primo.\n",
    "\n",
    "Escribe un programa que de forma repetitiva solicite por teclado un número entero mayor que cero y muestre en pantalla si es o no primo, en la forma: `El número 100 no es primo`.\n",
    "\n",
    "El programa deberá finalizar cuando el dato que se introduzca por teclado no cumpla el requisito de ser un entero mayor que cero."
   ]
  },
  {
   "cell_type": "code",
   "execution_count": null,
   "metadata": {},
   "outputs": [],
   "source": [
    "def es_primo (n):\n",
    "    \"\"\"Retorna True si el entero dado es primo y\n",
    "    False en caso contrario\"\"\"\n",
    "    if n == 1:\n",
    "        primo = False\n",
    "    else:\n",
    "        i = 2\n",
    "        while n % i != 0:  # mientras i no divida a n\n",
    "            i=i+1          # incrementar i\n",
    "        # se ha encontrado un divisor, el i\n",
    "        # si éste es el propio número n, entonces es primo\n",
    "        primo = i == n\n",
    "    return primo\n",
    "\n",
    "# programa principal\n",
    "num = int(input(\"Número entero (n > 0): \"))\n",
    "\n",
    "while num > 0:\n",
    "    if es_primo(num):\n",
    "        print(\"El número\", num, \"es primo.\")\n",
    "    else:\n",
    "        print(\"El número\", num, \"no es primo.\")\n",
    "    num = int(input(\"Número entero (<=0 para finalizar): \"))"
   ]
  },
  {
   "cell_type": "markdown",
   "metadata": {},
   "source": [
    "## Ejercicio 5"
   ]
  },
  {
   "cell_type": "markdown",
   "metadata": {},
   "source": [
    "Define  una  función  para  obtener  el  término  enésimo  de  la  sucesiónde números enteros definida como:\n",
    "\n",
    "A continuación, escribe un programa que solicite por teclado los valores enteros de los parámetros  (primer  elemento  de  la  sucesión), c y d,  así  como  el  número  entero no negativo del término (k) a calcular y,utilizandola función definida, muestre en pantalla el valor de dicho término."
   ]
  },
  {
   "cell_type": "code",
   "execution_count": null,
   "metadata": {},
   "outputs": [],
   "source": [
    "def sucesion (n, b, c, d):\n",
    "    \"\"\"Retorna el enésimo término de la sucesión de números\n",
    "    enteros definida como: Ak = c * Ak-1 + d (k= 1, 2,...),\n",
    "    donde b es el término inicial A0\"\"\"\n",
    "    termino = b # primer término\n",
    "    for k in range(0, n+1, 1):\n",
    "        termino = c * termino + d   # termino = c * anterior + d\n",
    "    return termino\n",
    "\n",
    "# programa principal\n",
    "inicial = int(input(\"Término inicial (entero) ? \"))\n",
    "coef_c = int(input(\"Coeficiente c (entero) ? \"))\n",
    "coef_d = int(input(\"Coeficiente d (entero) ? \"))\n",
    "num = int(input(\"Número de término (>=0) ? \"))\n",
    "\n",
    "print(\"Término\", num, \"de la sucesión:\", sucesion(num, inicial, coef_c, coef_d))"
   ]
  },
  {
   "cell_type": "markdown",
   "metadata": {},
   "source": [
    "## Ejercicio 6"
   ]
  },
  {
   "cell_type": "markdown",
   "metadata": {},
   "source": [
    "Define  una  función  para  que  dados  dos  números  enteros  positivos,  el segundo   en   el   rango `[2,   16]`,   retorne   una   cadena de   caracteres   con   los   dígitos correspondientes al primer número expresado en la base del segundo. En el caso de que la base sea mayor que `10`, se utilizarán también como dígitos los caracteres alfabéticos necesarios por orden y comenzando por la letra `‘A’`. Existen funciones predefinidas en Python que pueden serte de utilidad. ¡Búscalas y utilízalas!"
   ]
  },
  {
   "cell_type": "markdown",
   "metadata": {},
   "source": [
    "Escribe  un  programa  que  solicite  por  teclado  un  número  entero  no  negativo  y  muestre éste en pantalla en las bases: `2`, `8`, `10` y `16`. "
   ]
  },
  {
   "cell_type": "code",
   "execution_count": 1,
   "metadata": {},
   "outputs": [],
   "source": [
    "def digito (n):\n",
    "    \"\"\"Retorna como carácter el digito correspondiente a n.\n",
    "    Para valores de n>9 se utilizan caracteres alfabéticos, A, B, ...\"\"\"\n",
    "    if n < 10: # digito numérico\n",
    "        d = chr(ord('0') + n)\n",
    "    else: # digito alfabético\n",
    "        d = chr(ord('A') + n - 10)\n",
    "    return d\n",
    "\n",
    "def conversor_base (n, base):\n",
    "    \"\"\"Retorna una cadena de caracteres con los digitos del\n",
    "    entero n expresado en la base dada (entre 2 y 16)\"\"\"\n",
    "    if n == 0:\n",
    "        cadena = \"0\"\n",
    "    else:\n",
    "        cadena = \"\"\n",
    "    while n != 0:\n",
    "        cadena = digito(n % base) + cadena\n",
    "        n = n // base    # se quiere división entera\n",
    "    return cadena\n",
    "\n",
    "# programa principal\n",
    "num = int(input(\"Número entero no negativo: \"))\n",
    "\n",
    "str_num2 = conversor_base(num, 2)\n",
    "str_num8 = conversor_base(num, 8)\n",
    "str_num10 = conversor_base(num, 10)\n",
    "str_num16 = conversor_base(num, 16)\n",
    "print(\"Número\", num, \"en base  2 ->\", str_num2)\n",
    "print(\"Número\", num, \"en base  8 ->\", str_num8)\n",
    "print(\"Número\", num, \"en base 10 ->\", str_num10)\n",
    "print(\"Número\", num, \"en base 16 ->\", str_num16)"
   ]
  },
  {
   "cell_type": "markdown",
   "metadata": {},
   "source": [
    "## Ejercicio 7"
   ]
  },
  {
   "cell_type": "markdown",
   "metadata": {},
   "source": [
    "Sea `linea(ch, n)` una función queretorna una cadena de `n` caracteres `ch`, cuya definición se da al final del enunciado, se pide:\n",
    "\n",
    "1. Definir una función `cuadrado(ch, n)` para un carácter `ch` y un entero positivo `n` dados que retorne una cadena de caracteresque cumpla lo siguiente: impresa en  pantalla  debe  dar lugar  a  un  cuadrado  relleno  con  caracteres `ch` de `n` líneas. Dado  que  en  la  pantalla  la separación  entre  líneas  es,  aproximadamente,  el  doble que entre dos caracteres consecutivos de una misma línea, para no desvirtuar en exceso el cuadrado el número de caracteres por línea deberá ser el doble de éstas."
   ]
  },
  {
   "cell_type": "code",
   "execution_count": null,
   "metadata": {},
   "outputs": [],
   "source": [
    "def linea (ch, n):\n",
    "    \"\"\"Retorna una cadena de n caracteres ch\"\"\"\n",
    "    return ch * n\n",
    "\n",
    "def cuadrado (ch, n):\n",
    "    \"\"\"Retorna una cadena de caracteres con n líneas y\n",
    "    2*n caracteres ch por línea\"\"\"\n",
    "    cadena = \"\"\n",
    "    una_linea = linea(ch, 2 * n) + \"\\n\"\n",
    "    for k in range(0, n, 1):\n",
    "        cadena = cadena + una_linea\n",
    "    return cadena"
   ]
  },
  {
   "cell_type": "markdown",
   "metadata": {},
   "source": [
    "2. Utilizando la función definida anteriormente, escribe un programa que solicite por teclado un número entero positivo y un carácter y muestreen pantalla un cuadrado rellenoen la forma ya indicada."
   ]
  },
  {
   "cell_type": "code",
   "execution_count": null,
   "metadata": {},
   "outputs": [],
   "source": [
    "# programa principal\n",
    "tinta = input(\"Un caracter: \")\n",
    "num = int(input(\"Número entero (> 0): \"))\n",
    "print(cuadrado(tinta, num))"
   ]
  },
  {
   "cell_type": "markdown",
   "metadata": {},
   "source": [
    "## Ejercicio 8"
   ]
  },
  {
   "cell_type": "markdown",
   "metadata": {},
   "source": [
    "Basándose  en  la  definición  de  funciones  similares  a  las  utilizadas  en  el ejercicio  previo,  escribe  ahora  un  programa  que  solicite  por  teclado  un  número  entero positivo y un carácter y muestreen la pantalla únicamente el contorno del cuadrado conel carácter dado. El número proporcionado determina el número de líneasdel cuadrado y el número de caracteres por línea será el doble de éstas.Resultado esperado para\n",
    "```python\n",
    "print(contorno_cuadrado(\"*\", 3)):\n",
    "```\n",
    "\n",
    "```\n",
    "******\n",
    "*    *\n",
    "******\n",
    "```"
   ]
  },
  {
   "cell_type": "code",
   "execution_count": null,
   "metadata": {},
   "outputs": [],
   "source": [
    "def linea_llena (ch, n):\n",
    "    \"\"\"Retorna una cadena de n caracteres ch\"\"\"\n",
    "    return ch * n\n",
    "\n",
    "def linea_hueca (ch, n):\n",
    "    \"\"\"Retorna una cadena de n caracteres con ch\n",
    "    en los extremos y el resto espacios en blanco\"\"\"\n",
    "    return ch + \" \" * (n - 2) + ch\n",
    "\n",
    "def contorno_cuadrado (ch, n):\n",
    "    \"\"\"Retorna una cadena de caracteres con n líneas que\n",
    "    impresa es el contorno de un cuadrado hecho con ch\"\"\"\n",
    "    linea_extremo = linea_llena(ch, 2 * n) + \"\\n\"\n",
    "    linea_media = linea_hueca(ch, 2 * n) + \"\\n\"\n",
    "    cadena = linea_extremo              # primera línea del cuadrado\n",
    "    for k in range(0, n - 2, 1):\n",
    "        cadena = cadena + linea_media   # líneas intermedias\n",
    "    if n > 1:\n",
    "        cadena = cadena + linea_extremo # última línea del cuadrado\n",
    "    return cadena\n",
    "\n",
    "# programa principal\n",
    "tinta = input(\"Un caracter: \")\n",
    "num = int(input(\"Número entero (> 0): \"))\n",
    "print(contorno_cuadrado(tinta, num))"
   ]
  },
  {
   "cell_type": "markdown",
   "metadata": {},
   "source": [
    "## Ejercicio 9"
   ]
  },
  {
   "cell_type": "markdown",
   "metadata": {},
   "source": [
    "Definela función `fibonacci(n)` para que retorne el enésimo elemento de la sucesión de Fibonacci. Estasucesión, se obtiene de la forma siguiente:\n",
    "\n",
    "Escribe un programa que solicite por teclado un número entero no negativo y muestreen pantalla el término correspondientede la sucesión de Fibonacci.\n",
    "\n",
    "Resultado esperado para `n = 9-> 55`"
   ]
  },
  {
   "cell_type": "code",
   "execution_count": null,
   "metadata": {},
   "outputs": [],
   "source": [
    "def fibonacci (n):\n",
    "    if n == 0:\n",
    "        termino = 1 # fibonacci(0)\n",
    "    elif n == 1:\n",
    "        termino = 1 # fibonacci(1)\n",
    "    else:\n",
    "        anterior = 1    # fibonacci(0)\n",
    "        termino = 1     # fibonacci(1)\n",
    "        for i in range(2, n + 1, 1):\n",
    "            # ahora se quiere calcular fibonacci(i) en termino\n",
    "            # así que el valor actual de termino es fibonacci(i-1)\n",
    "            # y el anterior a  termino, anterior, es fibonacci(i-2)\n",
    "            temp = termino\n",
    "            termino = termino + anterior\n",
    "            anterior = temp\n",
    "    return termino\n",
    "\n",
    "# programa principal\n",
    "num = int(input(\"Número de término (>=0): \"))\n",
    "print(\"El término\", num, \"de la sucesión de Fibonacci es:\", fibonacci(num))"
   ]
  },
  {
   "cell_type": "markdown",
   "metadata": {},
   "source": [
    "## Ejercicio 10"
   ]
  },
  {
   "cell_type": "markdown",
   "metadata": {},
   "source": [
    "Utilizando la función `fibonacci(n)` que sedefine en el ejercicio previo, escribe un programa que solicite por teclado un número entero mno negativo y muestre en  pantalla  la  sucesión  que  resulta  de  sumar  los kprimeros  números  de  la  sucesión  de Fibonacci, con `k = 0, 1, 2,..., m` Resultado esperado para `m = 10 -> 1 2 4 7 12 20 33 54 88 143 232`"
   ]
  },
  {
   "cell_type": "markdown",
   "metadata": {},
   "source": [
    "#### Versión 1"
   ]
  },
  {
   "cell_type": "code",
   "execution_count": null,
   "metadata": {},
   "outputs": [],
   "source": [
    "def fibonacci (n):\n",
    "    \"\"\"Retorna el término enésimo de\n",
    "    la sucesión de Fibonacci\"\"\"\n",
    "    if n == 0:\n",
    "        termino = 1 # fibonacci(0)\n",
    "    elif n == 1:\n",
    "        termino = 1 # fibonacci(1)\n",
    "    else:\n",
    "        anterior = 1    # fibonacci(0)\n",
    "        termino = 1     # fibonacci(1)\n",
    "        for i in range(2, n + 1, 1):\n",
    "            # ahora se quiere calcular fibonacci(i) en termino\n",
    "            # así que el valor actual de termino es fibonacci(i-1)\n",
    "            # y el anterior a  termino, anterior, es fibonacci(i-2)\n",
    "            temp = termino\n",
    "            termino = termino + anterior\n",
    "            anterior = temp\n",
    "    return termino\n",
    "\n",
    "# programa principal\n",
    "m = int(input(\"Número de término (>=0): \"))\n",
    "suma = 0\n",
    "for k in range(0, m + 1, 1):\n",
    "    suma = suma + fibonacci(k)  # acumular fibonacci(k)\n",
    "    print(suma, end=\" \")                 # imprimir el término de la sucesión, la suma\n"
   ]
  },
  {
   "cell_type": "markdown",
   "metadata": {},
   "source": [
    "### Versión 2"
   ]
  },
  {
   "cell_type": "code",
   "execution_count": null,
   "metadata": {},
   "outputs": [],
   "source": [
    "def fibonacci (n):\n",
    "    \"\"\"Retorna el término enésimo de\n",
    "    la sucesión de Fibonacci\"\"\"\n",
    "    if n == 0:\n",
    "        termino = 1 # fibonacci(0)\n",
    "    elif n == 1:\n",
    "        termino = 1 # fibonacci(1)\n",
    "    else:\n",
    "        anterior = 1    # fibonacci(0)\n",
    "        termino = 1     # fibonacci(1)\n",
    "        for i in range(2, n + 1, 1):\n",
    "            # ahora se quiere calcular fibonacci(i) en termino\n",
    "            # así que el valor actual de termino es fibonacci(i-1)\n",
    "            # y el anterior a  termino, anterior, es fibonacci(i-2)\n",
    "            temp = termino\n",
    "            termino = termino + anterior\n",
    "            anterior = temp\n",
    "    return termino\n",
    "\n",
    "# programa principal\n",
    "m = int(input(\"Número de término (>=0): \"))\n",
    "for k in range(0, m + 1, 1):\n",
    "    print(fibonacci(k + 2) - 1, end=\" \")"
   ]
  }
 ],
 "metadata": {
  "kernelspec": {
   "display_name": "Python 3",
   "language": "python",
   "name": "python3"
  },
  "language_info": {
   "codemirror_mode": {
    "name": "ipython",
    "version": 3
   },
   "file_extension": ".py",
   "mimetype": "text/x-python",
   "name": "python",
   "nbconvert_exporter": "python",
   "pygments_lexer": "ipython3",
   "version": "3.9.0"
  },
  "orig_nbformat": 4,
  "vscode": {
   "interpreter": {
    "hash": "aee8b7b246df8f9039afb4144a1f6fd8d2ca17a180786b69acc140d282b71a49"
   }
  }
 },
 "nbformat": 4,
 "nbformat_minor": 2
}
