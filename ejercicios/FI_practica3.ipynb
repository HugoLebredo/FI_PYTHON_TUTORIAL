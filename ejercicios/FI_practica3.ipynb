{
 "cells": [
  {
   "cell_type": "markdown",
   "metadata": {},
   "source": [
    "# Condiciones\n",
    "\n",
    "## Ejercicio 1.\n",
    "Dados los dos siguientes fragmentos de código:\n",
    "\n",
    "```\n",
    "x = 0\n",
    "if x >= 0:\n",
    "    x=x+1\n",
    "elif x >= 1:\n",
    "    x=x+2\n",
    "print(\"x =\", x)\n",
    "```\n",
    "\n",
    "```\n",
    "x = 0\n",
    "if x >= 0:\n",
    "    x=x+1\n",
    "if x >= 1:\n",
    "    x=x+2\n",
    "print(\"x =\", x)\n",
    "```\n",
    "\n",
    " ¿Cuál es el valor final de la variable x en cada caso?"
   ]
  },
  {
   "cell_type": "code",
   "execution_count": 13,
   "metadata": {},
   "outputs": [
    {
     "name": "stdout",
     "output_type": "stream",
     "text": [
      "x = 1\n"
     ]
    }
   ],
   "source": [
    "x = 0\n",
    "if x >= 0:\n",
    "    x=x+1\n",
    "elif x >= 1:\n",
    "    x=x+2\n",
    "print(\"x =\", x)"
   ]
  },
  {
   "cell_type": "code",
   "execution_count": 10,
   "metadata": {},
   "outputs": [
    {
     "name": "stdout",
     "output_type": "stream",
     "text": [
      "x = 3\n"
     ]
    }
   ],
   "source": [
    "x = 0\n",
    "if x >= 0:\n",
    "    x=x+1\n",
    "if x >= 1:\n",
    "    x=x+2\n",
    "print(\"x =\", x)"
   ]
  },
  {
   "cell_type": "markdown",
   "metadata": {},
   "source": [
    "## Ejercicio 2.\n",
    "\n",
    "Escribir un programa que lea tres números enteros e indique si están o no en orden ascendente."
   ]
  },
  {
   "cell_type": "code",
   "execution_count": null,
   "metadata": {},
   "outputs": [],
   "source": [
    "# Pedir un primero número\n",
    "num1 = int(input(\"INTRODUCE EL PRIMER NÚMERO: \"))\n",
    "\n",
    "# Pedir un segundo número\n",
    "num2 = int(input(\"INTRODUCE EL SEGUNDO NÚMERO: \"))\n",
    "\n",
    "# Pedir un tercer número\n",
    "num3 = int(input(\"INTRODUCE EL TERCER NÚMERO: \"))\n",
    "\n",
    "# Si numero1 es menor o igual que numero2 y numero2 es menor o igual que numero3\n",
    "# entonces mostrar que están en orden ascendente\n",
    "if num1 <= num2 and num2 <= num3:\n",
    "    print (\"ESTAN ORDENADOS EN SENTIDO ASCENDENTE\")\n",
    "else:\n",
    "    print (\"NO ESTÁN ORDENADOS EN SENTIDO ASCENDENTE\")"
   ]
  },
  {
   "cell_type": "markdown",
   "metadata": {},
   "source": [
    "## Ejercicio 3.\n",
    "\n",
    "Escribir un programa que lea cinco números enteros e indique cuál es el mayor de los cinco."
   ]
  },
  {
   "cell_type": "code",
   "execution_count": null,
   "metadata": {},
   "outputs": [],
   "source": [
    "\n",
    "# Pedir numeros\n",
    "num1 = int(input(\"Introduce el 1º número: \"))\n",
    "num2 = int(input(\"Introduce el 2º número: \"))\n",
    "num3 = int(input(\"Introduce el 3º número: \"))\n",
    "num4 = int(input(\"Introduce el 4º número: \"))\n",
    "num5 = int(input(\"Introduce el 5º número: \"))\n",
    "\n",
    "# Almacenamos una variable para poder comparar con el máximno\n",
    "maximo = num1\n",
    "\n",
    "# La estrategia es recorrer los números y si compararlos con el máximo.\n",
    "#  Si el número es superior actualizamos el valor de máximo.\n",
    "\n",
    "if maximo < num2:\n",
    "    maximo = num2\n",
    "if maximo < num3:\n",
    "    maximo = num3\n",
    "if maximo < num4:\n",
    "    maximo = num4\n",
    "if maximo < num5:\n",
    "    maximo = num5\n",
    "\n",
    "# Mostrar el máximo de los cinco numeros\n",
    "print (\"El valor máximo es: \", maximo)"
   ]
  },
  {
   "cell_type": "markdown",
   "metadata": {},
   "source": [
    "## Ejercicio 4.\n",
    "\n",
    "Escribir un programa que resuelva cualquier ecuación de 1er grado de la forma: `ax + b = 0`, donde `x` es la incógnita y `a` y `b` son dos números reales que leerá el programa. Contemplar el caso en el que `a` es `0`."
   ]
  },
  {
   "cell_type": "code",
   "execution_count": null,
   "metadata": {},
   "outputs": [],
   "source": [
    "from distutils.command.build_scripts import build_scripts\n",
    "\n",
    "\n",
    "print(\"Resolvedor de ecuaciónes ax+b=0 \\n\")\n",
    "\n",
    "# Introducir datos\n",
    "a_str = input(\"Introducir el valor de a: \")\n",
    "a = float(a_str)\n",
    "\n",
    "b_str = input(\"Introducir el valor de b: \")\n",
    "b = float(b_str)\n",
    "\n",
    "# Si a es distinto de 0 entonces se muestra el valor de x que es -b/a\n",
    "# Sino dependiendo de si b es distinto de 0 o no, la ecuación no tiene\n",
    "# solución o tiene infinitas soluciones\n",
    "if a != 0:\n",
    "    print(\"El valor de x es:\", -b/a)\n",
    "else:\n",
    "    if b != 0:\n",
    "        print(\"La ecuación no tiene solución\")\n",
    "    else:\n",
    "        print(\"La ecuación tiene infinitas soluciones\")"
   ]
  },
  {
   "cell_type": "markdown",
   "metadata": {},
   "source": [
    "## Ejercicio 5.\n",
    "\n",
    "Escribir un programa que tome como dato un número entero y presente al usuario una lista con tres opciones identificadas mediante una letra, tal y como se muestra en la tabla, para que éste elija una de ellas. En función de la opción elegida realizar el cálculo correspondiente y mostrar el resultado obtenido."
   ]
  },
  {
   "cell_type": "markdown",
   "metadata": {},
   "source": [
    "<table>\n",
    "  <tbody>\n",
    "    <tr>\n",
    "      <th>Selección de la operación a realizar</th>\n",
    "      <th align=\"center\">Ejemplo de salida del programa</th>\n",
    "    </tr>\n",
    "    <tr>\n",
    "      <td>\n",
    "        <b>ESCOGE UNA OPCIÓN.</b> Calcular:\n",
    "        <ol type=\"a\">\n",
    "          <li>El cuadrado del número</li>\n",
    "          <li>El cubo del número</li>\n",
    "          <li>El doble del número</li>\n",
    "        </ol>\n",
    "        <p>Opción?</p>\n",
    "      </td>\n",
    "      <td align=\"center\">\n",
    "        <p>Si el número introducido es 4 y la opción elegida es la b), la salida del programa debería ser:</p>\n",
    "        <h5>\"El cubo del número 4 es 64\"</h5>\n",
    "      </td>\n",
    "    </tr>\n",
    "  </tbody>\n",
    "</table>"
   ]
  },
  {
   "cell_type": "code",
   "execution_count": null,
   "metadata": {},
   "outputs": [],
   "source": [
    "# Introducir un número\n",
    "num_str = input(\"INTRODUCE UN NÚMERO: \")\n",
    "num = int(num_str)\n",
    "\n",
    "# Mostrar menú\n",
    "print (\"Menu\")\n",
    "print (\"=====================================\")\n",
    "print (\"a) Calcular el cuadrado del número\")\n",
    "print (\"b) Calcular el cubo del número\")\n",
    "print (\"c) Calcular el doble del número\")\n",
    "print (\"=====================================\")\n",
    "\n",
    "# Se pide la opción que quiere el usuario\n",
    "opcion=input(\"Selecciona una opción \")\n",
    "\n",
    "# La idea de utilizar los elif es que se verifique la condición en cascada\n",
    "\n",
    "\n",
    "if opcion == 'a':\n",
    "    print(\"El cuadrado de\", num, \"es\", num**2)\n",
    "elif opcion == 'b':\n",
    "    print(\"El cubo de\", num, \"es\", num**3)\n",
    "elif opcion == 'c':\n",
    "    print(\"El doble de\", num, \"es\", num*2)\n",
    "else:\n",
    "    print (\"No existe opción\")"
   ]
  },
  {
   "cell_type": "markdown",
   "metadata": {},
   "source": [
    "## Ejercicio 6.\n",
    "\n",
    "Escribir un programa que lea 4 notas (tipo `INT`) entre `0` y `100`, que calcule la media aritmética de esas cuatro puntuaciones y visualice la media obtenida así como su carácter asociado de acuerdo a la siguiente relación:\n",
    "\n",
    "- A [90,100]\n",
    "- B [80,90)\n",
    "- C [70,80)\n",
    "- D [60,70)\n",
    "- E [0,60)"
   ]
  },
  {
   "cell_type": "code",
   "execution_count": null,
   "metadata": {},
   "outputs": [],
   "source": [
    "# Pedir numeros\n",
    "num1 = int(input(\"Introduce la 1ª nota: \"))\n",
    "num2 = int(input(\"Introduce la 2ª nota: \"))\n",
    "num3 = int(input(\"Introduce la 3ª nota: \"))\n",
    "num4 = int(input(\"Introduce la 4ª nota: \"))\n",
    "\n",
    "# Calculamos la nota media\n",
    "nota_media = (num1 + num2 + num3 + num4)/4\n",
    "# Mostrar calificación\n",
    "# Aquí el orden de las comprobaciones importan importan\n",
    "if nota_media >= 90:\n",
    "    print(\"La nota media es\", num, \"y tu ranking es A 🥇\")\n",
    "elif nota_media >= 80:\n",
    "    print(\"La nota media es\", num, \"y tu ranking es B 🥈\")\n",
    "elif nota_media >= 70:\n",
    "    print(\"La nota media es\", num, \"y tu ranking es C 🥉\")\n",
    "elif nota_media >= 60:\n",
    "    print(\"La nota media es\", num, \"y tu ranking es D 😗\")\n",
    "else:\n",
    "    print(\"La nota media es\", num, \"y tu ranking es E 🥶\")"
   ]
  },
  {
   "cell_type": "markdown",
   "metadata": {},
   "source": [
    "## Ejercicio 7.\n",
    "\n",
    "Escribir un programa que lea un año y determine si es o no bisiesto. Información: Son años bisiestos aquellos que son divisibles por `4`, excepto aquellos divisibles por `100` que no sean divisibles por `400`.\n",
    "\n",
    "### Ejemplos:\n",
    "\n",
    "- 1984 es **BISIESTO** ya que es divisible por `4` y no divisible por `100`.\n",
    "- 2000 es **BISIESTO** ya que es divisible por `4`, por `100` y por `400`.\n",
    "- 1800 **NO es BISIESTO** ya que es divisible por `4`, por 100 y no por `400`.\n",
    "- 2011 **NO es BISIESTO** ya que no es divisible por `4`."
   ]
  },
  {
   "cell_type": "code",
   "execution_count": 4,
   "metadata": {},
   "outputs": [
    {
     "name": "stdout",
     "output_type": "stream",
     "text": [
      "NO BISIESTO\n"
     ]
    }
   ],
   "source": [
    "# Pedir el año\n",
    "anio_str = input(\"INTRODUCE EL AÑO: \")\n",
    "anio = int(anio_str)\n",
    "\n",
    "if anio % 4 != 0: #no divisible entre 4\n",
    "\tprint(\"No es bisiesto\")\n",
    "elif anio % 4 == 0 and anio % 100 != 0: #divisible entre 4 y no entre 100 o 400\n",
    "\tprint(\"Es bisiesto\")\n",
    "elif anio % 4 == 0 and anio % 100 == 0 and anio % 400 != 0: #divisible entre 4 y 10 y no entre 400\n",
    "\tprint(\"No es bisiesto\")\n",
    "elif anio % 4 == 0 and año % 100 == 0 and anio % 400 == 0: #divisible entre 4, 100 y 400\n",
    "\tprint(\"Es bisiesto\")\n",
    "\n",
    "'''\n",
    "Sentencia alternativa para determinar si el año leído es o no bisiesto\n",
    "if anio % 4 == 0:\n",
    "    if anio % 100 == 0 and anio % 400 != 0:\n",
    "        print(\"No es bisiesto\")\n",
    "    else:\n",
    "        print(\"Es bisiest\")\n",
    "else:\n",
    "    print(\"No es bisiesto\")\n",
    "*/\n",
    "'''"
   ]
  },
  {
   "cell_type": "markdown",
   "metadata": {},
   "source": [
    "## Ejercicio 8.\n",
    "\n",
    "Modificar el programa anterior para que además lea el número de un mes (`1` a `12`) y muestre el número de días de ese mes en función del mes y del año introducidos. \n",
    "\n",
    "Nota: Abril, Junio, Septimebre y Noviembre tienen 30 dias."
   ]
  },
  {
   "cell_type": "code",
   "execution_count": 8,
   "metadata": {},
   "outputs": [
    {
     "name": "stdout",
     "output_type": "stream",
     "text": [
      "El mes 2 del año 1984 tiene 29 dias\n"
     ]
    }
   ],
   "source": [
    "# Pedir el año\n",
    "anio_str = input(\"INTRODUCE EL AÑO: \")\n",
    "anio = int(anio_str)\n",
    "\n",
    "# Pedir el año\n",
    "mes_str = input(\"INTRODUCE EL AÑO: \")\n",
    "mes = int(mes_str)\n",
    "\n",
    "# Comprobar si el año es bisiesto\n",
    "if anio % 4 != 0: #no divisible entre 4\n",
    "\tesBisiesto = False\n",
    "elif anio % 4 == 0 and anio % 100 != 0: #divisible entre 4 y no entre 100 o 400\n",
    "\tesBisiesto = True\n",
    "elif anio % 4 == 0 and anio % 100 == 0 and anio % 400 != 0: #divisible entre 4 y 10 y no entre 400\n",
    "\tesBisiesto = False\n",
    "elif anio % 4 == 0 and anio % 100 == 0 and anio % 400 == 0: #divisible entre 4, 100 y 400\n",
    "\tesBisiesto = True\n",
    "\n",
    "# Asignar dias del mes\n",
    "if mes == 2:\n",
    "    if esBisiesto:\n",
    "        dias = 29\n",
    "    else:\n",
    "        dias = 28\n",
    "elif mes == 4 or mes == 6 or mes == 9 or mes == 11:\n",
    "    dias = 30\n",
    "else:\n",
    "    dias = 31\n",
    "\n",
    "# Imprimir el resultado por pantalla\n",
    "print(\"El mes\", mes, \"del año\", anio, \"tiene\", dias, \"dias\")"
   ]
  }
 ],
 "metadata": {
  "kernelspec": {
   "display_name": "Python 3",
   "language": "python",
   "name": "python3"
  },
  "language_info": {
   "codemirror_mode": {
    "name": "ipython",
    "version": 3
   },
   "file_extension": ".py",
   "mimetype": "text/x-python",
   "name": "python",
   "nbconvert_exporter": "python",
   "pygments_lexer": "ipython3",
   "version": "3.9.0"
  },
  "orig_nbformat": 4,
  "vscode": {
   "interpreter": {
    "hash": "aee8b7b246df8f9039afb4144a1f6fd8d2ca17a180786b69acc140d282b71a49"
   }
  }
 },
 "nbformat": 4,
 "nbformat_minor": 2
}
