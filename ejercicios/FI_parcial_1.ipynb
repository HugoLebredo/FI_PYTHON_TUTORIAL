{
 "cells": [
  {
   "cell_type": "markdown",
   "metadata": {},
   "source": [
    "Edítese un fichero Python con los dos apellidos propios como título seguidos de un 1 (p.e. GarcíaGarcía1.py) y en él constrúyase un programa sin utilizar funciones, listas ni ficheros, que responda al siguiente diseño."
   ]
  },
  {
   "cell_type": "markdown",
   "metadata": {},
   "source": [
    "1. [2,5 puntos.] Deberá demandar al usuario los minutos, los segundos y los milisegundos de la vueltá rápida y la vuelta lenta de un monoplaza. En cada vuelta se controlará que:\n",
    "- Los datos introducidos sean positivos.\n",
    "- Los minutos y segundos sean también menores que sesenta.\n",
    "- Los milisegundos deben ser menores a 999.\n",
    "   \n",
    "En caso de no cumplirse alguna de esas restricciones en algún dato de entrada volverá a demandar ese mismo dato antes de proseguir.\n",
    "\n",
    "2. [2 puntos] Deberá volver a pedirse el tiempo de la vuelta lenta en caso de que el tiempo sea menor que el de la vuelta rápida.\n",
    "\n",
    "3. [1 punto.] Trasformar el tiempo de cada vuelta a milisegundos.\n",
    "4. [1 punto.] Recogidos los tiempos de las vueltas se calculará la diferencia de tiempo de la vuelta lenta con respecto a la vuelta rápida.\n",
    "5. [1 punto.] Calcular el tiempo de vuelta medio a partir de los tiempos de vuelta recogidos.\n",
    "\n",
    "4. [2,5 puntos.] Tras la conversión previa necesaria, se mostrará los resultados de los tiempos obtenidos en minutos, segundos y milisegundos. Nota: Tener en cuenta que si los milisegundos solo tienen 2 digitos debe añadirse un '0' al inicio "
   ]
  },
  {
   "cell_type": "markdown",
   "metadata": {},
   "source": [
    "````\n",
    "=============================\n",
    "Analisis de tiempo vueltas \n",
    "=============================\n",
    "\n",
    " Vuelta rápida:\n",
    "--> Introduce minutos :1\n",
    "--> Introduce segundos :43\n",
    "--> Introduce milisegundos :456\n",
    "Vuelta rápida: 1:43.456 --> 103456 ms\n",
    "\n",
    " Vuelta lenta:\n",
    "--> Introduce minutos :1\n",
    "--> Introduce segundos :56\n",
    "--> Introduce milisegundos :543\n",
    "Vuelta lenta: 1:56.543 --> 116543 ms\n",
    "\n",
    "*** RESULTADOS ANALISIS ***\n",
    "Diferencia \n",
    " + 0:13.087 --> 13087 ms\n",
    "Tiempo medio vuelta\n",
    " 1:49.087 --> 109999 ms\n",
    " \n",
    " ````"
   ]
  },
  {
   "cell_type": "code",
   "execution_count": null,
   "metadata": {},
   "outputs": [],
   "source": [
    "print(\"=============================\\nAnalisis de tiempo vueltas\\n=============================\")\n",
    "\n",
    "print(\"\\n Vuelta rápida:\")\n",
    "\n",
    "FLMin = int(input(\"--> Introduce minutos :\"))\n",
    "while(FLMin < 0 or FLMin > 59):\n",
    "    FLMin = int(input(\"--> Introduce minutos :\"))\n",
    "    \n",
    "FLSeg = int(input(\"--> Introduce segundos :\"))\n",
    "while(FLSeg < 0 or FLSeg > 59):\n",
    "    FLSeg = int(input(\"-->Introduce segundos :\"))\n",
    "    \n",
    "FLMili = int(input(\"--> Introduce milisegundos :\"))\n",
    "while(FLMili < 0 or FLMili > 999):\n",
    "    FLMili = int(input(\"Error --> Introduce milisegundos :\"))\n",
    "\n",
    "txtPrint = str(FLMin) + \":\" + str(FLSeg) + \".\" + str(FLMili)\n",
    "\n",
    "FLTotal = FLMin * 60000 + FLSeg * 1000 + FLMili\n",
    "\n",
    "print(\"Vuelta rápida:\",txtPrint, \"-->\", FLTotal,\"ms\")\n",
    "\n",
    "isSLnotOk = True\n",
    "\n",
    "while(isSLnotOk):\n",
    "    print(\"\\n Vuelta lenta:\")\n",
    "\n",
    "    SLMin = int(input(\"--> Introduce minutos :\"))\n",
    "    while(SLMin < 0 or SLMin > 59):\n",
    "        SLMin = int(input(\"Error -->Introduce minutos :\"))\n",
    "\n",
    "    SLSeg = int(input(\"--> Introduce segundos :\"))\n",
    "    while(SLSeg < 0 or SLSeg > 59):\n",
    "        SLSeg = int(input(\"Error --> Introduce segundos :\"))\n",
    "\n",
    "    SLMili = int(input(\"--> Introduce milisegundos :\"))\n",
    "    while(SLMili < 0 or SLMili > 999):\n",
    "        SLMili = int(input(\"Error --> Introduce milisegundos :\"))\n",
    "        \n",
    "    txtPrint = str(SLMin)+\":\"+str(SLSeg)+\".\"+str(SLMili)\n",
    "\n",
    "    SLTotal = SLMin * 60000 + SLSeg * 1000 + SLMili\n",
    "\n",
    "    print(\"Vuelta lenta:\",txtPrint, \"-->\", SLTotal,\"ms\")\n",
    "\n",
    "    if not(SLTotal < FLTotal):\n",
    "        isSLnotOk = False\n",
    "        \n",
    "print(\"\\n*** RESULTADOS ANALISIS ***\")\n",
    "        \n",
    "difVuelta = SLTotal - FLTotal\n",
    "\n",
    "difMins = difVuelta//60000\n",
    "difSegs = (difVuelta - difMins * 60000)//1000\n",
    "difMili = (difVuelta - difMins * 60000 - difSegs *1000)\n",
    "\n",
    "strMili = str(difMili)\n",
    "\n",
    "if difMili < 100:\n",
    "    strMili = \"0\" + strMili\n",
    "\n",
    "txtPrint = str(difMins) + \":\" + str(difSegs) + \".\" + strMili\n",
    "print(\"Diferencia \\n +\",txtPrint, \"-->\", difVuelta, \"ms\")\n",
    "\n",
    "tiempoMedio = int((SLTotal + FLTotal)/2)\n",
    "difMins = tiempoMedio//60000\n",
    "difSegs = (tiempoMedio - difMins * 60000)//1000\n",
    "difMili = (tiempoMedio - difMins * 60000 - difSegs *1000)\n",
    "\n",
    "if difMili < 100:\n",
    "    strMili = \"0\" + strMili\n",
    "\n",
    "txtPrint = str(difMins) + \":\" + str(difSegs) + \".\" + strMili\n",
    "print(\"Tiempo medio vuelta\\n\",txtPrint, \"-->\", tiempoMedio, \"ms\")"
   ]
  },
  {
   "cell_type": "markdown",
   "metadata": {},
   "source": [
    "Tiempo de vuelta medio:"
   ]
  },
  {
   "cell_type": "markdown",
   "metadata": {},
   "source": [
    "Diferencia con respecto al record del circuito"
   ]
  },
  {
   "cell_type": "code",
   "execution_count": null,
   "metadata": {},
   "outputs": [],
   "source": [
    "while(tablaInicio > 10 or tablaInicio < 1):\n",
    "    tablaInicio = int(input(\"Introduce tabla Inicial 1 y 10: \"))\n",
    "    \n",
    "tablaFin = int(input(\"Introduce tabla Final: \"))\n",
    "while(tablaFin > 10 or tablaFin < 1 or tablaInicio > tablaFin):\n",
    "    tablaFin = int(input(\"Introduce tabla Final: \"))\n",
    "        \n",
    "for i in range(tablaInicio,tablaFin + 1):\n",
    "    print(\"Tabla del\", i)\n",
    "    for j in range(1,5):\n",
    "        print(i, \"*\", j,\"=\", j*i)"
   ]
  }
 ],
 "metadata": {
  "kernelspec": {
   "display_name": "Python 3",
   "language": "python",
   "name": "python3"
  },
  "language_info": {
   "codemirror_mode": {
    "name": "ipython",
    "version": 3
   },
   "file_extension": ".py",
   "mimetype": "text/x-python",
   "name": "python",
   "nbconvert_exporter": "python",
   "pygments_lexer": "ipython3",
   "version": "3.9.0 (v3.9.0:9cf6752276, Oct  5 2020, 11:29:23) \n[Clang 6.0 (clang-600.0.57)]"
  },
  "orig_nbformat": 4,
  "vscode": {
   "interpreter": {
    "hash": "aee8b7b246df8f9039afb4144a1f6fd8d2ca17a180786b69acc140d282b71a49"
   }
  }
 },
 "nbformat": 4,
 "nbformat_minor": 2
}
