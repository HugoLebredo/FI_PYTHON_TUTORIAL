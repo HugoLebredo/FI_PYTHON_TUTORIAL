{
 "cells": [
  {
   "cell_type": "markdown",
   "metadata": {},
   "source": [
    "# Ejercicios condicionales"
   ]
  },
  {
   "cell_type": "markdown",
   "metadata": {},
   "source": [
    "Escribir un programa que pida al usuario un número entero y muestre por pantalla si es par o impar."
   ]
  },
  {
   "cell_type": "code",
   "execution_count": null,
   "metadata": {},
   "outputs": [],
   "source": [
    "n = int(input(\"Introduce un número entero: \"))\n",
    "if n % 2 == 0:\n",
    "    print(\"El número \" + str(n) + \" es par\")\n",
    "else:\n",
    "    print(\"El número \" + str(n) + \" es impar\")"
   ]
  },
  {
   "cell_type": "markdown",
   "metadata": {},
   "source": [
    "Para tributar un determinado impuesto se debe ser mayor de 16 años y tener unos ingresos superiores a 1000 € mensuales. Escribir un programa que pregunte al usuario su edad y sus ingresos mensuales y muestre por pantalla si el usuario tiene que tributar o no."
   ]
  },
  {
   "cell_type": "markdown",
   "metadata": {},
   "source": [
    "### Solución A"
   ]
  },
  {
   "cell_type": "code",
   "execution_count": null,
   "metadata": {},
   "outputs": [],
   "source": [
    "edad = int(input(\"¿Cuál es tu edad? \"))\n",
    "ingresos = float(input(\"¿Cuales son tus ingresos mensuales?\"))\n",
    "if edad > 16 and ingresos >= 1000:\n",
    "    print(\"Tienes que cotizar\")\n",
    "else:\n",
    "    print(\"No tienes que cotizar\")"
   ]
  },
  {
   "cell_type": "markdown",
   "metadata": {},
   "source": [
    "### Solución B"
   ]
  },
  {
   "cell_type": "code",
   "execution_count": null,
   "metadata": {},
   "outputs": [],
   "source": [
    "edad = int(input(\"¿Cuál es tu edad? \"))\n",
    "ingresos = float(input(\"¿Cuales son tus ingresos mensuales?\"))\n",
    "if edad <= 16 or ingresos < 1000:\n",
    "    print(\"No tienes que cotizar\")\n",
    "else:\n",
    "    print(\"Tienes que cotizar\")"
   ]
  },
  {
   "cell_type": "markdown",
   "metadata": {},
   "source": [
    "Los alumnos de un curso se han dividido en dos grupos A y B de acuerdo al género y nombre. El grupo A esta formado por las mujeres con un nombre anterior a la M y los hombres con un nombre posterior a la N y el grupo B por el resto. Escribir un programa que pregunte al usuario su nombre y sexo, y muestre por pantalla el grupo que le corresponde."
   ]
  },
  {
   "cell_type": "code",
   "execution_count": null,
   "metadata": {},
   "outputs": [],
   "source": [
    "# Pedir datos\n",
    "#Posible mejora comprobar que el valor introducido en genero es válido\n",
    "nombre = input(\"¿Cómo te llamas? \")\n",
    "genero = input(\"¿Cuál es tu género (M o H)? \")\n",
    "\n",
    "#Lógica\n",
    "if genero == \"M\":\n",
    "    if nombre.lower() < \"m\":\n",
    "        group = \"A\"\n",
    "    else:\n",
    "        group = \"B\"\n",
    "else:\n",
    "    if nombre.lower() > \"n\":\n",
    "        group = \"A\"\n",
    "    else:\n",
    "        group = \"B\"\n",
    "\n",
    "#Muestro salida\n",
    "print(\"Tu grupo es \" + group)"
   ]
  },
  {
   "cell_type": "markdown",
   "metadata": {},
   "source": [
    "Los tramos impositivos para la declaración de la renta en un determinado país son los siguientes:\n",
    "\n",
    "|         Renta          | Tipo impositivo |\n",
    "| :--------------------: | :-------------: |\n",
    "|    Menos de 10000€     |       5%        |\n",
    "| Entre 10000€ y 20000€  |       15%       |\n",
    "| Entre 20000€ y 35000€  |       20%       |\n",
    "| Entre 35000€ y 60000€  |       30%       |\n",
    "|     Más de 60000€      |       45%       |\n",
    "\n",
    "Escribir un programa que pregunte al usuario su renta anual y muestre por pantalla lo que tiene que pagar."
   ]
  },
  {
   "cell_type": "code",
   "execution_count": null,
   "metadata": {},
   "outputs": [],
   "source": [
    "# Preguntar al usuario por la renta\n",
    "renta = float(input(\"¿Cuál es tu renta anual? \"))\n",
    "# Condicional para determinar el tipo impositivo dependiendo de la renta\n",
    "if renta < 10000:\n",
    "    tipo = 5\n",
    "elif renta < 20000:\n",
    "    tipo = 15\n",
    "elif renta < 35000:\n",
    "    tipo = 20\n",
    "elif renta < 60000:\n",
    "    tipo = 30\n",
    "else:\n",
    "    tipo = 45\n",
    "# Mostrar por pantalla el producto de la renta por el tipo impositivo\n",
    "print(\"Tienes que pagar \", renta * tipo / 100, \"€\", sep='')"
   ]
  },
  {
   "cell_type": "markdown",
   "metadata": {},
   "source": [
    "# Ejercicios Bucles\n",
    "\n",
    "Escribir un programa que pida al usuario una palabra y la muestre 10 veces por pantalla."
   ]
  },
  {
   "cell_type": "code",
   "execution_count": null,
   "metadata": {},
   "outputs": [],
   "source": [
    "palabra = input(\"Introduce una palabra: \")\n",
    "for i in range(10):\n",
    "    print(palabra)"
   ]
  },
  {
   "cell_type": "markdown",
   "metadata": {},
   "source": [
    "Escribir un programa que pida al usuario un número entero positivo y muestre por pantalla todos los números impares desde 1 hasta ese número separados por comas."
   ]
  },
  {
   "cell_type": "code",
   "execution_count": 2,
   "metadata": {},
   "outputs": [],
   "source": [
    "n = int(input(\"Introduce un número entero positivo: \"))\n",
    "for i in range(1, n+1, 2):\n",
    "    print(i, end=\", \")"
   ]
  },
  {
   "cell_type": "markdown",
   "metadata": {},
   "source": [
    "Escribir un programa que muestre las tablas de multiplicar del 1 al 10"
   ]
  },
  {
   "cell_type": "code",
   "execution_count": null,
   "metadata": {},
   "outputs": [],
   "source": [
    "for i in range(1, 11):\n",
    "    for j in range(1, 11):\n",
    "        print(i*j, end=\"\\t\")\n",
    "    print(\"\")"
   ]
  },
  {
   "cell_type": "markdown",
   "metadata": {},
   "source": [
    "Escribir un programa que pregunte al usuario una cantidad a invertir, el interés anual y el número de años, y muestre por pantalla el capital obtenido en la inversión cada año que dura la inversión."
   ]
  },
  {
   "cell_type": "code",
   "execution_count": null,
   "metadata": {},
   "outputs": [],
   "source": [
    "#Pedimos variables\n",
    "cantidad = float(input(\"¿Cantidad a invertir? \"))\n",
    "interest = float(input(\"¿Interés porcentual anual? \"))\n",
    "años = int(input(\"¿Años?\"))\n",
    "\n",
    "#Logica\n",
    "for i in range(años):\n",
    "    cantidad *= 1 + interest / 100 \n",
    "    print(\"Capital tras \" + str(i+1) + \" años: \" + str(round(cantidad, 2)))"
   ]
  },
  {
   "cell_type": "markdown",
   "metadata": {},
   "source": [
    "Escribir un programa que pida un número y muestre un triangulo equilátero. La altura se corresponde con el número\n",
    "\n",
    "```python\n",
    "*\n",
    "**\n",
    "***\n",
    "****\n",
    "*****\n",
    "```"
   ]
  },
  {
   "cell_type": "markdown",
   "metadata": {},
   "source": [
    "### Solución A"
   ]
  },
  {
   "cell_type": "code",
   "execution_count": null,
   "metadata": {},
   "outputs": [],
   "source": [
    "n = int(input(\"Introduce la altura del triángulo (entero positivo): \"))\n",
    "for i in range(n):\n",
    "    for j in range(i+1):\n",
    "        print(\"*\", end=\"\")\n",
    "    print(\"\")"
   ]
  },
  {
   "cell_type": "markdown",
   "metadata": {},
   "source": [
    "### Solución B"
   ]
  },
  {
   "cell_type": "code",
   "execution_count": null,
   "metadata": {},
   "outputs": [],
   "source": [
    "n = int(input(\"Introduce la altura del triángulo (entero positivo): \"))\n",
    "for i in range(n):\n",
    "   print(\"*\"*(i+1))"
   ]
  },
  {
   "cell_type": "markdown",
   "metadata": {},
   "source": [
    "# Ejercicios Listas"
   ]
  },
  {
   "cell_type": "markdown",
   "metadata": {},
   "source": [
    "Escribir un programa que almacene las asignaturas de un curso (por ejemplo Matemáticas, Física, Química, Historia y Lengua) en una lista y la muestre por pantalla."
   ]
  },
  {
   "cell_type": "code",
   "execution_count": null,
   "metadata": {},
   "outputs": [],
   "source": [
    "asignaturas = [\"Fundamentos de programación\", \"Álgebra\", \"Aritmética\", \"Cálculo\"]\n",
    "print(asignaturas)"
   ]
  },
  {
   "cell_type": "markdown",
   "metadata": {},
   "source": [
    "Escribir un programa que almacene las asignaturas de un curso (por ejemplo Matemáticas, Física, Química, Historia y Lengua) en una lista y la muestre por pantalla."
   ]
  },
  {
   "cell_type": "code",
   "execution_count": null,
   "metadata": {},
   "outputs": [],
   "source": [
    "asignaturas = [\"Fundamentos de programación\", \"Álgebra\", \"Aritmética\", \"Cálculo\"]\n",
    "for asignatura in asignaturas:\n",
    "    print(\"Yo estudio \" + asignatura)"
   ]
  },
  {
   "cell_type": "markdown",
   "metadata": {},
   "source": [
    "Escribir un programa que almacene las asignaturas de un curso (por ejemplo Matemáticas, Física, Química, Historia y Lengua) en una lista y la muestre por pantalla."
   ]
  },
  {
   "cell_type": "code",
   "execution_count": null,
   "metadata": {},
   "outputs": [],
   "source": [
    "asignaturas = [\"Fundamentos de programación\", \"Álgebra\", \"Aritmética\", \"Cálculo\"]\n",
    "notas = []\n",
    "for asignatura in asignaturas:\n",
    "    nota = input(\"¿Qué nota has sacado en \" + asignatura + \"?\")\n",
    "    notas.append(nota)\n",
    "for i in range(len(asignaturas)):\n",
    "    print(\"En \" + asignaturas[i] + \" has sacado \" + notas[i])"
   ]
  },
  {
   "cell_type": "markdown",
   "metadata": {},
   "source": [
    "Escribir un programa que pregunte al usuario los números ganadores de la lotería primitiva, los almacene en una lista y los muestre por pantalla ordenados de menor a mayor."
   ]
  },
  {
   "cell_type": "code",
   "execution_count": null,
   "metadata": {},
   "outputs": [],
   "source": [
    "numeros_premiados = []\n",
    "\n",
    "# Un primer premio, 2 segundos premios y 3 terceros premios\n",
    "longitud_numeros = 6\n",
    "\n",
    "for i in range(longitud_numeros):\n",
    "    numeros_premiados.append(int(input(\"Introduce un número premiado: \")))\n",
    "numeros_premiados.sort()\n",
    "\n",
    "print(\"Los números ganadores son \" + str(numeros_premiados))"
   ]
  },
  {
   "cell_type": "markdown",
   "metadata": {},
   "source": [
    "Escribir un programa que almacene en una lista los números del 1 al 10 y los muestre por pantalla en orden inverso separados por comas."
   ]
  },
  {
   "cell_type": "code",
   "execution_count": null,
   "metadata": {},
   "outputs": [],
   "source": [
    "numbers = [1, 2, 3, 4, 5, 6, 7, 8, 9, 10]\n",
    "for i in range(1, 11):\n",
    "    # Truco el -i 😎\n",
    "    print(numbers[-i], end=\", \")"
   ]
  },
  {
   "cell_type": "markdown",
   "metadata": {},
   "source": [
    "Escribir un programa que almacene las asignaturas de un curso (por ejemplo Matemáticas, Física, Química, Historia y Lengua) en una lista, pregunte al usuario la nota que ha sacado en cada asignatura y elimine de la lista las asignaturas aprobadas. Al final el programa debe mostrar por pantalla las asignaturas que el usuario tiene que repetir."
   ]
  },
  {
   "cell_type": "code",
   "execution_count": null,
   "metadata": {},
   "outputs": [],
   "source": [
    "asignaturas = [\"Fundamentos de programación\", \"Álgebra\", \"Aritmética\", \"Cálculo\"]\n",
    "aprobadas = []\n",
    "\n",
    "#Pregunto por las notas\n",
    "for asignatura in asignaturas:\n",
    "    nota = float(input(\"¿Qué nota has sacado en \" + asignatura + \"?\"))\n",
    "# Si la asignatura está aprobada la añado a aprobadas\n",
    "    if nota >= 5:\n",
    "        aprobadas.append(asignatura)\n",
    "\n",
    "# Elimino las asignaturas que se encuentran en aprobadas\n",
    "for asignatura in aprobadas:\n",
    "    aprobadas.remove(asignatura)\n",
    "\n",
    "# Muestro la lista de las asignturas resultantes\n",
    "print(\"Tienes que repetir \" + str(asignaturas))"
   ]
  },
  {
   "cell_type": "code",
   "execution_count": null,
   "metadata": {},
   "outputs": [],
   "source": [
    "asignaturas = [\"Fundamentos de programación\", \"Álgebra\", \"Aritmética\", \"Cálculo\"]\n",
    "\n",
    "# Otra estrategia. Aqui utilizo el indice y no el valor\n",
    "for i in range(len(asignaturas)-1, -1, -1):\n",
    "    nota = float(input(\"¿Qué nota has sacado en \" + asignaturas[i] + \"?\"))\n",
    "\n",
    "# Si la asignatura está aprobada elimino el elemento que esté en la posición i\n",
    "    if nota >= 5:\n",
    "        asignaturas.pop(i)\n",
    "\n",
    "# Muestro la lista de las asignturas resultantes\n",
    "print(\"Tienes que repetir \" + str(asignaturas))"
   ]
  },
  {
   "cell_type": "markdown",
   "metadata": {},
   "source": [
    "Escribir un programa que almacene los vectores (1,2,3) y (-1,0,2) en dos listas y muestre por pantalla su producto escalar."
   ]
  },
  {
   "cell_type": "code",
   "execution_count": null,
   "metadata": {},
   "outputs": [],
   "source": [
    "a = [1, 2, 3]\n",
    "b = [-1, 0, 2]\n",
    "product = 0\n",
    "\n",
    "for i in range(len(a)):\n",
    "    product += a[i]*b[i]\n",
    "\n",
    "print(\"El producto de los vectores\" + str(a) + \" y \" + str(b) + \" es \" + str(product)) "
   ]
  },
  {
   "cell_type": "markdown",
   "metadata": {},
   "source": [
    "Escribir un programa que almacene las matrices\n",
    "\n",
    "$$\n",
    "A = \\left(\n",
    "  \\begin{array}{rrr}\n",
    "  1 & 2 & 3\\\\\n",
    "  4 & 5 & 6\n",
    "  \\end{array}\n",
    "  \\right)\n",
    "  \\quad  y\n",
    "  \\quad\n",
    "  B = \\left(\n",
    "  \\begin{array}{rr}\n",
    "  -1 & 0\\\\\n",
    "  0 & 1\\\\\n",
    "  1 & 1\n",
    "  \\end{array}\n",
    "  \\right)\n",
    "$$\n",
    "\n",
    "en una lista y muestre por pantalla su producto.  \n",
    "\n",
    "Nota: Para representar matrices mediante listas usar listas anidadas, representando cada vector fila en una lista."
   ]
  },
  {
   "cell_type": "code",
   "execution_count": 6,
   "metadata": {},
   "outputs": [
    {
     "name": "stdout",
     "output_type": "stream",
     "text": [
      "[2, 5]\n",
      "[2, 11]\n"
     ]
    }
   ],
   "source": [
    "a = [[1, 2, 3],\n",
    "     [4, 5, 6]]\n",
    "\n",
    "b = [[-1, 0],\n",
    "     [0, 1],\n",
    "     [1,1]]\n",
    "\n",
    "result = [[0,0],\n",
    "          [0,0]]\n",
    "\n",
    "for i in range(len(a)):\n",
    "    for j in range(len(b[0])):\n",
    "        for k in range(len(b)):\n",
    "            result[i][j] += a[i][k] * b[k][j]\n",
    "\n",
    "for i in range(len(result)):\n",
    "    print(result[i])"
   ]
  },
  {
   "cell_type": "markdown",
   "metadata": {},
   "source": [
    "# Ejercicios Ficheros"
   ]
  },
  {
   "cell_type": "markdown",
   "metadata": {},
   "source": [
    "Pedir al usuario un programa que  itere desde 10 hasta 0 y almacene en el cada iteración fichero ’pares.txt’ los que son pares y en otro denominado ’impares.txt’ los impares:"
   ]
  },
  {
   "cell_type": "code",
   "execution_count": 14,
   "metadata": {},
   "outputs": [],
   "source": [
    "# Definición de funciones\n",
    "def es_par(n):\n",
    "    return n % 2 == 0\n",
    "\n",
    "# Programa principal\n",
    "\n",
    "## Los archivos pares.txt e impares. txt se crearán en la misma carpeta donde se encuentre este archivo py \n",
    "fpares = open('pares.txt', 'w')\n",
    "fimpares = open('impares.txt', 'w')\n",
    "\n",
    "for i in range(10,0,-1):\n",
    "\n",
    "    numero_y_salto = str(i)+'\\n'\n",
    "    \n",
    "    if es_par(i):    \n",
    "        fpares.write(numero_y_salto) # Guardo en el archivo pares.txt\n",
    "    else:\n",
    "        fimpares.write(numero_y_salto) # Guardo en el archivo impares.txt\n",
    "\n",
    "## Cierro los archivos\n",
    "fpares.close()\n",
    "fimpares.close()"
   ]
  },
  {
   "cell_type": "markdown",
   "metadata": {},
   "source": [
    "Hacer un programa que lea los dos ficheros creados por el programa anterior y que calcule el valor medio de los números pares."
   ]
  },
  {
   "cell_type": "code",
   "execution_count": 15,
   "metadata": {},
   "outputs": [
    {
     "name": "stdout",
     "output_type": "stream",
     "text": [
      "La media de los pares es 10.0\n",
      "La media de los impares es 9.0\n"
     ]
    }
   ],
   "source": [
    "# Declaración de funciones\n",
    "def calcula_media(nombre):\n",
    "    suma = 0\n",
    "    contador = 0\n",
    "    fichero = open(nombre, 'r') # Abro el fichero en modo lectura\n",
    "    lineas = fichero.readlines() # Cargo las lineas del fichero en una variable\n",
    "    fichero.close() # Cierro el fichero. LA INFORMACIÓN ESTÁ EN LA VARIABLE LINEAS. NO LOS NECESIO\n",
    "\n",
    "    for lin in lineas:\n",
    "        n = int(lin)\n",
    "        suma = suma + n\n",
    "        contador = contador + 1\n",
    "        return float(suma)/contador\n",
    "\n",
    "# Programa principal\n",
    "print('La media de los pares es', calcula_media('pares.txt'))\n",
    "print('La media de los impares es', calcula_media('impares.txt'))"
   ]
  },
  {
   "cell_type": "markdown",
   "metadata": {},
   "source": [
    "Haz una función que tome como parámetros un nombre de fichero y una palabra y retorne una lista con los números de línea en los que aparece dicha palabra. Haz un programa en el que se utilice dicha función.\n",
    "\n",
    "👀 Necesitamos crear los archivos previamente."
   ]
  },
  {
   "cell_type": "code",
   "execution_count": null,
   "metadata": {},
   "outputs": [],
   "source": [
    "#Definición de funciones\n",
    "def caracteres_en_fichero(nombre, caracteres):\n",
    "\n",
    "    f = open(nombre, 'r') # Abrimos el fichero en modo lectura. No vamos a escribir\n",
    "    lista_numeros_de_linea = [] # Creamos una lista vacía donde iremos añadiendo los número de linea\n",
    "    contador = 0\n",
    "    for linea in f:\n",
    "        contador = contador + 1 # Python comienza iterando por 0, Añadimos 1 para corregir el número de línea\n",
    "        if caracteres in linea:\n",
    "            lista_numeros_de_linea.append(contador)\n",
    "            f.close()\n",
    "        return lista_numeros_de_linea\n",
    "\n",
    "\n",
    "# Programa principal\n",
    "\n",
    "## Pedimos datos al usuario\n",
    "nombre_fichero = input('Introduce el nombre del fichero: ')\n",
    "secuencia = input('Introduce la secuencia de caracteres a buscar: ')\n",
    "\n",
    "## LLamada a la función y almacenamiento en líneas\n",
    "lineas = caracteres_en_fichero(nombre_fichero, secuencia)\n",
    "\n",
    "# Salida del programa.\n",
    "if len(lineas) == 0:\n",
    "    print('La secuencia', secuencia, 'no aparece en ninguna línea')\n",
    "else:\n",
    "    print('La secuencia', secuencia, 'aparece en las lineas siguientes:',lineas)"
   ]
  }
 ],
 "metadata": {
  "interpreter": {
   "hash": "aee8b7b246df8f9039afb4144a1f6fd8d2ca17a180786b69acc140d282b71a49"
  },
  "kernelspec": {
   "display_name": "Python 3.9.0 64-bit",
   "language": "python",
   "name": "python3"
  },
  "language_info": {
   "codemirror_mode": {
    "name": "ipython",
    "version": 3
   },
   "file_extension": ".py",
   "mimetype": "text/x-python",
   "name": "python",
   "nbconvert_exporter": "python",
   "pygments_lexer": "ipython3",
   "version": "3.9.0 (v3.9.0:9cf6752276, Oct  5 2020, 11:29:23) \n[Clang 6.0 (clang-600.0.57)]"
  },
  "orig_nbformat": 4
 },
 "nbformat": 4,
 "nbformat_minor": 2
}
