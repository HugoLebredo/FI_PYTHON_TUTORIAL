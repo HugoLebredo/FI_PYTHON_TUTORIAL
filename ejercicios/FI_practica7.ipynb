{
 "cells": [
  {
   "cell_type": "markdown",
   "metadata": {},
   "source": [
    "# Funciones I"
   ]
  },
  {
   "cell_type": "markdown",
   "metadata": {},
   "source": [
    "## Ejercicio 1"
   ]
  },
  {
   "cell_type": "markdown",
   "metadata": {},
   "source": [
    "Definir dos funciones:\n",
    "\n",
    "1. La función `lee_entero()` que retorna un número entero leído por teclado.\n",
    "2. Una función que retorne el mayor de dos números enteros dados. A esta función la denotaremos como `mayor()`.\n",
    "\n",
    "Utilizar las funciones definidas previamente para escribir un programa que solicite dos números enteros y muestre en pantalla el mayor de ellos."
   ]
  },
  {
   "cell_type": "code",
   "execution_count": null,
   "metadata": {},
   "outputs": [],
   "source": [
    "def lee_entero ():\n",
    "    return int(input(\"Dame un número entero: \"))\n",
    "    \n",
    "def mayor (x, y):\n",
    "    if x > y:\n",
    "        maximo = x\n",
    "    else:\n",
    "        maximo = y\n",
    "    return maximo\n",
    "\n",
    "# programa principal    \n",
    "a = lee_entero()\n",
    "b = lee_entero()\n",
    "print(\"El mayor es:\", mayor(a, b))"
   ]
  },
  {
   "cell_type": "markdown",
   "metadata": {},
   "source": [
    "## Ejercicio 2"
   ]
  },
  {
   "cell_type": "markdown",
   "metadata": {},
   "source": [
    "Mediante el uso de `docstrings` documenta las funciones del ejercicio anterior.\n",
    "\n",
    "Nota. Además de los comentarios que se pueden incluir en cualquier parte del programa, las funciones se pueden documentar para especificar, textualmente, qué necesitan y qué retornan. Para ello se utilizan los docstrings que son cadenas de texto que se incluyen en el código fuente, al igual que un comentario.\n",
    "\n",
    "En Python los docstrings comienzan y terminan con tres comillas dobles:` \"\"\"` y, lo habitual, es que se ubiquen tras la cabecera de la función.\n",
    "\n",
    "Ejemplo:\n",
    "\n",
    "```python\n",
    "def producto (a, b):\n",
    " \"\"\"Dados dos números, a y b, retorna\n",
    " el producto de ambos\"\"\"\n",
    " return a * b\n",
    " ```\n",
    "La función predefinida de ayuda (help) permite recuperar esta documentación pasando el nombre de la función. Así, la expresión help(producto) mostrará el siguiente\n",
    "\n",
    "Resultado:\n",
    "\n",
    "```\n",
    "Help on function producto in module __main__:\n",
    "producto(a, b)\n",
    " Dados dos números, a y b, retorna el producto de ambos\n",
    "```"
   ]
  },
  {
   "cell_type": "code",
   "execution_count": null,
   "metadata": {},
   "outputs": [],
   "source": [
    "def lee_entero ():\n",
    "    \"\"\"Lee un entero por teclado y lo retorna\"\"\"\n",
    "    return int(input(\"Dame un número entero: \"))\n",
    "    \n",
    "def mayor (x, y):\n",
    "    \"\"\"Dados dos números (x e y) retorna el mayor de ellos\"\"\"\n",
    "    if x > y:\n",
    "        maximo = x\n",
    "    else:\n",
    "        maximo = y\n",
    "    return maximo\n",
    "\n",
    "# programa principal    \n",
    "a = lee_entero()\n",
    "b = lee_entero()\n",
    "print(\"El mayor es:\", mayor(a, b))"
   ]
  },
  {
   "cell_type": "markdown",
   "metadata": {},
   "source": [
    "## Ejercicio 3"
   ]
  },
  {
   "cell_type": "markdown",
   "metadata": {},
   "source": [
    "Utilizando las funciones del ejercicio 1 ¿podrías calcular el **mayor** de 3 números dados? Escribe un programa que así lo permita"
   ]
  },
  {
   "cell_type": "code",
   "execution_count": null,
   "metadata": {},
   "outputs": [],
   "source": [
    "def lee_entero ():\n",
    "    \"\"\"Lee un entero de teclado y lo retorna\"\"\"\n",
    "    return int(input(\"Dame un número entero: \"))\n",
    "    \n",
    "def mayor (x, y):\n",
    "    \"\"\"Dados dos números (x e y) retorna el mayor de ellos\"\"\"\n",
    "    if x > y:\n",
    "        maximo = x\n",
    "    else:\n",
    "        maximo = y\n",
    "    return maximo\n",
    "    \n",
    "# programa principal\n",
    "a = lee_entero()\n",
    "b = lee_entero()\n",
    "c = lee_entero()\n",
    "print(\"El mayor es:\", mayor(a, mayor(b,c)))"
   ]
  },
  {
   "cell_type": "markdown",
   "metadata": {},
   "source": [
    "## Ejercicio 4"
   ]
  },
  {
   "cell_type": "markdown",
   "metadata": {},
   "source": [
    "Define una función que retorne cierto si un año dado es bisiesto y falso en caso contrario. A continuación, escribe un programa que solicite por teclado un año (**entero positivo**) y muestre en pantalla si éste es o no bisiesto, haciendo uso de la función ya definida.\n",
    "\n",
    "Se supondrá que el año se introduce correctamente y para describir la función se puede utilizar la definición de año bisiesto dada en la Wikipedia.\n",
    "\n",
    "Ejemplo de resultado:\n",
    "\n",
    "`(para el año en curso) -> El año 1984 es bisiesto`"
   ]
  },
  {
   "cell_type": "code",
   "execution_count": null,
   "metadata": {},
   "outputs": [],
   "source": [
    "def es_bisiesto (n):\n",
    "    \"\"\"Dado un año retorna True si éste es bisiesto\n",
    "    y False en caso contrario\"\"\"\n",
    "    return (n % 4 == 0 and n % 100 !=0) or n % 400 == 0\n",
    "\n",
    "# programa principal\n",
    "anio = int(input(\"Dime el año (>0): \"))\n",
    "if es_bisiesto(anio):\n",
    "    print(\"El año\", anio, \"es bisiesto.\")\n",
    "else:\n",
    "    print(\"El año\", anio, \"no es bisiesto\")"
   ]
  },
  {
   "cell_type": "markdown",
   "metadata": {},
   "source": [
    "## Ejercicio 5"
   ]
  },
  {
   "cell_type": "markdown",
   "metadata": {},
   "source": [
    "Escribe una función que dada la nota numérica (con un decimal) de un alumno proporcione la calificación: *suspenso*, *aprobado*, *notable*, *sobresaliente* o *matrícula de honor*.\n",
    "\n",
    "Dónde:\n",
    "\n",
    "$$\n",
    "calificacion(x) =  \\begin{cases} suspenso & \\text{si }x~\\epsilon~[0, 5)\\\\\n",
    "aprobados & \\text{si }x ~\\epsilon~[5, 7)\\\\\n",
    "notable & \\text{si }x ~\\epsilon~[7, 9)\\\\\n",
    "sobresalientes& \\text{si }x ~\\epsilon~[9, 10)\\\\\n",
    "matricula de honor & \\text{si }~x = 10 \\end{cases}.\n",
    "$$\n",
    "\n",
    "Documenta la función realizada y escribe un programa que solicite por teclado la nota numérica del alumno y muestre en pantalla su calificación. Se supondrá que la nota se introduce correctamente."
   ]
  },
  {
   "cell_type": "code",
   "execution_count": null,
   "metadata": {},
   "outputs": [],
   "source": [
    "def calificacion (nota):\n",
    "    \"\"\"Dada una nota numérica retorna su calificación\n",
    "    (una cadena de caracteres)\"\"\"\n",
    "    if nota < 5:\n",
    "        cadena = \"suspenso\"\n",
    "    elif nota < 7:\n",
    "        cadena = \"aprobado\"\n",
    "    elif nota < 9:\n",
    "        cadena = \"notable\"\n",
    "    elif nota < 10:\n",
    "        cadena = \"sobresaliente\"\n",
    "    else:\n",
    "        cadena = \"matrícula de honor\"\n",
    "    return cadena\n",
    "\n",
    "# programa principal   \n",
    "la_nota = float(input(\"Nota numérica con un decimal: \"))\n",
    "print(\"La calificación es:\", calificacion(la_nota))"
   ]
  },
  {
   "cell_type": "markdown",
   "metadata": {},
   "source": [
    "## Ejercicio 6"
   ]
  },
  {
   "cell_type": "markdown",
   "metadata": {},
   "source": [
    "Define una función que proporcione el *estado nutricional* de una persona. Esto es; la clasificación de su *índice de masa corporal* (IMC), según la tabla proporcionada. La función recibirá el peso (en kilos) y la talla de una persona (en metros), datos a partir de los cuales se puede calcular el IMC cómo:\n",
    "\n",
    "$$\n",
    " IMC = \\frac{peso}{altura^2}\n",
    "$$\n",
    "\n",
    "<center>\n",
    "\n",
    "| Clasificación | $IMC(Kg/m^2)$ \t    |\n",
    "|---\t        |---\t                |\n",
    "| *Bajo peso*\t| $\\leq 18.50$          |\n",
    "| *Normal* \t    | $\\leq [18.50, 25.00)$ |\n",
    "| *Sobrepeso* \t| $\\leq 25.00$          |\n",
    "| *Obesidad* \t| $\\geq 30.00$          |\n",
    "\n",
    "</center>\n",
    "\n",
    "Documenta la función realizada y escribe un programa que solicite por teclado el peso y la talla de una persona (ambos con dos decimales) y muestre en pantalla su estado nutricional. Se supondrá que los datos se introducen correctamente."
   ]
  },
  {
   "cell_type": "code",
   "execution_count": null,
   "metadata": {},
   "outputs": [],
   "source": [
    "def estado_nutricional (peso, altura):\n",
    "    \"\"\"Retorna el estado nutricional de una\n",
    "    persona para un peso y altura dados\"\"\"\n",
    "    IMC = peso/altura**2\n",
    "    if IMC <= 18.50:\n",
    "        estado = \"Bajo peso\"\n",
    "    elif IMC < 25.00:\n",
    "        estado = \"Normal\"\n",
    "    elif IMC < 30.00:\n",
    "        estado = \"Sobrepeso\"\n",
    "    else:\n",
    "        estado = \"Obesidad\"\n",
    "    return estado\n",
    "\n",
    "# programa principal\n",
    "peso = float(input(\"Peso en kilos: \"))\n",
    "talla = float(input(\"Talla en metros: \"))\n",
    "print(\"Tú estado nutricional es:\", estado_nutricional(peso, talla))"
   ]
  },
  {
   "cell_type": "markdown",
   "metadata": {},
   "source": [
    "## Ejercicio 7"
   ]
  },
  {
   "cell_type": "markdown",
   "metadata": {},
   "source": [
    "Define una función para obtener la distancia al origen de un punto de abscisa `y ordenada dadas. Una vez definida la función, escribe un programa que obtenga por teclado las coordenadas cartesianas de un punto del plano y muestre en pantalla la distancia de éste al origen de coordenadas.\n",
    "\n",
    "En la definición de la función, deberás importar las funciones necesarias desde el módulo `math`. Esta librería proporciona, entre otras, una función para obtener la raíz cuadrada de un número dado (`sqrt(x)`) y otra que calcula la potencia `y` de un número dado `x` (`pow(x, y)`).\n",
    "\n",
    "**Nota**. Puedes consultar cómo utilizar las funciones de la librería math en la documentación en línea de Python: https://docs.python.org/3/library/math.html"
   ]
  },
  {
   "cell_type": "markdown",
   "metadata": {},
   "source": [
    "### Solución 1"
   ]
  },
  {
   "cell_type": "code",
   "execution_count": 1,
   "metadata": {},
   "outputs": [],
   "source": [
    "# importar de la líbreria math\n",
    "# las funciones a utilizar\n",
    "\n",
    "from math import sqrt, pow\n",
    "\n",
    "def distancia (a, b):\n",
    "    \"\"\"Retorna la distancia del punto de\n",
    "    coordenadas (a, b) al origen\"\"\"\n",
    "\n",
    "    potencia_a = pow(a, 2)\n",
    "    potencia_b = pow(b, 2)\n",
    "\n",
    "    return sqrt(potencia_a + potencia_b)\n",
    "\n",
    "# programa principal\n",
    "x = float(input(\"Abcisa del punto: \"))\n",
    "y = float(input(\"Ordenada del punto: \"))\n",
    "print(\"Distancia del punto al origen: \", distancia(x, y))"
   ]
  },
  {
   "cell_type": "markdown",
   "metadata": {},
   "source": [
    "### Solución 2"
   ]
  },
  {
   "cell_type": "code",
   "execution_count": null,
   "metadata": {},
   "outputs": [],
   "source": [
    "# importar de la líbreria math\n",
    "# las funciones a utilizar\n",
    "\n",
    "from math import sqrt, pow\n",
    "\n",
    "def distancia (a, b):\n",
    "    \"\"\"Retorna la distancia del punto de\n",
    "    coordenadas (a, b) al origen\"\"\"\n",
    "    return sqrt(pow(a, 2) + pow(b, 2))\n",
    "\n",
    "# programa principal\n",
    "x = float(input(\"Abcisa del punto: \"))\n",
    "y = float(input(\"Ordenada del punto: \"))\n",
    "print(\"Distancia del punto al origen: \", distancia(x, y))"
   ]
  },
  {
   "cell_type": "markdown",
   "metadata": {},
   "source": [
    "## Ejercicio 8"
   ]
  },
  {
   "cell_type": "markdown",
   "metadata": {},
   "source": [
    "Utilizando la función del ejercicio previo, define una función que retorne la longitud de una circunferencia cuyo centro es el origen de coordenadas y que pasa por un punto del plano de abscisa y ordenada dadas. Para determinar la longitud, se utilizará el valor de $\\pi$ importado desde el módulo `math(pi)`.\n",
    "\n",
    "Realiza un programa que solicite por teclado las coordenadas cartesianas de un punto del plano por el que pasa una circunferencia con centro en el origen de coordenadas y, utilizando la función realizada, muestra en pantalla su longitud."
   ]
  },
  {
   "cell_type": "code",
   "execution_count": null,
   "metadata": {},
   "outputs": [],
   "source": [
    "# importar de la libreria math\n",
    "# las funciones a utilizar y pi\n",
    "from math import sqrt, pow, pi\n",
    "\n",
    "def distancia (a, b):\n",
    "    \"\"\"Retorna la distancia del punto de\n",
    "    coordenadas (a, b) al origen\"\"\"\n",
    "    return sqrt(pow(a, 2) + pow(b, 2))\n",
    "\n",
    "def longitud (a, b):\n",
    "    \"\"\"Retorna la longitud de una circunferencia de\n",
    "    centro el origen y que pasa por el punto (a, b)\"\"\"\n",
    "    return 2 * pi * distancia(a, b)\n",
    "\n",
    "# programa principal\n",
    "x = float(input(\"Abcisa de un punto de la circuferencia: \"))\n",
    "y = float(input(\"Ordenada de un punto de la circunferencia: \"))\n",
    "print(\"La longitud de la circunferencia es:\", longitud(x, y))"
   ]
  }
 ],
 "metadata": {
  "kernelspec": {
   "display_name": "Python 3",
   "language": "python",
   "name": "python3"
  },
  "language_info": {
   "codemirror_mode": {
    "name": "ipython",
    "version": 3
   },
   "file_extension": ".py",
   "mimetype": "text/x-python",
   "name": "python",
   "nbconvert_exporter": "python",
   "pygments_lexer": "ipython3",
   "version": "3.9.0"
  },
  "orig_nbformat": 4,
  "vscode": {
   "interpreter": {
    "hash": "aee8b7b246df8f9039afb4144a1f6fd8d2ca17a180786b69acc140d282b71a49"
   }
  }
 },
 "nbformat": 4,
 "nbformat_minor": 2
}
