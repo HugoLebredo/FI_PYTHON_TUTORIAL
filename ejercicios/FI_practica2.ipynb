{
 "cells": [
  {
   "cell_type": "markdown",
   "metadata": {},
   "source": [
    "# Uso de entrada/salida por consola\n",
    "## Ejercicio 1.\n",
    "Hacer un programa en Python que haga lo siguiente:\n",
    "- Lea por teclado el nombre y dos notas de un alumno.\n",
    "- Calcule la nota media.\n",
    "- Guarde en una variable el valor booleano `“verdadero”` si la nota media es mayor o igual que `5` y `“falso”` en caso contrario"
   ]
  },
  {
   "cell_type": "code",
   "execution_count": null,
   "metadata": {},
   "outputs": [],
   "source": [
    "nombre = input(\"Teclea tu nombre: \")\n",
    "nota1_str = input(\"Teclea la primera nota: \")\n",
    "nota2_str = input(\"Teclea la segunda nota: \")\n",
    "\n",
    "nota1 = float(nota1_str)\n",
    "nota2 = float(nota2_str)\n",
    "\n",
    "media = (nota1 + nota2)/2\n",
    "\n",
    "aprobado = (media >= 5)"
   ]
  },
  {
   "cell_type": "markdown",
   "metadata": {},
   "source": [
    "## Ejercicio 2.\n",
    "Añadir al programa del Ejercicio 1 las sentencias necesarias para realizar la salida de datos por pantalla de la forma siguiente:\n",
    "\n",
    "```\n",
    "La nota media de Juan es 3.25 #(o el valor que corresponda)\n",
    "Aprueba la asignatura: False #(o el valor que corresponda\n",
    "```"
   ]
  },
  {
   "cell_type": "code",
   "execution_count": null,
   "metadata": {},
   "outputs": [],
   "source": [
    "print(\"La nota media de\", nombre, \"es\", media)\n",
    "\n",
    "print(\"Aprueba la asignatura:\", aprobado)"
   ]
  },
  {
   "cell_type": "markdown",
   "metadata": {},
   "source": [
    "## Ejercicio 3.\n",
    "Hacer un programa que lea por teclado el radio de un círculo y calcule el área del mismo.\n",
    "\n",
    "El resultado debe tener una forma similar a esta:\n",
    "\n",
    "`El área de un círculo de radio 4.0 es 50.2656`"
   ]
  },
  {
   "cell_type": "code",
   "execution_count": null,
   "metadata": {},
   "outputs": [],
   "source": [
    "radio = float(input(\"Teclea el radio de la circunferencia: \"))\n",
    "pi  =3.1416\n",
    "\n",
    "area = pi * radio ** 2\n",
    "\n",
    "print (\"El área de una círculo de radio\", radio, \"es\", area)"
   ]
  },
  {
   "cell_type": "markdown",
   "metadata": {},
   "source": [
    "## Ejercicio 4.\n",
    "Hacer un programa en Python que pida al usuario los coeficientes de una ecuación de segundo grado y saque por pantalla las dos soluciones, suponiendo que existan.\n",
    "\n",
    "$x = \\frac {-b \\pm \\sqrt {b^2 - 4ac}}{2a}$"
   ]
  },
  {
   "cell_type": "code",
   "execution_count": null,
   "metadata": {},
   "outputs": [],
   "source": [
    "print (\"Ecuación de 2º grado: Ax^2 + Bx + C\")\n",
    "\n",
    "A=float(input(\"Introduce el coeficiente A: \"))\n",
    "B=float(input(\"Introduce el coeficiente B: \"))\n",
    "C=float(input(\"Introduce el coeficiente C: \"))\n",
    "\n",
    "raiz = ( B**2 - 4*A*C )**0.5\n",
    "\n",
    "X1 = ( -B + raiz )/( 2*A )\n",
    "X2 = ( -B - raiz )/( 2*A )\n",
    "\n",
    "# Muestra las 2 soluciones\n",
    "print (\"Las soluciones son:\",X1, \"y\", X2)"
   ]
  },
  {
   "cell_type": "markdown",
   "metadata": {},
   "source": [
    "## Ejercicio 5.\n",
    "Hacer un programa en Python que pida por teclado una distancia en metros e imprimir esa distancia en pulgadas, pies, yardas... Buscar los factores de conversión en la red."
   ]
  },
  {
   "cell_type": "code",
   "execution_count": null,
   "metadata": {},
   "outputs": [],
   "source": [
    "# Introducir datos\n",
    "metros_str = input(\"Dame la medida en metros: \")\n",
    "metros = float(metros_str)\n",
    "\n",
    "# Factores de conversión\n",
    "metros2pulgadas = 39.3701\n",
    "metros2pies = 3.2808\n",
    "metros2yardas = 1.093613\n",
    "\n",
    "# Conversiones:\n",
    "pulgadas = metros * metros2pulgadas\n",
    "pies = metros * metros2pies\n",
    "yardas = metros * metros2yardas\n",
    "\n",
    "# Muestra los resultados\n",
    "print (\"La distancia de\", metros, \"metros en PULGADAS es\", pulgadas)\n",
    "print (\"La distancia de\", metros, \"metros en PIES es\", pies)\n",
    "print (\"La distancia de\", metros, \"metros en YARDAS es\", yardas)"
   ]
  }
 ],
 "metadata": {
  "kernelspec": {
   "display_name": "Python 3",
   "language": "python",
   "name": "python3"
  },
  "language_info": {
   "name": "python",
   "version": "3.9.0 (v3.9.0:9cf6752276, Oct  5 2020, 11:29:23) \n[Clang 6.0 (clang-600.0.57)]"
  },
  "orig_nbformat": 4,
  "vscode": {
   "interpreter": {
    "hash": "aee8b7b246df8f9039afb4144a1f6fd8d2ca17a180786b69acc140d282b71a49"
   }
  }
 },
 "nbformat": 4,
 "nbformat_minor": 2
}
