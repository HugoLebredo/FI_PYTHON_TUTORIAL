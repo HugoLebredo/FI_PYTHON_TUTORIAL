{
 "cells": [
  {
   "cell_type": "markdown",
   "metadata": {},
   "source": [
    "# Bucle FOR"
   ]
  },
  {
   "cell_type": "markdown",
   "metadata": {},
   "source": [
    "## Ejercicio 1"
   ]
  },
  {
   "cell_type": "markdown",
   "metadata": {},
   "source": [
    "Dado un número entero `n ≥ 0`, escribir un programa para obtener la suma de los `n` primeros números naturales y escribir el resultado obtenido en la forma:\n",
    "`La suma de los 5 primeros números naturales es: 15`"
   ]
  },
  {
   "cell_type": "markdown",
   "metadata": {},
   "source": [
    "### Solución 1"
   ]
  },
  {
   "cell_type": "code",
   "execution_count": null,
   "metadata": {},
   "outputs": [],
   "source": [
    "# Pedir un número mayor que 0.\n",
    "n = int(input(\"Introduce numero entero (>=0): \"))\n",
    "\n",
    "# Inicializar la variable suma a 0.\n",
    "suma = 0\n",
    "\n",
    "for i in range(1, n + 1, 1):\n",
    "    suma = suma + i\n",
    "\n",
    "# Mostrar los valores de n y suma.\n",
    "print(\"La suma de los\", n, \"primeros números naturales es:\", suma)"
   ]
  },
  {
   "cell_type": "markdown",
   "metadata": {},
   "source": [
    "### Solución 2"
   ]
  },
  {
   "cell_type": "code",
   "execution_count": null,
   "metadata": {},
   "outputs": [],
   "source": [
    "n = int(input(\"Introduce numero entero (>=0): \"))\n",
    "\n",
    "# Se comprueba que el número es mayor que 0\n",
    "while n < 0:\n",
    "    n = int(input(\"Introduce numero entero (>=0): \"))\n",
    "\n",
    "for i in range(1, n + 1, 1):\n",
    "    suma = suma + i\n",
    "\n",
    "# Mostrar los valores de n y suma.\n",
    "print(\"La suma de los\", n, \"primeros números naturales es:\", suma)"
   ]
  },
  {
   "cell_type": "markdown",
   "metadata": {},
   "source": [
    "## Ejercicio 2"
   ]
  },
  {
   "cell_type": "markdown",
   "metadata": {},
   "source": [
    "Dado un número entero $n \\geq 0$, escribir un programa para calcular el factorial del número $n (n!)$ y escribir el resultado obtenido en la forma:\n",
    "`4 ! = 24`"
   ]
  },
  {
   "cell_type": "markdown",
   "metadata": {},
   "source": [
    "### Solución 1"
   ]
  },
  {
   "cell_type": "code",
   "execution_count": null,
   "metadata": {},
   "outputs": [],
   "source": [
    "# Leer el número n\n",
    "n = int(input(\"INTRODUCE UN NÚMERO (>=0): \"))\n",
    "\n",
    "# Inicializar el factorial a 1 (0! = 1)\n",
    "factorial = 1\n",
    "\n",
    "# Mientras no se hayan multiplicado los n primeros números naturales, se seguirá iterando\n",
    "for i in range (1, n + 1, 1):\n",
    "    factorial = factorial * i\n",
    "\n",
    "# Mostrar el resultado\n",
    "print(n, \"! =\", factorial)"
   ]
  },
  {
   "cell_type": "markdown",
   "metadata": {},
   "source": [
    "### Solución 2"
   ]
  },
  {
   "cell_type": "code",
   "execution_count": null,
   "metadata": {},
   "outputs": [],
   "source": [
    "# Leer el número n\n",
    "n = int(input(\"INTRODUCE UN NÚMERO (>=0): \"))\n",
    "\n",
    "# Mientras el número leido n sea menor que 0, se seguirá pidiendo un número.\n",
    "while n < 0:\n",
    "    print(\"El valor de n\", n, \"no es válido\")\n",
    "    n = int(input(\"INTRODUCE UN NÚMERO (>=0): \"))\n",
    "\n",
    "# Inicializar el factorial a 1 (0! = 1)\n",
    "factorial = 1\n",
    "\n",
    "# Mientras no se hayan multiplicado los n primeros números naturales, se seguirá iterando\n",
    "for i in range (1, n + 1, 1):\n",
    "    factorial = factorial * i\n",
    "\n",
    "# Mostrar el resultado\n",
    "print(n, \"! =\", factorial)"
   ]
  },
  {
   "cell_type": "markdown",
   "metadata": {},
   "source": [
    "## Ejercicio 3"
   ]
  },
  {
   "cell_type": "markdown",
   "metadata": {},
   "source": [
    "Dado un número entero $n\\geq0$, escribir un programa para obtener una cadena de caracteres que contenga $n$ asteriscos y escribir el resultado obtenido.\n",
    "\n",
    "Ejemplo de salida del programa para n = 3: `***`"
   ]
  },
  {
   "cell_type": "markdown",
   "metadata": {},
   "source": [
    "### Solución 1"
   ]
  },
  {
   "cell_type": "code",
   "execution_count": null,
   "metadata": {},
   "outputs": [],
   "source": [
    "# Pedir un número\n",
    "n = int(input(\"INTRODUCE UN NÚMERO (>=0): \"))\n",
    "\n",
    "# Inicializar la cadena\n",
    "cadena = \"\"\n",
    "\n",
    "# Mientras no se hayan añadido n asteriscos, se seguirá iterando\n",
    "for i in range (1, n + 1, 1):\n",
    "    cadena = cadena + '*'\n",
    "\n",
    "# Escribir el resultado\n",
    "print(cadena)"
   ]
  },
  {
   "cell_type": "markdown",
   "metadata": {},
   "source": [
    "### Solución 2"
   ]
  },
  {
   "cell_type": "code",
   "execution_count": null,
   "metadata": {},
   "outputs": [],
   "source": [
    "# Pedir un número\n",
    "n = int(input(\"INTRODUCE UN NÚMERO (>=0): \"))\n",
    "\n",
    "# Mientras el número leído sea menor que 0, se seguirá pidiendo un número.\n",
    "while n < 0:\n",
    "    n  = int(input(\"INTRODUCE UN NÚMERO (>0): \"))\n",
    "\n",
    "# Inicializar la cadena\n",
    "cadena = \"\"\n",
    "\n",
    "# Mientras no se hayan añadido n asteriscos, se seguirá iterando\n",
    "for i in range (1, n + 1, 1):\n",
    "    cadena = cadena + '*'\n",
    "\n",
    "# Escribir el resultado\n",
    "print(cadena)"
   ]
  },
  {
   "cell_type": "markdown",
   "metadata": {},
   "source": [
    "## Ejercicio 4"
   ]
  },
  {
   "cell_type": "markdown",
   "metadata": {},
   "source": [
    "Escribir un programa que imprima todos los números comprendidos entre 20 y 10 en sentido decreciente.\n",
    "\n",
    "Salida del programa: \n",
    "`\n",
    "    20\n",
    "    19\n",
    "    18\n",
    "    …\n",
    "    10\n",
    "`"
   ]
  },
  {
   "cell_type": "code",
   "execution_count": null,
   "metadata": {},
   "outputs": [],
   "source": [
    "for i in range (20, 9, -1):\n",
    "    print(i)"
   ]
  },
  {
   "cell_type": "markdown",
   "metadata": {},
   "source": [
    "## Ejercicio 5"
   ]
  },
  {
   "cell_type": "markdown",
   "metadata": {},
   "source": [
    "Escribir un programa que imprima **todos los números pares** comprendidos entre 40 y 20 en sentido decreciente.\n",
    "\n",
    "Salida del programa: \n",
    "`\n",
    "40\n",
    "38\n",
    "36\n",
    "…\n",
    "20\n",
    "`"
   ]
  },
  {
   "cell_type": "code",
   "execution_count": null,
   "metadata": {},
   "outputs": [],
   "source": [
    "for i in range (40, 19, -2):\n",
    "    print(i)"
   ]
  },
  {
   "cell_type": "markdown",
   "metadata": {},
   "source": [
    "## Ejercicio 6"
   ]
  },
  {
   "cell_type": "markdown",
   "metadata": {},
   "source": [
    "Escribir un programa que imprima todos los múltiplos de 3 inferiores a 100."
   ]
  },
  {
   "cell_type": "code",
   "execution_count": null,
   "metadata": {},
   "outputs": [],
   "source": [
    "# La variable i irá tomando los valores: 0, 1, 3, ..., 99.\n",
    "\n",
    "for i in range(0, 100, 3):\n",
    "    print(i)"
   ]
  },
  {
   "cell_type": "markdown",
   "metadata": {},
   "source": [
    "## Ejercicio 7"
   ]
  },
  {
   "cell_type": "markdown",
   "metadata": {},
   "source": [
    "Escribir un programa que calcule la siguiente expresión matemática\n",
    "\n",
    "$$ \\sum_{i=1}^{100} \\left( \\frac{i^2 + 1}{i} \\right)$$\n",
    "\n",
    "y mostrar el resultado en pantalla."
   ]
  },
  {
   "cell_type": "code",
   "execution_count": null,
   "metadata": {},
   "outputs": [],
   "source": [
    "suma = 0\n",
    "\n",
    "for i in range(1, 101, 1):\n",
    "    suma = suma + (i**2 + 1) / i\n",
    "\n",
    "# Mostrar el valor de suma.\n",
    "print(\"resultado:\", suma)"
   ]
  },
  {
   "cell_type": "markdown",
   "metadata": {},
   "source": [
    "## Ejercicio 8"
   ]
  },
  {
   "cell_type": "markdown",
   "metadata": {},
   "source": [
    "Dados dos enteros a>0 y b, modificar el programa anterior para calcular la expresión matemática\n",
    "\n",
    "$$ \\sum_{i=a}^{b} \\left( \\frac{i^2 + 1}{i} \\right)$$\n",
    "\n",
    "y escribir el resultado en pantalla."
   ]
  },
  {
   "cell_type": "markdown",
   "metadata": {},
   "source": [
    "### Solución 1"
   ]
  },
  {
   "cell_type": "code",
   "execution_count": null,
   "metadata": {},
   "outputs": [],
   "source": [
    "# Pedir el límite inferior del sumatorio\n",
    "a = int(input(\"INTRODUCE EL LIMITE INFERIOR a DEL SUMATORIO (>0): \"))\n",
    "\n",
    "# Pedir el límite superior del sumatorio\n",
    "b = int(input(\"INTRODUCE EL LIMITE SUPERIOR b DEL SUMATORIO: \"))\n",
    "\n",
    "# Inicializar la variable suma a 0.\n",
    "suma = 0\n",
    "\n",
    "# Bucle for para realizar el cálculo del sumatorio.\n",
    "# La variable i irá tomando los valores: a, a+1, ..., b. Si b<a el bucle no se\n",
    "# se realiza y la suma será 0\n",
    "# En cada iteración del bucle for, la variable suma se incrementa con\n",
    "# el término del sumatorio correspondiente.\n",
    "for i in range(a, b + 1, 1):\n",
    "    suma = suma + (i**2 + 1) / i\n",
    "\n",
    "# Mostrar el valor de suma.\n",
    "print(\"EL RESULTADO DEL SUMATORIO ES:\", suma)"
   ]
  },
  {
   "cell_type": "markdown",
   "metadata": {},
   "source": [
    "### Solución 2"
   ]
  },
  {
   "cell_type": "code",
   "execution_count": null,
   "metadata": {},
   "outputs": [],
   "source": [
    "# Pedir el límite inferior del sumatorio\n",
    "a = int(input(\"INTRODUCE EL LIMITE INFERIOR a DEL SUMATORIO (>0): \"))\n",
    "\n",
    "# Mientras el numero leído sea menor o igual que 0, se seguira pidiendo un numero.\n",
    "while a <= 0:\n",
    "    print(\"El valor de a\", a, \"no es válido\")\n",
    "    a = int(input(\"INTRODUCE EL LIMITE INFERIOR a DEL SUMATORIO (>0): \"))\n",
    "\n",
    "# Pedir el límite superior del sumatorio\n",
    "b = int(input(\"INTRODUCE EL LIMITE SUPERIOR b DEL SUMATORIO: \"))\n",
    "\n",
    "# Inicializar la variable suma a 0.\n",
    "suma = 0\n",
    "\n",
    "# Bucle for para realizar el cálculo del sumatorio.\n",
    "# La variable i irá tomando los valores: a, a+1, ..., b. Si b<a el bucle no se\n",
    "# se realiza y la suma será 0\n",
    "# En cada iteración del bucle for, la variable suma se incrementa con\n",
    "# el término del sumatorio correspondiente.\n",
    "for i in range(a, b + 1, 1):\n",
    "    suma = suma + (i**2 + 1) / i\n",
    "\n",
    "# Mostrar el valor de suma.\n",
    "print(\"EL RESULTADO DEL SUMATORIO ES:\", suma)"
   ]
  },
  {
   "cell_type": "markdown",
   "metadata": {},
   "source": [
    "## Ejercicio 9"
   ]
  },
  {
   "cell_type": "markdown",
   "metadata": {},
   "source": [
    "Dados dos números enteros $a$ y $b$, escribir un programa que muestre los números enteros pares e impares del intervalo $[a, b]$ en la forma:\n",
    "\n",
    "`10 (par)`\n",
    "\n",
    "`11 (impar)`\n",
    "\n",
    "`12 (par)`\n",
    "\n",
    "`…`"
   ]
  },
  {
   "cell_type": "code",
   "execution_count": null,
   "metadata": {},
   "outputs": [],
   "source": [
    "# Pedir un número a\n",
    "a = int(input(\"INTRODUCE EL NÚMERO a: \"))\n",
    "\n",
    "# Pedir un número b\n",
    "b = int(input(\"INTRODUCE EL NÚMERO b: \"))\n",
    "\n",
    "# Si b<a no habrá salida alguna\n",
    "for i in range (a, b + 1, 1):\n",
    "    if i % 2 == 0:\n",
    "        print(i, \"(par)\")\n",
    "    else:\n",
    "        print(i, \"(impar)\")"
   ]
  },
  {
   "cell_type": "markdown",
   "metadata": {},
   "source": [
    "## Ejercicio 10"
   ]
  },
  {
   "cell_type": "markdown",
   "metadata": {},
   "source": [
    "Dados dos enteros $a\\geq0$ y $b\\geq0$, escribir un programa que calcule su producto utilizando para ello el método de sumas sucesivas y mostrar el resultado."
   ]
  },
  {
   "cell_type": "markdown",
   "metadata": {},
   "source": [
    "### Solución 1"
   ]
  },
  {
   "cell_type": "code",
   "execution_count": null,
   "metadata": {},
   "outputs": [],
   "source": [
    "# Pedir un número mayor o igual que 0.\n",
    "a = int(input(\"INTRODUCE a (>=0): \"))\n",
    "\n",
    "# Pedir un número mayor que 0.\n",
    "b = int(input(\"INTRODUCE b (>=0): \"))\n",
    "\n",
    "# Inicializar la variable producto a 0\n",
    "producto = 0\n",
    "\n",
    "# Bucle for para realizar la multiplicación por sumas sucesivas\n",
    "# Hay que realizar b sumas (número de iteraciones) de a\n",
    "for i in range (1, b + 1, 1):\n",
    "    producto = producto + a\n",
    "\n",
    "# Mostrar producto\n",
    "print(\"Producto:\", a, \"x\", b, \"=\", producto)"
   ]
  },
  {
   "cell_type": "markdown",
   "metadata": {},
   "source": [
    "### Solución 2"
   ]
  },
  {
   "cell_type": "code",
   "execution_count": null,
   "metadata": {},
   "outputs": [],
   "source": [
    "# Pedir un número mayor o igual que 0.\n",
    "a = int(input(\"INTRODUCE a (>=0): \"))\n",
    "\n",
    "# Mientras el número leído sea menor que 0, se seguirá pidiendo un número.\n",
    "while a < 0:\n",
    "    print(\"El valor de a\", a, \"no es válido\")\n",
    "    a = int(input(\"INTRODUCE a (>=0):\"))\n",
    "\n",
    "# Pedir un número mayor que 0.\n",
    "b = int(input(\"INTRODUCE b (>=0): \"))\n",
    "\n",
    "# Mientras el número leído sea menor que 0, se seguirá pidiendo un número.\n",
    "while b < 0:\n",
    "    print(\"El valor de b\", b, \"no es válido\")\n",
    "    b = int(input(\"INTRODUCE b (>=0): \"))\n",
    "\n",
    "# Inicializar la variable producto a 0\n",
    "producto = 0\n",
    "\n",
    "# Bucle for para realizar la multiplicación por sumas sucesivas\n",
    "# Hay que realizar b sumas (número de iteraciones) de a\n",
    "for i in range (1, b + 1, 1):\n",
    "    producto = producto + a\n",
    "\n",
    "# Mostrar producto\n",
    "print(\"Producto:\", a, \"x\", b, \"=\", producto)"
   ]
  },
  {
   "cell_type": "markdown",
   "metadata": {},
   "source": [
    "## Ejercicio 11"
   ]
  },
  {
   "cell_type": "markdown",
   "metadata": {},
   "source": [
    "Dado un número natural $n$, escribir un programa que muestre todos sus divisores en la forma: `Los divisores de 12 son: 1 2 3 4 6 12`"
   ]
  },
  {
   "cell_type": "markdown",
   "metadata": {},
   "source": [
    "### Solución 1"
   ]
  },
  {
   "cell_type": "code",
   "execution_count": null,
   "metadata": {},
   "outputs": [],
   "source": [
    "# Pedir un número mayor que 0.\n",
    "n = int(input(\"INTRODUCE UN NÚMERO (>0): \"))\n",
    "\n",
    "print(\"Los divisores de\", n, \"son:\", end=\" \")\n",
    "\n",
    "# Bucle for que itera de 1 a n\n",
    "for divisor in range (1, n + 1, 1):\n",
    "    if n % divisor == 0:\n",
    "        print(divisor, end=\" \")\n",
    "\n",
    "print()"
   ]
  },
  {
   "cell_type": "markdown",
   "metadata": {},
   "source": [
    "### Solución 2"
   ]
  },
  {
   "cell_type": "code",
   "execution_count": null,
   "metadata": {},
   "outputs": [],
   "source": [
    "# Pedir un número mayor que 0.\n",
    "n = int(input(\"INTRODUCE UN NÚMERO (>0): \"))\n",
    "\n",
    "# Mientras el número leído sea menor o igual que que 0, se seguirá pidiendo un número\n",
    "while n <= 0:\n",
    "    print(\"El valor de n\", n, \"no es válido\")\n",
    "    n = int(input(\"INTRODUCE UN NÚMERO (>0): \"))\n",
    "\n",
    "print(\"Los divisores de\", n, \"son:\", end=\" \")\n",
    "\n",
    "# Bucle for que itera de 1 a n\n",
    "for divisor in range (1, n + 1, 1):\n",
    "    if n % divisor == 0:\n",
    "        print(divisor, end=\" \")\n",
    "\n",
    "print()"
   ]
  },
  {
   "cell_type": "markdown",
   "metadata": {},
   "source": [
    "## Ejercicio 12"
   ]
  },
  {
   "cell_type": "markdown",
   "metadata": {},
   "source": [
    "Dado un número natural n, escribe un programa que clasifique dicho número en: *perfecto*, *abundante*, o, *defectivo*. Además, en este último caso, deberá *indicarse si es o no primo*.\n",
    "\n",
    "Def.: Un número natural se dice que es perfecto si es igual a la suma de todos sus divisores propios (exceptuando él mismo), abundante si la suma es mayor que él y defectivo si la suma es menor.\n",
    "\n",
    "Ejemplo de salida del programa:\n",
    " \n",
    "`El número 6 es perfecto ` (ya que 1 + 2 + 3 = 6)\n",
    "\n",
    "`El número 12 es abundante ` (ya que 1 + 2 + 3 + 4 + 6 > 12)\n",
    "\n",
    "`El número 11 es defectivo y primo ` (ya que 1 < 11)\n"
   ]
  },
  {
   "cell_type": "markdown",
   "metadata": {},
   "source": [
    "### Solución 1"
   ]
  },
  {
   "cell_type": "code",
   "execution_count": null,
   "metadata": {},
   "outputs": [],
   "source": [
    "# Pedir un número mayor que 0.\n",
    "n = int(input(\"INTRODUCE UN NÚMERO (>0): \"))\n",
    "\n",
    "# Inicializar la variable suma a 0\n",
    "suma = 0\n",
    "\n",
    "# Bucle for que itera de 1 a n-1\n",
    "for divisor in range (1, n, 1):\n",
    "    if n % divisor ==0 :\n",
    "        suma = suma + divisor\n",
    "\n",
    "print(\"El número\", n, \"es\", end=\" \")\n",
    "\n",
    "# Clasificar el número n\n",
    "if suma == n:\n",
    "    print(\"perfecto\")\n",
    "elif suma > n:\n",
    "    print(\"abundante\")\n",
    "else:\n",
    "    print(\"defectivo\", end=\" \")\n",
    "    # el número es primo si la suma es 1 y no es el número 1\n",
    "    if suma == 1 and n != 1:\n",
    "        print(\"y primo\", end=\" \")\n",
    "    print()"
   ]
  },
  {
   "cell_type": "markdown",
   "metadata": {},
   "source": [
    "### Solución 2"
   ]
  },
  {
   "cell_type": "code",
   "execution_count": null,
   "metadata": {},
   "outputs": [],
   "source": [
    "n = int(input(\"INTRODUCE UN NÚMERO (>0): \"))\n",
    "\n",
    "# Mientras el número leído sea menor o igual que que 0, se seguirá pidiendo un número.\n",
    "while n <= 0:\n",
    "    print(\"El valor de n\", n, \"no es válido\")\n",
    "    n = int(input(\"INTRODUCE UN NÚMERO (>0): \"))\n",
    "\n",
    "# Inicializar la variable suma a 0\n",
    "suma = 0\n",
    "\n",
    "# Bucle for que itera de 1 a n-1\n",
    "for divisor in range (1, n, 1):\n",
    "    if n % divisor ==0 :\n",
    "        suma = suma + divisor\n",
    "\n",
    "print(\"El número\", n, \"es\", end=\" \")\n",
    "\n",
    "# Clasificar el número n\n",
    "if suma == n:\n",
    "    print(\"perfecto\")\n",
    "elif suma > n:\n",
    "    print(\"abundante\")\n",
    "else:\n",
    "    print(\"defectivo\", end=\" \")\n",
    "    # el número es primo si la suma es 1 y no es el número 1\n",
    "    if suma == 1 and n != 1:\n",
    "        print(\"y primo\", end=\" \")\n",
    "    print()"
   ]
  },
  {
   "cell_type": "markdown",
   "metadata": {},
   "source": [
    "## Ejercicio 13"
   ]
  },
  {
   "cell_type": "markdown",
   "metadata": {},
   "source": [
    "Dado un número natural `n`, escribe un programa para generar (escribir en pantalla) la secuencia de los n primeros números de Perrin. Los tres primeros números de esta secuencia son $P(0)=3, P(1)=0, P(2)=2$ y el resto se obtienen en la forma: $P(n) = P(n-2) + P(n-3) si n>2$.\n",
    "\n",
    "Números de Perrin: `3, 0, 2, 3, 2, 5, 5, 7, 10, 12, 17, 22, 29 …`"
   ]
  },
  {
   "cell_type": "markdown",
   "metadata": {},
   "source": [
    "### Solución 1"
   ]
  },
  {
   "cell_type": "code",
   "execution_count": null,
   "metadata": {},
   "outputs": [],
   "source": [
    "# Pedir un número mayor que 1.\n",
    "n = int(input(\"INTRODUCE UN NÚMERO (>0): \"))\n",
    "\n",
    "# Inicializar variables\n",
    "termino_n_2 = 3  # P(n-2)\n",
    "termino_n_1 = 0  # P(n-1)\n",
    "termino = 2      # P(n)\n",
    "\n",
    "# Escribir los dos primeros términos, P(0) y P(1)\n",
    "print(termino_n_2, termino_n_1, end=\" \")\n",
    "\n",
    "# Bucle for para obtener los números de posiciones 2, 3, 4, ..., n\n",
    "for k in range (2, n + 1, 1):\n",
    "    print(termino, end=\" \")\n",
    "    termino_n_3 = termino_n_2\n",
    "    termino_n_2 = termino_n_1\n",
    "    termino_n_1 = termino\n",
    "    termino = termino_n_2 + termino_n_3\n",
    "\n",
    "print()"
   ]
  },
  {
   "cell_type": "markdown",
   "metadata": {},
   "source": [
    "### Solución 2"
   ]
  },
  {
   "cell_type": "code",
   "execution_count": null,
   "metadata": {},
   "outputs": [],
   "source": [
    "# Pedir un número mayor que 1.\n",
    "n = int(input(\"INTRODUCE UN NÚMERO (>0): \"))\n",
    "\n",
    "# Mientras el número leído sea menor o igual que que 0, se seguirá pidiendo un número.\n",
    "while n <= 0:\n",
    "    print(\"El valor de n\", n, \"no es válido\")\n",
    "    n = int(input(\"INTRODUCE UN NÚMERO (>0): \"))\n",
    "\n",
    "# Inicializar variables\n",
    "termino_n_2 = 3  # P(n-2)\n",
    "termino_n_1 = 0  # P(n-1)\n",
    "termino = 2      # P(n)\n",
    "\n",
    "# Escribir los dos primeros términos, P(0) y P(1)\n",
    "print(termino_n_2, termino_n_1, end=\" \")\n",
    "\n",
    "# Bucle for para obtener los números de posiciones 2, 3, 4, ..., n\n",
    "for k in range (2, n + 1, 1):\n",
    "    print(termino, end=\" \")\n",
    "    termino_n_3 = termino_n_2\n",
    "    termino_n_2 = termino_n_1\n",
    "    termino_n_1 = termino\n",
    "    termino = termino_n_2 + termino_n_3\n",
    "\n",
    "print()"
   ]
  }
 ],
 "metadata": {
  "kernelspec": {
   "display_name": "Python 3",
   "language": "python",
   "name": "python3"
  },
  "language_info": {
   "name": "python",
   "version": "3.9.0 (v3.9.0:9cf6752276, Oct  5 2020, 11:29:23) \n[Clang 6.0 (clang-600.0.57)]"
  },
  "orig_nbformat": 4,
  "vscode": {
   "interpreter": {
    "hash": "aee8b7b246df8f9039afb4144a1f6fd8d2ca17a180786b69acc140d282b71a49"
   }
  }
 },
 "nbformat": 4,
 "nbformat_minor": 2
}
