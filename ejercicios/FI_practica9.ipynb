{
 "cells": [
  {
   "cell_type": "markdown",
   "metadata": {},
   "source": [
    "# Listas 1"
   ]
  },
  {
   "cell_type": "markdown",
   "metadata": {},
   "source": [
    "## Pruebas iniciales (30 min)"
   ]
  },
  {
   "cell_type": "markdown",
   "metadata": {},
   "source": [
    "Usando el intérprete python, crea dos listas llamadas `lista1` y `lista2`. La primera lista contiene tres datos que son: `5`, `8` y `10`. La segunda contiene cinco datos que son `3`, `2`, `9`, `12`, y `4`."
   ]
  },
  {
   "cell_type": "code",
   "execution_count": 10,
   "metadata": {},
   "outputs": [],
   "source": [
    "lista1 = [5,8,10]\n",
    "lista2 = [3,2,9,12,4]"
   ]
  },
  {
   "cell_type": "markdown",
   "metadata": {},
   "source": [
    "### 1.1 Operaciones básicas"
   ]
  },
  {
   "cell_type": "markdown",
   "metadata": {},
   "source": [
    "1. Usa len() para averiguar la longitud de cada lista."
   ]
  },
  {
   "cell_type": "code",
   "execution_count": null,
   "metadata": {},
   "outputs": [],
   "source": [
    "logLista1=len(lista1)\n",
    "\n",
    "print(logLista1)\n",
    "print(len(lista2))\n"
   ]
  },
  {
   "cell_type": "markdown",
   "metadata": {},
   "source": [
    "2. Usa el operador + para concatenarlas, y averigua la longitud del resultado."
   ]
  },
  {
   "cell_type": "code",
   "execution_count": null,
   "metadata": {},
   "outputs": [],
   "source": [
    "lista3 = lista1 + lista2\n",
    "print(len(lista3))"
   ]
  },
  {
   "cell_type": "markdown",
   "metadata": {},
   "source": [
    "3. Encuentra el número mayor de ambas listas (es el 12). Puedes hacerlo, bien encontrando primero el máximo de la lista lista1, después el máximo de la lista lista2 y finalmente el máximo de ambos máximos, o bien encontrando el máximo de la concatenación. Prueba ambos enfoques."
   ]
  },
  {
   "cell_type": "code",
   "execution_count": null,
   "metadata": {},
   "outputs": [],
   "source": [
    "maxL1 = max(lista1)\n",
    "maxL2 = max(lista2)\n",
    "\n",
    "max = maxL1\n",
    "if max < maxL2:\n",
    "    max = maxL2\n",
    "\n",
    "print(max)"
   ]
  },
  {
   "cell_type": "markdown",
   "metadata": {},
   "source": [
    "### 1.2 Acceso a los elementos de la lista"
   ]
  },
  {
   "cell_type": "markdown",
   "metadata": {},
   "source": [
    "4. Escribe una expresión que te de la suma del primer elemento de cada lista (debe sumar el `5` con el `3` y producir `8`)."
   ]
  },
  {
   "cell_type": "code",
   "execution_count": null,
   "metadata": {},
   "outputs": [],
   "source": [
    "res = lista1[0] + lista2[0]\n",
    "print(res)"
   ]
  },
  {
   "cell_type": "markdown",
   "metadata": {},
   "source": [
    "5. Escribe una expresión que sume el último elemento de cada lista. (`10+4`)."
   ]
  },
  {
   "cell_type": "code",
   "execution_count": null,
   "metadata": {},
   "outputs": [],
   "source": [
    "res = lista1[-1] + lista2[-1]\n",
    "print(res)"
   ]
  },
  {
   "cell_type": "markdown",
   "metadata": {},
   "source": [
    "6. Escribe una asignación que sustituya el `8` de la lista `lista1` por un `0`, comprueba que el elemento ha cambiado."
   ]
  },
  {
   "cell_type": "code",
   "execution_count": null,
   "metadata": {},
   "outputs": [],
   "source": [
    "lista1[1] = 0\n",
    "print(lista1)"
   ]
  },
  {
   "cell_type": "markdown",
   "metadata": {},
   "source": [
    "### 1.3 Asignación de listas"
   ]
  },
  {
   "cell_type": "markdown",
   "metadata": {},
   "source": [
    "7. Ejecuta la asignación `lista3=lista2`, y vuelca `lista3` para comprobar que contiene los valores `3`,`2`,`9`,`12` y `4`."
   ]
  },
  {
   "cell_type": "code",
   "execution_count": null,
   "metadata": {},
   "outputs": [],
   "source": [
    "lista3 = lista2\n",
    "print(lista3)"
   ]
  },
  {
   "cell_type": "markdown",
   "metadata": {},
   "source": [
    "8. Modifica `lista3`, de modo que su primer elemento valga `7`. Vuélcala para comprobar que así es."
   ]
  },
  {
   "cell_type": "code",
   "execution_count": null,
   "metadata": {},
   "outputs": [],
   "source": [
    "lista3[0] = 7\n",
    "print(lista3)"
   ]
  },
  {
   "cell_type": "markdown",
   "metadata": {},
   "source": [
    "9. Vuelca ahora `lista2`. Verás que su primer elemento también ha cambiado. Esto se debe a que, a partir de la asignación `lista3=lista2` ambas variables se refieren a la misma lista. "
   ]
  },
  {
   "cell_type": "code",
   "execution_count": null,
   "metadata": {},
   "outputs": [],
   "source": [
    "print(lista2)"
   ]
  },
  {
   "cell_type": "markdown",
   "metadata": {},
   "source": [
    "### 1.4 Recorrido de listas con bucles"
   ]
  },
  {
   "cell_type": "markdown",
   "metadata": {},
   "source": [
    "10. Escribe un bucle que imprima cada elemento de `lista1`."
   ]
  },
  {
   "cell_type": "code",
   "execution_count": null,
   "metadata": {},
   "outputs": [],
   "source": [
    "for i in lista1:\n",
    "    print(i)"
   ]
  },
  {
   "cell_type": "markdown",
   "metadata": {},
   "source": [
    "11. Escribe un bucle que imprima `lista2` “al revés” (comenzando por el último y terminando por el primero)."
   ]
  },
  {
   "cell_type": "code",
   "execution_count": null,
   "metadata": {},
   "outputs": [],
   "source": [
    "for i in lista2[::-1]:\n",
    "    print(i)"
   ]
  },
  {
   "cell_type": "markdown",
   "metadata": {},
   "source": [
    "12. Escribe un bucle que calcule la suma de `lista2` y compáralo con lo que sale haciendo `sum(lista2)`."
   ]
  },
  {
   "cell_type": "code",
   "execution_count": null,
   "metadata": {},
   "outputs": [],
   "source": [
    "res = 0\n",
    "for i in lista2:\n",
    "    res += i\n",
    "print(res)\n",
    "\n",
    "# print(sum(lista2)) # PETA"
   ]
  },
  {
   "cell_type": "markdown",
   "metadata": {},
   "source": [
    "## Ejercicios (30 min)"
   ]
  },
  {
   "cell_type": "markdown",
   "metadata": {},
   "source": [
    "### EJERCICIO 1. SUMAR UNA LISTA"
   ]
  },
  {
   "cell_type": "markdown",
   "metadata": {},
   "source": [
    "Escribe un programa con una función que reciba una lista como parámetro y devuelva la suma de los elementos de la lista. Crea una lista y llama a la función pasando dicha lista como parámetro, e imprime lo que la función retorna. Compáralo con lo que produce `sum()` sobre la misma lista."
   ]
  },
  {
   "cell_type": "code",
   "execution_count": null,
   "metadata": {},
   "outputs": [],
   "source": [
    "def sumaLista(lis):\n",
    "    res = 0\n",
    "    for i in lis:\n",
    "        res += i\n",
    "    return res\n",
    "\n",
    "print(sumaLista([1,2,3,4]))"
   ]
  },
  {
   "cell_type": "markdown",
   "metadata": {},
   "source": [
    "### EJERCICIO 2.ÍNDICE DEL MAYOR"
   ]
  },
  {
   "cell_type": "markdown",
   "metadata": {},
   "source": [
    "Escribe una función que reciba una lista como parámetro y devuelva el índice (la posición) del mayor\n",
    "elemento de la lista. Por ejemplo, si le pasas la lista con los datos `[4, 2, 7, 1, 3]` la función deberá retornar `2`,\n",
    "ya que el mayor elemento de la lista es el `7` y se halla en posición 2 (recuerda que las posiciones se\n",
    "numeran desde cero)."
   ]
  },
  {
   "cell_type": "code",
   "execution_count": null,
   "metadata": {},
   "outputs": [],
   "source": [
    "def maxvalor(lis):\n",
    "    valor = 0\n",
    "    longitud = len(lis)\n",
    "    for i in range(0,longitud):\n",
    "        if valor < lis[i]:\n",
    "            valor = lis[i]\n",
    "    return(valor)\n",
    "\n",
    "print(maxvalor([2,5,3]))\n"
   ]
  },
  {
   "cell_type": "markdown",
   "metadata": {},
   "source": [
    "### EJERCICIO 3. CAMBIAR NEGATIVOS POR CEROS"
   ]
  },
  {
   "cell_type": "markdown",
   "metadata": {},
   "source": [
    "Escribe una función que reciba una lista como parámetro. La función debe modificar la lista cambiando por cero todos los números negativos que la lista contenga. La función retorna un entero que indica cuántos cambios ha hecho. Por ejemplo, si se escriben estas sentencias en el programa:\n",
    "\n",
    "```python\n",
    "    datos = [ 3, -4, 5, 7, -1, 8 ]\n",
    "    print(pon_ceros(datos))\n",
    "    print(datos)\n",
    "```\n",
    "mostrará\n",
    "```\n",
    "    2\n",
    "    [3, 0, 5, 7, 0, 8]\n",
    "```"
   ]
  },
  {
   "cell_type": "code",
   "execution_count": null,
   "metadata": {},
   "outputs": [],
   "source": [
    "def pon_ceros(lis):\n",
    "    longitud = len(lis)\n",
    "    cont_ceros = 0\n",
    "    for i in range(0,longitud):\n",
    "        if lis[i] < 0:\n",
    "            lis[i] = 0\n",
    "            cont_ceros += 1\n",
    "    print(lis)\n",
    "    return(cont_ceros)\n",
    "\n",
    "datos = [3,-4,5,7,-1,8]\n",
    "print(pon_ceros(datos))"
   ]
  },
  {
   "cell_type": "markdown",
   "metadata": {},
   "source": [
    "## 2.1 Ejercicios extra"
   ]
  },
  {
   "cell_type": "markdown",
   "metadata": {},
   "source": [
    "### EJERCICIO 4. SUMA DE LAS POTENCIAS"
   ]
  },
  {
   "cell_type": "markdown",
   "metadata": {},
   "source": [
    "Escribe una función que reciba una lista y un número n (entero o real, es indiferente) como parámetros. Debe calcular el valor de cada elemento de la lista elevado a la potencia n y sumarlos todos, devolviendo el resultado. Es decir, si la lista está compuesta por los elementos $\\{x_i\\}$ , el valor a calcular sería $\\sum x_i^n$"
   ]
  },
  {
   "cell_type": "code",
   "execution_count": null,
   "metadata": {},
   "outputs": [],
   "source": [
    "def suma_potencias(lis, exp):\n",
    "\n",
    "    longitud = len(lis)\n",
    "    sumatorio = 0\n",
    "\n",
    "    for i in range(0,longitud):\n",
    "        lis[i] = lis[i] ** exp\n",
    "        sumatorio += lis[i]\n",
    "\n",
    "    print(lis)\n",
    "    return(sumatorio)\n",
    "\n",
    "datos = [1,2,3]\n",
    "print(suma_potencias(datos,3))"
   ]
  }
 ],
 "metadata": {
  "kernelspec": {
   "display_name": "Python 3.9.0 64-bit",
   "language": "python",
   "name": "python3"
  },
  "language_info": {
   "codemirror_mode": {
    "name": "ipython",
    "version": 3
   },
   "file_extension": ".py",
   "mimetype": "text/x-python",
   "name": "python",
   "nbconvert_exporter": "python",
   "pygments_lexer": "ipython3",
   "version": "3.9.0"
  },
  "orig_nbformat": 4,
  "vscode": {
   "interpreter": {
    "hash": "aee8b7b246df8f9039afb4144a1f6fd8d2ca17a180786b69acc140d282b71a49"
   }
  }
 },
 "nbformat": 4,
 "nbformat_minor": 2
}
