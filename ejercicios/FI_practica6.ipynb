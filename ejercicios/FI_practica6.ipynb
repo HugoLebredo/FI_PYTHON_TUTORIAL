{
 "cells": [
  {
   "cell_type": "markdown",
   "metadata": {},
   "source": [
    "# Bucles WHILE y FOR"
   ]
  },
  {
   "cell_type": "markdown",
   "metadata": {},
   "source": [
    "## Ejercicio 1"
   ]
  },
  {
   "cell_type": "markdown",
   "metadata": {},
   "source": [
    "Dados tres números enteros n $(n\\geq 0)$, a $(a\\geq 0)$ y d $(0 \\leq d \\leq n)$, escribe un programa que calcule y muestre en pantalla, si existe, el primer entero x no negativo tal que la suma de los enteros del rango $[x, x+d]$ sea igual a `a`, siendo $x+d\\leq n$."
   ]
  },
  {
   "cell_type": "markdown",
   "metadata": {},
   "source": [
    "### Solución 1"
   ]
  },
  {
   "cell_type": "code",
   "execution_count": null,
   "metadata": {},
   "outputs": [],
   "source": [
    "# Pedir un número n mayor o igual que 0.\n",
    "n = int(input(\"Introduce el número n (>=0): \"))\n",
    "\n",
    "# Pedir un número a mayor o igual que 0.\n",
    "a = int(input(\"Introduce el número a (>=0): \"))\n",
    "\n",
    "# Pedir un número d (0<=d<=n).\n",
    "d = int(input(\"Introduce el número d (0<=d<=n): \"))\n",
    "\n",
    "# Búsqueda del valor x\n",
    "x = 0\n",
    "\n",
    "# La primera posible solución sería 0, por lo que hay que calcular la suma de los d primeros\n",
    "# enteros positivos\n",
    "suma = 0\n",
    "for k in range(1, d+1, 1):\n",
    "    suma = suma + k\n",
    "\n",
    "# Condición de parada : suma == a or x+d > n\n",
    "while suma != a and x + d <= n:\n",
    "    x = x + 1\n",
    "    suma = suma + d + 1\n",
    "    \n",
    "if suma == a:\n",
    "    print(\"El número buscado es:\", x)\n",
    "else:\n",
    "    print(\"El número buscado no existe\")"
   ]
  },
  {
   "cell_type": "markdown",
   "metadata": {},
   "source": [
    "### Solución 2"
   ]
  },
  {
   "cell_type": "code",
   "execution_count": null,
   "metadata": {},
   "outputs": [],
   "source": [
    "# Pedir un número n mayor o igual que 0.\n",
    "n = int(input(\"Introduce el número n (>=0): \"))\n",
    "\n",
    "# Mientras el número leído sea menor que 0, se seguirá pidiendo un número.\n",
    "while n < 0:\n",
    "    print(\"El valor de n\", n, \"no es válido\")\n",
    "    n = int(input(\"Introduce el número n (>=0): \"));\n",
    "\n",
    "# Pedir un número a mayor o igual que 0.\n",
    "a = int(input(\"Introduce el número a (>=0): \"))\n",
    "\n",
    "# Mientras el número leído sea menor que 0, se seguirá pidiendo un número.\n",
    "while a < 0:\n",
    "    print(\"El valor de a\", a, \"no es válido\")\n",
    "    a = int(input(\"Introduce el número a (>=0): \"));\n",
    "\n",
    "# Pedir un número d (0<=d<=n).\n",
    "d = int(input(\"Introduce el número d (0<=d<=n): \"))\n",
    "\n",
    "# Mientras el número leído sea menor que 0 o mayor que d, se seguirá pidiendo un número.\n",
    "while d < 0 or d > n:\n",
    "    print(\"El valor de d\", d, \"no es válido\")\n",
    "    print(\"introduce un número del intervalo [\", 0, \",\", n, \"]\")\n",
    "    d = int(input(\"Introduce el número d (0<=d<=n): \"));\n",
    "\n",
    "# La primera posible solución sería 0, por lo que hay que calcular la suma de los d primeros\n",
    "# enteros positivos\n",
    "suma = 0\n",
    "for k in range(1, d+1, 1):\n",
    "    suma = suma + k\n",
    "\n",
    "# Búsqueda del valor x\n",
    "x = 0\n",
    "# Condición de parada : suma == a or x+d > n\n",
    "while suma != a and x + d <= n:\n",
    "    x = x + 1\n",
    "    suma = suma + d + 1\n",
    "    \n",
    "if suma == a:\n",
    "    print(\"El número buscado es:\", x)\n",
    "else:\n",
    "    print(\"El número buscado no existe\")"
   ]
  },
  {
   "cell_type": "markdown",
   "metadata": {},
   "source": [
    "## Ejercicio 2"
   ]
  },
  {
   "cell_type": "markdown",
   "metadata": {},
   "source": [
    "Dado un número natural `n`, escribe un programa para mostrar en pantalla **un rectángulo de n filas y, en cada fila, n asteriscos**."
   ]
  },
  {
   "cell_type": "markdown",
   "metadata": {},
   "source": [
    "### Solución 1"
   ]
  },
  {
   "cell_type": "code",
   "execution_count": null,
   "metadata": {},
   "outputs": [],
   "source": [
    "# Pedir un número n mayor que 0.\n",
    "n = int(input(\"Número (>0): \"))\n",
    "\n",
    "# Obtener una cadena de 2*n asteriscos\n",
    "cadena = \"\"\n",
    "for k in range (1, n + 1, 1):\n",
    "    cadena = cadena + '*'\n",
    "\n",
    "# Escribir n veces la cadena en n líneas\n",
    "for k in range (1, n + 1, 1):\n",
    "    print(cadena)"
   ]
  },
  {
   "cell_type": "markdown",
   "metadata": {},
   "source": [
    "### Solución 2"
   ]
  },
  {
   "cell_type": "code",
   "execution_count": null,
   "metadata": {},
   "outputs": [],
   "source": [
    "# Pedir un número n mayor que 0.\n",
    "n = int(input(\"Introduce el número n (>0): \"))\n",
    "\n",
    "# Mientras el número leído sea menor o igual que 0, se seguirá pidiendo un número.\n",
    "while n <= 0:\n",
    "    print(\"El valor de n\", n, \"no es válido\")\n",
    "    n = int(input(\"Introduce el número n (>0): \"));\n",
    "\n",
    "# Obtener una cadena de 2*n asteriscos\n",
    "cadena = \"\"\n",
    "for k in range (1, n + 1, 1):\n",
    "    cadena = cadena + '*'\n",
    "\n",
    "# Escribir n veces la cadena en n líneas\n",
    "for k in range (1, n + 1, 1):\n",
    "    print(cadena)"
   ]
  },
  {
   "cell_type": "markdown",
   "metadata": {},
   "source": [
    "## Ejercicio 3"
   ]
  },
  {
   "cell_type": "markdown",
   "metadata": {},
   "source": [
    "Dados dos números naturales m y n, escribe un programa que muestre en pantalla lasiguiente matriz de m filas y n columnas:\n",
    "A11 A12 … A1n\n",
    "A21 A22 … A2n\n",
    ". . . . . . .\n",
    "Am1 Am2 … Amn"
   ]
  },
  {
   "cell_type": "markdown",
   "metadata": {},
   "source": [
    "### Solución 1"
   ]
  },
  {
   "cell_type": "code",
   "execution_count": null,
   "metadata": {},
   "outputs": [],
   "source": [
    "# Pedir un número m mayor que 0.\n",
    "m = int(input(\"Número de filas m (>0): \"))\n",
    "\n",
    "# Pedir un número n mayor que 0.\n",
    "n = int(input(\"Número de columnas n (>0): \"))\n",
    "\n",
    "# Escribir las m filas\n",
    "for i in range (1, m + 1, 1):\n",
    "    # Escribir las n columnas de la fila i\n",
    "    for j in range (1, n + 1, 1):\n",
    "        print(\"A\" + str(i) + str(j), end=\" \")\n",
    "    print()\n"
   ]
  },
  {
   "cell_type": "markdown",
   "metadata": {},
   "source": [
    "### Solución 2"
   ]
  },
  {
   "cell_type": "code",
   "execution_count": null,
   "metadata": {},
   "outputs": [],
   "source": [
    "# Pedir un número m mayor que 0.\n",
    "m = int(input(\"Número de filas m (>0): \"))\n",
    "\n",
    "# Mientras el número leído sea menor o igual que 0, se seguirá pidiendo un número.\n",
    "while m <= 0:\n",
    "    print(\"El valor de m\", m, \"no es válido\")\n",
    "    m = int(input(\"Número de filas m (>0): \"));\n",
    "\n",
    "# Pedir un número n mayor que 0.\n",
    "n = int(input(\"Número de columnas n (>0): \"))\n",
    "\n",
    "# Mientras el número leído sea menor o igual que 0, se seguirá pidiendo un número.\n",
    "while n <= 0:\n",
    "    print(\"El valor de n\", n, \"no es válido\")\n",
    "    n = int(input(\"Número de columnas n (>0): \"));\n",
    "\n",
    "# Escribir las m filas\n",
    "for i in range (1, m + 1, 1):\n",
    "    # Escribir las n columnas de la fila i\n",
    "    for j in range (1, n + 1, 1):\n",
    "        print(\"A\" + str(i) + str(j), end=\" \")\n",
    "    print()"
   ]
  },
  {
   "cell_type": "markdown",
   "metadata": {},
   "source": [
    "## Ejercicio 4"
   ]
  },
  {
   "cell_type": "markdown",
   "metadata": {},
   "source": [
    "Dados dos números naturales n y a, escribe un programa que obtenga y muestre en pantalla,si existe, el menor entero del rango $[1, n]$ cuyo número de divisores sea igual a `a`."
   ]
  },
  {
   "cell_type": "markdown",
   "metadata": {},
   "source": [
    "### Solución 1"
   ]
  },
  {
   "cell_type": "code",
   "execution_count": null,
   "metadata": {},
   "outputs": [],
   "source": [
    "# Pedir un número n mayor que 0.\n",
    "n = int(input(\"Introduce el número n (>0): \"))\n",
    "\n",
    "# Pedir un número a mayor que 0.\n",
    "a = int(input(\"Valor de a (>0): \"))\n",
    "\n",
    "# Espacio de búsqueda: enteros del rango [1, n]\n",
    "k = 1           # índice que recorre el espacio de búsqueda\n",
    "divisores = 1   # número de divisores\n",
    "while divisores != a and k != n:\n",
    "    k = k + 1\n",
    "    divisores = 0\n",
    "    for divisor in range(1, k + 1, 1):\n",
    "        if k % divisor == 0:\n",
    "            divisores = divisores + 1\n",
    "\n",
    "if divisores == a:\n",
    "    print(\"El número de divisores de\", k, \"es\", a)\n",
    "else:\n",
    "    print(\"No hay ninguno.\")"
   ]
  },
  {
   "cell_type": "markdown",
   "metadata": {},
   "source": [
    "### Solución 2"
   ]
  },
  {
   "cell_type": "code",
   "execution_count": null,
   "metadata": {},
   "outputs": [],
   "source": [
    "# Pedir un número n mayor que 0.\n",
    "n = int(input(\"Introduce el número n (>0): \"))\n",
    "\n",
    "# Mientras el número leído sea menor o igual que 0, se seguirá pidiendo un número.\n",
    "while n <= 0:\n",
    "    print(\"El valor de n\", n, \"no es válido\")\n",
    "    n = int(input(\"Introduce el número n (>0): \"));\n",
    "\n",
    "# Pedir un número a mayor que 0.\n",
    "a = int(input(\"Valor de a (>0): \"))\n",
    "\n",
    "# Mientras el número leído sea menor o igual que 0, se seguirá pidiendo un número.\n",
    "while a <= 0:\n",
    "    print(\"El valor de a\", a, \"no es válido\")\n",
    "    a = int(input(\"Valor de a (>0): \"));\n",
    "\n",
    "# Espacio de búsqueda: enteros del rango [1, n]\n",
    "k = 1           # índice que recorre el espacio de búsqueda\n",
    "divisores = 1   # número de divisores\n",
    "while divisores != a and k != n:\n",
    "    k = k + 1\n",
    "    divisores = 0\n",
    "    for divisor in range(1, k + 1, 1):\n",
    "        if k % divisor == 0:\n",
    "            divisores = divisores + 1\n",
    "if divisores == a:\n",
    "    print(\"El número de divisores de\", k, \"es\", a)\n",
    "else:\n",
    "    print(\"No hay ninguno.\")"
   ]
  },
  {
   "cell_type": "markdown",
   "metadata": {},
   "source": [
    "## Ejercicio 5"
   ]
  },
  {
   "cell_type": "markdown",
   "metadata": {},
   "source": [
    "Dado un número natural n, escribe un programa que muestre en pantalla **todos los números naturales menores que n que sean iguales a la suma de las cifras de sus cubos**."
   ]
  },
  {
   "cell_type": "markdown",
   "metadata": {},
   "source": [
    "### Solución 1"
   ]
  },
  {
   "cell_type": "code",
   "execution_count": null,
   "metadata": {},
   "outputs": [],
   "source": [
    "# Pedir un número n mayor que 0.\n",
    "n = int(input(\"Introduce el número n (>0): \"))\n",
    "\n",
    "# Comprobar cada valor del intervalo [1, n)\n",
    "for k in range (1, n, 1):\n",
    "    cubo = k ** 3\n",
    "    cubo_de_k = cubo\n",
    "    suma = 0\n",
    "    # Condición de parada cubo_de_k == 0\n",
    "    while cubo_de_k != 0:\n",
    "        suma = suma + cubo_de_k % 10\n",
    "        cubo_de_k = cubo_de_k // 10\n",
    "\n",
    "    if k == suma:\n",
    "        print(k, \"su cubo es:\", cubo)\n",
    "print()"
   ]
  },
  {
   "cell_type": "markdown",
   "metadata": {},
   "source": [
    "### Solución 2"
   ]
  },
  {
   "cell_type": "code",
   "execution_count": null,
   "metadata": {},
   "outputs": [],
   "source": [
    "# Pedir un número n mayor que 0.\n",
    "n = int(input(\"Introduce el número n (>0): \"))\n",
    "\n",
    "# Mientras el número leído sea menor o igual que 0, se seguirá pidiendo un número.\n",
    "while n <= 0:\n",
    "    print(\"El valor de n\", n, \"no es válido\")\n",
    "    n = int(input(\"Introduce el número n (>0): \"));\n",
    "\n",
    "# Comprobar cada valor del intervalo [1, n)\n",
    "for k in range (1, n, 1):\n",
    "    cubo = k ** 3\n",
    "    cubo_de_k = cubo\n",
    "    suma = 0\n",
    "    # Condición de parada cubo_de_k == 0\n",
    "    while cubo_de_k != 0:\n",
    "        suma = suma + cubo_de_k % 10\n",
    "        cubo_de_k = cubo_de_k // 10\n",
    "\n",
    "    if k == suma:\n",
    "        print(k, \"su cubo es:\", cubo)\n",
    "print()"
   ]
  },
  {
   "cell_type": "markdown",
   "metadata": {},
   "source": [
    "## Ejercicio 6"
   ]
  },
  {
   "cell_type": "markdown",
   "metadata": {},
   "source": [
    "Dado un número natural n, escribe un programa que proporcione la siguiente salida:\n",
    "1\n",
    "1 2\n",
    ". . . . .\n",
    "1 2 3 ... n-1\n",
    "1 2 3 ... n-1 n"
   ]
  },
  {
   "cell_type": "markdown",
   "metadata": {},
   "source": [
    "### Solución 1"
   ]
  },
  {
   "cell_type": "code",
   "execution_count": null,
   "metadata": {},
   "outputs": [],
   "source": [
    "# Pedir un número n mayor que 0.\n",
    "n = int(input(\"Número de columnas n (>0): \"))\n",
    "\n",
    "# Escribir las n filas\n",
    "for i in range (1, n + 1, 1):\n",
    "    # Escribir las i columnas de la fila i\n",
    "    for j in range (1, i + 1, 1):\n",
    "        print(j, end=\" \")\n",
    "    print()\n"
   ]
  },
  {
   "cell_type": "markdown",
   "metadata": {},
   "source": [
    "### Solución 2"
   ]
  },
  {
   "cell_type": "code",
   "execution_count": null,
   "metadata": {},
   "outputs": [],
   "source": [
    "# Pedir un número n mayor que 0.\n",
    "n = int(input(\"Número de columnas n (>0): \"))\n",
    "\n",
    "# Mientras el número leído sea menor o igual que 0, se seguirá pidiendo un número.\n",
    "while n <= 0:\n",
    "    print(\"El valor de n\", n, \"no es válido\")\n",
    "    n = int(input(\"Número de columnas n (>0): \"));\n",
    "\n",
    "# Escribir las n filas\n",
    "for i in range (1, n + 1, 1):\n",
    "    # Escribir las i columnas de la fila i\n",
    "    for j in range (1, i + 1, 1):\n",
    "        print(j, end=\" \")\n",
    "    print()\n"
   ]
  },
  {
   "cell_type": "markdown",
   "metadata": {},
   "source": [
    "## Ejercicio 7"
   ]
  },
  {
   "cell_type": "markdown",
   "metadata": {},
   "source": [
    "Dado un número natural n, escribe un programa que calcule y muestre la raíz digital y la\n",
    "persistencia aditiva de éste. La persistencia aditiva es el número de veces que hay que sumar los dígitos\n",
    "de un número, inicialmente el número n dado y en sucesivas veces la suma obtenida, para reducir el\n",
    "resultado de ésta a un único dígito. Además, este único dígito será la raíz digital del número n dado.\n",
    "Ejemplo: n = 2089 Suma de dígitos de 2089 = 19\n",
    "Suma de dígitos de 19 = 10\n",
    "Suma de dígitos de 10 = 1\n",
    "Salida del programa: La persistencia aditiva de 2089 es 3 y su raíz digital es 1"
   ]
  },
  {
   "cell_type": "markdown",
   "metadata": {},
   "source": [
    "### Solución 1"
   ]
  },
  {
   "cell_type": "code",
   "execution_count": null,
   "metadata": {},
   "outputs": [],
   "source": [
    "# Pedir un número n mayor que 0.\n",
    "n = int(input(\"Introduce el número n (>0): \"))\n",
    "\n",
    "numero = n      #░para no modificar la información de entrada al programa\n",
    "contador = 0    # número de veces que se hace la suma\n",
    "\n",
    "# Condición de parada: numero consta de un único dígito si numero/10 == 0\n",
    "while numero // 10 != 0:\n",
    "    contador = contador + 1\n",
    "    # numero = suma de los dígitos de numero\n",
    "    suma = 0\n",
    "    # Obtener cada dígito de numero y acumularlo\n",
    "    while numero != 0:\n",
    "        suma = suma + numero % 10\n",
    "        numero = numero // 10\n",
    "    numero = suma\n",
    "\n",
    "print(\"La raíz digital de\", n, \"es:\", numero)\n",
    "print(\"La persistencia aditiva de\", n, \"es:\", contador)"
   ]
  },
  {
   "cell_type": "markdown",
   "metadata": {},
   "source": [
    "### Solución 2"
   ]
  },
  {
   "cell_type": "code",
   "execution_count": null,
   "metadata": {},
   "outputs": [],
   "source": [
    "# Pedir un número n mayor que 0.\n",
    "n = int(input(\"Introduce el número n (>0): \"))\n",
    "\n",
    "# Mientras el número leído sea menor o igual que 0, se seguirá pidiendo un número.\n",
    "while n <= 0:\n",
    "    print(\"El valor de n\", n, \"no es válido\")\n",
    "    n = int(input(\"Número de columnas n (>0): \"));\n",
    "\n",
    "numero = n      #░para no modificar la información de entrada al programa\n",
    "contador = 0    # número de veces que se hace la suma\n",
    "\n",
    "# Condición de parada: numero consta de un único dígito si numero/10 == 0\n",
    "while numero // 10 != 0:\n",
    "    contador = contador + 1\n",
    "    # numero = suma de los dígitos de numero\n",
    "    suma = 0\n",
    "    # Obtener cada dígito de numero y acumularlo\n",
    "    while numero != 0:\n",
    "        suma = suma + numero % 10\n",
    "        numero = numero // 10\n",
    "    numero = suma\n",
    "\n",
    "print(\"La raíz digital de\", n, \"es:\", numero)\n",
    "print(\"La persistencia aditiva de\", n, \"es:\", contador)"
   ]
  }
 ],
 "metadata": {
  "kernelspec": {
   "display_name": "Python 3",
   "language": "python",
   "name": "python3"
  },
  "language_info": {
   "name": "python",
   "version": "3.9.0 (v3.9.0:9cf6752276, Oct  5 2020, 11:29:23) \n[Clang 6.0 (clang-600.0.57)]"
  },
  "orig_nbformat": 4,
  "vscode": {
   "interpreter": {
    "hash": "aee8b7b246df8f9039afb4144a1f6fd8d2ca17a180786b69acc140d282b71a49"
   }
  }
 },
 "nbformat": 4,
 "nbformat_minor": 2
}
